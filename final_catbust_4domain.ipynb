{
 "cells": [
  {
   "cell_type": "code",
   "execution_count": 150,
   "id": "b64fb05a",
   "metadata": {
    "scrolled": true
   },
   "outputs": [
    {
     "name": "stderr",
     "output_type": "stream",
     "text": [
      "Enabling notebook extension jupyter-js-widgets/extension...\n",
      "      - Validating: ok\n"
     ]
    }
   ],
   "source": [
    "!jupyter nbextension enable --py widgetsnbextension"
   ]
  },
  {
   "cell_type": "code",
   "execution_count": 151,
   "id": "28740129",
   "metadata": {},
   "outputs": [],
   "source": [
    "import sys\n",
    "import os\n",
    "import warnings\n",
    "os.environ['OPENBLAS_NUM_THREADS'] = '1'\n",
    "warnings.filterwarnings('ignore')\n",
    "\n",
    "from tqdm import tqdm"
   ]
  },
  {
   "cell_type": "code",
   "execution_count": 152,
   "id": "b907cd02",
   "metadata": {},
   "outputs": [],
   "source": [
    "import pandas as pd\n",
    "import numpy as np\n",
    "import seaborn as sns\n",
    "import time\n",
    "import pyarrow.parquet as pq\n",
    "import scipy\n",
    "from scipy import sparse as sp\n",
    "import implicit\n",
    "import re\n",
    "import bisect\n",
    "import sklearn.metrics as m\n",
    "import catboost\n",
    "from catboost import *\n",
    "from catboost import CatBoostClassifier, CatBoostRegressor, Pool, cv\n",
    "from lightgbm import LGBMClassifier\n",
    "from sklearn.feature_extraction.text import TfidfVectorizer\n",
    "from sklearn.decomposition import PCA, KernelPCA\n",
    "from sklearn.preprocessing import OrdinalEncoder\n",
    "from sklearn.model_selection import train_test_split\n",
    "from sklearn.calibration import calibration_curve, CalibratedClassifierCV\n",
    "from sklearn.model_selection import GridSearchCV\n",
    "\n",
    "import torch\n",
    "from transformers import AutoTokenizer, AutoModel\n",
    "\n",
    "import phik\n",
    "from phik.report import plot_correlation_matrix\n",
    "from phik import report\n",
    "\n",
    "import torch\n",
    "import torch.nn as nn\n",
    "import torch.nn.functional as F\n",
    "import torch.utils.data as data_utils\n",
    "import torch.optim as optim"
   ]
  },
  {
   "cell_type": "code",
   "execution_count": 153,
   "id": "17234b6b",
   "metadata": {},
   "outputs": [
    {
     "name": "stdout",
     "output_type": "stream",
     "text": [
      "1.0.6\n",
      "Python 3.10.4\n"
     ]
    }
   ],
   "source": [
    "print(catboost.__version__)\n",
    "!python --version"
   ]
  },
  {
   "cell_type": "code",
   "execution_count": 154,
   "id": "e762eacd",
   "metadata": {},
   "outputs": [],
   "source": [
    "LOCAL_DATA_PATH = './context_data/'\n",
    "SPLIT_SEED = 42\n",
    "DATA_FILE = 'competition_data_final_pqt'\n",
    "TARGET_FILE = 'public_train.pqt'\n",
    "SUBMISSION_FILE = 'submit.pqt'\n",
    "COLUMNS_NO_URL = ['region_name','city_name','cpe_manufacturer_name','cpe_model_name','cpe_type_cd','cpe_model_os_type','price','part_of_day','user_id']\n",
    "CATEGORICAL_FEATURES=['region_name','city_name','cpe_manufacturer_name','cpe_model_name','cpe_type_cd','cpe_model_os_type','part_of_day']"
   ]
  },
  {
   "cell_type": "markdown",
   "id": "71111305",
   "metadata": {},
   "source": [
    "## Чтение данных"
   ]
  },
  {
   "cell_type": "markdown",
   "id": "bb11606d",
   "metadata": {},
   "source": [
    "### id_to_submit"
   ]
  },
  {
   "cell_type": "code",
   "execution_count": 155,
   "id": "8c1af0db",
   "metadata": {},
   "outputs": [],
   "source": [
    "id_to_submit = pq.read_table(f'{LOCAL_DATA_PATH}/{SUBMISSION_FILE}').to_pandas()"
   ]
  },
  {
   "cell_type": "code",
   "execution_count": 156,
   "id": "f5ef84a3",
   "metadata": {},
   "outputs": [
    {
     "data": {
      "text/html": [
       "<div>\n",
       "<style scoped>\n",
       "    .dataframe tbody tr th:only-of-type {\n",
       "        vertical-align: middle;\n",
       "    }\n",
       "\n",
       "    .dataframe tbody tr th {\n",
       "        vertical-align: top;\n",
       "    }\n",
       "\n",
       "    .dataframe thead th {\n",
       "        text-align: right;\n",
       "    }\n",
       "</style>\n",
       "<table border=\"1\" class=\"dataframe\">\n",
       "  <thead>\n",
       "    <tr style=\"text-align: right;\">\n",
       "      <th></th>\n",
       "      <th>user_id</th>\n",
       "    </tr>\n",
       "  </thead>\n",
       "  <tbody>\n",
       "    <tr>\n",
       "      <th>221301</th>\n",
       "      <td>221301</td>\n",
       "    </tr>\n",
       "    <tr>\n",
       "      <th>31271</th>\n",
       "      <td>31271</td>\n",
       "    </tr>\n",
       "  </tbody>\n",
       "</table>\n",
       "</div>"
      ],
      "text/plain": [
       "        user_id\n",
       "221301   221301\n",
       "31271     31271"
      ]
     },
     "execution_count": 156,
     "metadata": {},
     "output_type": "execute_result"
    }
   ],
   "source": [
    "id_to_submit.head(2)"
   ]
  },
  {
   "cell_type": "code",
   "execution_count": 157,
   "id": "0fa1282a",
   "metadata": {},
   "outputs": [
    {
     "data": {
      "text/plain": [
       "(144724, 1)"
      ]
     },
     "execution_count": 157,
     "metadata": {},
     "output_type": "execute_result"
    }
   ],
   "source": [
    "id_to_submit.shape"
   ]
  },
  {
   "cell_type": "markdown",
   "id": "8fb52102",
   "metadata": {},
   "source": [
    "### targets"
   ]
  },
  {
   "cell_type": "code",
   "execution_count": 158,
   "id": "a18fd856",
   "metadata": {},
   "outputs": [],
   "source": [
    "targets = pq.read_table(f'{LOCAL_DATA_PATH}/{TARGET_FILE}').to_pandas()"
   ]
  },
  {
   "cell_type": "code",
   "execution_count": 159,
   "id": "837eb3f9",
   "metadata": {},
   "outputs": [
    {
     "data": {
      "text/html": [
       "<div>\n",
       "<style scoped>\n",
       "    .dataframe tbody tr th:only-of-type {\n",
       "        vertical-align: middle;\n",
       "    }\n",
       "\n",
       "    .dataframe tbody tr th {\n",
       "        vertical-align: top;\n",
       "    }\n",
       "\n",
       "    .dataframe thead th {\n",
       "        text-align: right;\n",
       "    }\n",
       "</style>\n",
       "<table border=\"1\" class=\"dataframe\">\n",
       "  <thead>\n",
       "    <tr style=\"text-align: right;\">\n",
       "      <th></th>\n",
       "      <th>age</th>\n",
       "      <th>is_male</th>\n",
       "      <th>user_id</th>\n",
       "    </tr>\n",
       "  </thead>\n",
       "  <tbody>\n",
       "    <tr>\n",
       "      <th>350459</th>\n",
       "      <td>31.0</td>\n",
       "      <td>1</td>\n",
       "      <td>350459</td>\n",
       "    </tr>\n",
       "    <tr>\n",
       "      <th>188276</th>\n",
       "      <td>35.0</td>\n",
       "      <td>1</td>\n",
       "      <td>188276</td>\n",
       "    </tr>\n",
       "  </tbody>\n",
       "</table>\n",
       "</div>"
      ],
      "text/plain": [
       "         age is_male  user_id\n",
       "350459  31.0       1   350459\n",
       "188276  35.0       1   188276"
      ]
     },
     "execution_count": 159,
     "metadata": {},
     "output_type": "execute_result"
    }
   ],
   "source": [
    "targets.head(2)"
   ]
  },
  {
   "cell_type": "markdown",
   "id": "55972a74",
   "metadata": {},
   "source": [
    "### data"
   ]
  },
  {
   "cell_type": "code",
   "execution_count": null,
   "id": "d72c52fe",
   "metadata": {},
   "outputs": [],
   "source": [
    "data = pq.read_table(f'{LOCAL_DATA_PATH}/{DATA_FILE}').to_pandas()"
   ]
  },
  {
   "cell_type": "code",
   "execution_count": null,
   "id": "f5d2531c",
   "metadata": {},
   "outputs": [],
   "source": [
    "data.info()"
   ]
  },
  {
   "cell_type": "code",
   "execution_count": null,
   "id": "57d0fcf3",
   "metadata": {},
   "outputs": [],
   "source": [
    "data.head(2)"
   ]
  },
  {
   "cell_type": "markdown",
   "id": "dc1e0c72",
   "metadata": {},
   "source": [
    "Регион   \n",
    ", населенный пункт   \n",
    ", производиель устройства   \n",
    ", модель устроства   \n",
    ", домен, с которого пришел рекламный запрос   \n",
    ", тип устройства (смартфон или что-то другое)   \n",
    ", операционка на устройстве   \n",
    ", оценка цены устройства   \n",
    ", дата   \n",
    ", время дня (утро, вечер ...)   \n",
    ", число запросов   \n",
    ", id пользователя   "
   ]
  },
  {
   "cell_type": "markdown",
   "id": "90899901",
   "metadata": {},
   "source": [
    "## Предобработка данных"
   ]
  },
  {
   "cell_type": "markdown",
   "id": "ae33f952",
   "metadata": {},
   "source": [
    "### Targets"
   ]
  },
  {
   "cell_type": "markdown",
   "id": "6aa31d76",
   "metadata": {},
   "source": [
    "#### age"
   ]
  },
  {
   "cell_type": "code",
   "execution_count": 160,
   "id": "8fe31666",
   "metadata": {
    "scrolled": true
   },
   "outputs": [
    {
     "name": "stdout",
     "output_type": "stream",
     "text": [
      "<class 'pandas.core.frame.DataFrame'>\n",
      "Int64Index: 270000 entries, 350459 to 103148\n",
      "Data columns (total 3 columns):\n",
      " #   Column   Non-Null Count   Dtype  \n",
      "---  ------   --------------   -----  \n",
      " 0   age      269999 non-null  float64\n",
      " 1   is_male  269958 non-null  object \n",
      " 2   user_id  270000 non-null  int64  \n",
      "dtypes: float64(1), int64(1), object(1)\n",
      "memory usage: 8.2+ MB\n"
     ]
    }
   ],
   "source": [
    "targets.info()"
   ]
  },
  {
   "cell_type": "code",
   "execution_count": 161,
   "id": "4cb97733",
   "metadata": {},
   "outputs": [
    {
     "name": "stdout",
     "output_type": "stream",
     "text": [
      "<class 'pandas.core.frame.DataFrame'>\n",
      "Int64Index: 269957 entries, 350459 to 103148\n",
      "Data columns (total 3 columns):\n",
      " #   Column   Non-Null Count   Dtype  \n",
      "---  ------   --------------   -----  \n",
      " 0   age      269957 non-null  float64\n",
      " 1   is_male  269957 non-null  object \n",
      " 2   user_id  269957 non-null  int64  \n",
      "dtypes: float64(1), int64(1), object(1)\n",
      "memory usage: 8.2+ MB\n"
     ]
    }
   ],
   "source": [
    "targets.dropna(inplace=True)\n",
    "targets.info()"
   ]
  },
  {
   "cell_type": "markdown",
   "id": "2f557ddc",
   "metadata": {},
   "source": [
    "**В задаче требуется определять возраст с 18 лет, понизим данное значение для первого баккета до 16 лет.**"
   ]
  },
  {
   "cell_type": "code",
   "execution_count": 162,
   "id": "7da827fe",
   "metadata": {},
   "outputs": [],
   "source": [
    "def age_bucket(x):\n",
    "    return bisect.bisect_left([1,25,35,45,55,65], x)"
   ]
  },
  {
   "cell_type": "code",
   "execution_count": 163,
   "id": "f58e256b",
   "metadata": {},
   "outputs": [],
   "source": [
    "targets['age_target'] = targets['age'].map(age_bucket)"
   ]
  },
  {
   "cell_type": "raw",
   "id": "d7670c8c",
   "metadata": {},
   "source": [
    "Класс 1 —19-25, Класс 2 —26-35, Класс 3 —36-45, Класс 4 —46-55, Класс 5 —56-65, Класс 6— 66+"
   ]
  },
  {
   "cell_type": "raw",
   "id": "8eae51cf",
   "metadata": {},
   "source": [
    "targets.head(50)"
   ]
  },
  {
   "cell_type": "markdown",
   "id": "6faff2b1",
   "metadata": {},
   "source": [
    "**Разбивка на группы по возрастам корректная**"
   ]
  },
  {
   "cell_type": "code",
   "execution_count": 164,
   "id": "69821412",
   "metadata": {},
   "outputs": [
    {
     "data": {
      "text/plain": [
       "2    87270\n",
       "3    77486\n",
       "4    42442\n",
       "1    33647\n",
       "5    23580\n",
       "6     5503\n",
       "0       29\n",
       "Name: age_target, dtype: int64"
      ]
     },
     "execution_count": 164,
     "metadata": {},
     "output_type": "execute_result"
    }
   ],
   "source": [
    "targets['age_target'].value_counts()"
   ]
  },
  {
   "cell_type": "code",
   "execution_count": 165,
   "id": "444d3584",
   "metadata": {},
   "outputs": [],
   "source": [
    "targets = targets[targets['age_target'] != 0]"
   ]
  },
  {
   "cell_type": "code",
   "execution_count": 166,
   "id": "63cd0101",
   "metadata": {},
   "outputs": [
    {
     "data": {
      "text/plain": [
       "<AxesSubplot:>"
      ]
     },
     "execution_count": 166,
     "metadata": {},
     "output_type": "execute_result"
    },
    {
     "data": {
      "image/png": "[encoded data removed]",
      "text/plain": [
       "<Figure size 800x500 with 1 Axes>"
      ]
     },
     "metadata": {},
     "output_type": "display_data"
    }
   ],
   "source": [
    "targets['age_target'].value_counts().plot(kind='bar',figsize=(8,5), alpha=1)"
   ]
  },
  {
   "cell_type": "markdown",
   "id": "d69c8e5b",
   "metadata": {},
   "source": [
    "#### is_male"
   ]
  },
  {
   "cell_type": "code",
   "execution_count": 167,
   "id": "5695058b",
   "metadata": {},
   "outputs": [
    {
     "data": {
      "text/plain": [
       "1     135314\n",
       "0     128982\n",
       "NA      5632\n",
       "Name: is_male, dtype: int64"
      ]
     },
     "execution_count": 167,
     "metadata": {},
     "output_type": "execute_result"
    }
   ],
   "source": [
    "targets['is_male'].value_counts()"
   ]
  },
  {
   "cell_type": "code",
   "execution_count": 168,
   "id": "56b69637",
   "metadata": {},
   "outputs": [],
   "source": [
    "targets = targets[targets['is_male'] != 'NA']"
   ]
  },
  {
   "cell_type": "code",
   "execution_count": 169,
   "id": "46624ef1",
   "metadata": {},
   "outputs": [
    {
     "data": {
      "text/plain": [
       "1    135314\n",
       "0    128982\n",
       "Name: is_male, dtype: int64"
      ]
     },
     "execution_count": 169,
     "metadata": {},
     "output_type": "execute_result"
    }
   ],
   "source": [
    "targets['is_male'].value_counts()"
   ]
  },
  {
   "cell_type": "markdown",
   "id": "7e99c4e8",
   "metadata": {},
   "source": [
    "**Много удалил NA!**"
   ]
  },
  {
   "cell_type": "markdown",
   "id": "cf3d364a",
   "metadata": {},
   "source": [
    "#### готовый target"
   ]
  },
  {
   "cell_type": "code",
   "execution_count": 170,
   "id": "614256c3",
   "metadata": {},
   "outputs": [],
   "source": [
    "targets = targets.astype('int')"
   ]
  },
  {
   "cell_type": "code",
   "execution_count": 171,
   "id": "d98ef291",
   "metadata": {},
   "outputs": [
    {
     "name": "stdout",
     "output_type": "stream",
     "text": [
      "<class 'pandas.core.frame.DataFrame'>\n",
      "Int64Index: 264296 entries, 350459 to 103148\n",
      "Data columns (total 4 columns):\n",
      " #   Column      Non-Null Count   Dtype\n",
      "---  ------      --------------   -----\n",
      " 0   age         264296 non-null  int32\n",
      " 1   is_male     264296 non-null  int32\n",
      " 2   user_id     264296 non-null  int32\n",
      " 3   age_target  264296 non-null  int32\n",
      "dtypes: int32(4)\n",
      "memory usage: 6.0 MB\n"
     ]
    }
   ],
   "source": [
    "targets.info()"
   ]
  },
  {
   "cell_type": "code",
   "execution_count": 172,
   "id": "ca247f99",
   "metadata": {},
   "outputs": [
    {
     "data": {
      "text/html": [
       "<div>\n",
       "<style scoped>\n",
       "    .dataframe tbody tr th:only-of-type {\n",
       "        vertical-align: middle;\n",
       "    }\n",
       "\n",
       "    .dataframe tbody tr th {\n",
       "        vertical-align: top;\n",
       "    }\n",
       "\n",
       "    .dataframe thead th {\n",
       "        text-align: right;\n",
       "    }\n",
       "</style>\n",
       "<table border=\"1\" class=\"dataframe\">\n",
       "  <thead>\n",
       "    <tr style=\"text-align: right;\">\n",
       "      <th></th>\n",
       "      <th>age</th>\n",
       "      <th>is_male</th>\n",
       "      <th>user_id</th>\n",
       "      <th>age_target</th>\n",
       "    </tr>\n",
       "  </thead>\n",
       "  <tbody>\n",
       "    <tr>\n",
       "      <th>350459</th>\n",
       "      <td>31</td>\n",
       "      <td>1</td>\n",
       "      <td>350459</td>\n",
       "      <td>2</td>\n",
       "    </tr>\n",
       "    <tr>\n",
       "      <th>188276</th>\n",
       "      <td>35</td>\n",
       "      <td>1</td>\n",
       "      <td>188276</td>\n",
       "      <td>2</td>\n",
       "    </tr>\n",
       "  </tbody>\n",
       "</table>\n",
       "</div>"
      ],
      "text/plain": [
       "        age  is_male  user_id  age_target\n",
       "350459   31        1   350459           2\n",
       "188276   35        1   188276           2"
      ]
     },
     "execution_count": 172,
     "metadata": {},
     "output_type": "execute_result"
    }
   ],
   "source": [
    "targets.head(2)"
   ]
  },
  {
   "cell_type": "markdown",
   "id": "bccb3710",
   "metadata": {},
   "source": [
    "### Data"
   ]
  },
  {
   "cell_type": "markdown",
   "id": "59cf3a46",
   "metadata": {},
   "source": [
    "### Создание признака день недели"
   ]
  },
  {
   "cell_type": "code",
   "execution_count": null,
   "id": "fd453fc4",
   "metadata": {},
   "outputs": [],
   "source": [
    "data['day_of_week'] = pd.to_datetime(data['date']).dt.dayofweek\n",
    "data['day_of_week'] = data['day_of_week'].astype('str')"
   ]
  },
  {
   "cell_type": "code",
   "execution_count": null,
   "id": "ec6d61be",
   "metadata": {},
   "outputs": [],
   "source": [
    "data[['user_id','day_of_week','part_of_day']].to_parquet('data_day_of_week_part_of_day.pqt')"
   ]
  },
  {
   "cell_type": "markdown",
   "id": "f2f6bef4",
   "metadata": {},
   "source": [
    "#### url_host only v.2"
   ]
  },
  {
   "cell_type": "code",
   "execution_count": 37,
   "id": "c6685f2d",
   "metadata": {},
   "outputs": [],
   "source": [
    "data_url_only = data[['user_id','url_host']]"
   ]
  },
  {
   "cell_type": "code",
   "execution_count": 38,
   "id": "25e92cf5",
   "metadata": {},
   "outputs": [],
   "source": [
    "def clip_domain(url):\n",
    "    if url == None:\n",
    "        return 'None'\n",
    "    else:\n",
    "        list_subdomain = url.split('.')\n",
    "        if len(list_subdomain) > 3:\n",
    "            return f'{list_subdomain[-4]}{list_subdomain[-3]}{list_subdomain[-2]}{list_subdomain[-1]}'\n",
    "        if len(list_subdomain) == 3:\n",
    "            return f'{list_subdomain[-3]}{list_subdomain[-2]}{list_subdomain[-1]}'\n",
    "        if len(list_subdomain) == 2:\n",
    "            return f'{list_subdomain[-2]}{list_subdomain[-1]}'\n",
    "        if len(list_subdomain) < 2:\n",
    "            return f'{list_subdomain[-1]}'"
   ]
  },
  {
   "cell_type": "code",
   "execution_count": 39,
   "id": "775a478b",
   "metadata": {},
   "outputs": [
    {
     "name": "stdout",
     "output_type": "stream",
     "text": [
      "CPU times: total: 4min 30s\n",
      "Wall time: 4min 30s\n"
     ]
    }
   ],
   "source": [
    "%%time\n",
    "data_url_only['url_host'] = data_url_only['url_host'].apply(clip_domain)\n",
    "data_url_only.to_parquet('data_url_only.pqt')"
   ]
  },
  {
   "cell_type": "markdown",
   "id": "393ed7c6",
   "metadata": {},
   "source": [
    "##### ПРИЗНАК текстовый на имени домана 2 уровня"
   ]
  },
  {
   "cell_type": "code",
   "execution_count": 39,
   "id": "b297531d",
   "metadata": {},
   "outputs": [],
   "source": [
    "data_url_only = pq.read_table(f'data_url_only.pqt').to_pandas()"
   ]
  },
  {
   "cell_type": "code",
   "execution_count": 92,
   "id": "16f98fff",
   "metadata": {},
   "outputs": [],
   "source": [
    "def creat_text(row):\n",
    "\n",
    "    return \" \".join(row)"
   ]
  },
  {
   "cell_type": "code",
   "execution_count": 93,
   "id": "70fad0d2",
   "metadata": {},
   "outputs": [
    {
     "name": "stdout",
     "output_type": "stream",
     "text": [
      "CPU times: total: 56.3 s\n",
      "Wall time: 56.3 s\n"
     ]
    }
   ],
   "source": [
    "%%time\n",
    "feature_url_only_XX_2_domains_without_dot_text = data_url_only.groupby('user_id')['url_host'].agg(['unique'])\n",
    "feature_url_only_XX_2_domains_without_dot_text['text_2_domains'] = feature_url_only_XX_2_domains_without_dot_text['unique'].apply(creat_text)\n",
    "feature_url_only_XX_2_domains_without_dot_text.drop(columns = ['unique'], inplace=True)\n",
    "feature_url_only_XX_2_domains_without_dot_text['user_id']=feature_url_only_XX_2_domains_without_dot_text.index\n",
    "feature_url_only_XX_2_domains_without_dot_text.to_parquet('feature_url_only_XX_2_domains_without_dot_text_v2.pqt')"
   ]
  },
  {
   "cell_type": "code",
   "execution_count": 94,
   "id": "c64c5901",
   "metadata": {},
   "outputs": [
    {
     "data": {
      "text/html": [
       "<div>\n",
       "<style scoped>\n",
       "    .dataframe tbody tr th:only-of-type {\n",
       "        vertical-align: middle;\n",
       "    }\n",
       "\n",
       "    .dataframe tbody tr th {\n",
       "        vertical-align: top;\n",
       "    }\n",
       "\n",
       "    .dataframe thead th {\n",
       "        text-align: right;\n",
       "    }\n",
       "</style>\n",
       "<table border=\"1\" class=\"dataframe\">\n",
       "  <thead>\n",
       "    <tr style=\"text-align: right;\">\n",
       "      <th></th>\n",
       "      <th>text_2_domains</th>\n",
       "      <th>user_id</th>\n",
       "    </tr>\n",
       "    <tr>\n",
       "      <th>user_id</th>\n",
       "      <th></th>\n",
       "      <th></th>\n",
       "    </tr>\n",
       "  </thead>\n",
       "  <tbody>\n",
       "    <tr>\n",
       "      <th>0</th>\n",
       "      <td>s02mdnnet avatarsmdsyandexnet googleadsgdouble...</td>\n",
       "      <td>0</td>\n",
       "    </tr>\n",
       "    <tr>\n",
       "      <th>1</th>\n",
       "      <td>avatarsmdsyandexnet iytimgcom adsbetweendigita...</td>\n",
       "      <td>1</td>\n",
       "    </tr>\n",
       "    <tr>\n",
       "      <th>2</th>\n",
       "      <td>lentarumediaeagleplatformcom iytimgcom node1on...</td>\n",
       "      <td>2</td>\n",
       "    </tr>\n",
       "    <tr>\n",
       "      <th>3</th>\n",
       "      <td>admailru avatarsmdsyandexnet mailyandexru pozd...</td>\n",
       "      <td>3</td>\n",
       "    </tr>\n",
       "    <tr>\n",
       "      <th>4</th>\n",
       "      <td>kpmd yastaticnet avatarsmdsyandexnet sun9-85us...</td>\n",
       "      <td>4</td>\n",
       "    </tr>\n",
       "    <tr>\n",
       "      <th>...</th>\n",
       "      <td>...</td>\n",
       "      <td>...</td>\n",
       "    </tr>\n",
       "    <tr>\n",
       "      <th>415312</th>\n",
       "      <td>googleadsgdoubleclicknet</td>\n",
       "      <td>415312</td>\n",
       "    </tr>\n",
       "    <tr>\n",
       "      <th>415313</th>\n",
       "      <td>avatarsmdsyandexnet</td>\n",
       "      <td>415313</td>\n",
       "    </tr>\n",
       "    <tr>\n",
       "      <th>415314</th>\n",
       "      <td>vkcom</td>\n",
       "      <td>415314</td>\n",
       "    </tr>\n",
       "    <tr>\n",
       "      <th>415315</th>\n",
       "      <td>yandexru</td>\n",
       "      <td>415315</td>\n",
       "    </tr>\n",
       "    <tr>\n",
       "      <th>415316</th>\n",
       "      <td>googleadsgdoubleclicknet</td>\n",
       "      <td>415316</td>\n",
       "    </tr>\n",
       "  </tbody>\n",
       "</table>\n",
       "<p>415317 rows × 2 columns</p>\n",
       "</div>"
      ],
      "text/plain": [
       "                                            text_2_domains  user_id\n",
       "user_id                                                            \n",
       "0        s02mdnnet avatarsmdsyandexnet googleadsgdouble...        0\n",
       "1        avatarsmdsyandexnet iytimgcom adsbetweendigita...        1\n",
       "2        lentarumediaeagleplatformcom iytimgcom node1on...        2\n",
       "3        admailru avatarsmdsyandexnet mailyandexru pozd...        3\n",
       "4        kpmd yastaticnet avatarsmdsyandexnet sun9-85us...        4\n",
       "...                                                    ...      ...\n",
       "415312                            googleadsgdoubleclicknet   415312\n",
       "415313                                 avatarsmdsyandexnet   415313\n",
       "415314                                               vkcom   415314\n",
       "415315                                            yandexru   415315\n",
       "415316                            googleadsgdoubleclicknet   415316\n",
       "\n",
       "[415317 rows x 2 columns]"
      ]
     },
     "execution_count": 94,
     "metadata": {},
     "output_type": "execute_result"
    }
   ],
   "source": [
    "feature_url_only_XX_2_domains_without_dot_text"
   ]
  },
  {
   "cell_type": "markdown",
   "id": "506cc1d2",
   "metadata": {},
   "source": [
    "##### ПРИЗНАКИ текстовые на имени домана 2 уровня для дней недели и времени дня"
   ]
  },
  {
   "cell_type": "code",
   "execution_count": 6,
   "id": "cabdc58e",
   "metadata": {},
   "outputs": [
    {
     "data": {
      "text/html": [
       "<div>\n",
       "<style scoped>\n",
       "    .dataframe tbody tr th:only-of-type {\n",
       "        vertical-align: middle;\n",
       "    }\n",
       "\n",
       "    .dataframe tbody tr th {\n",
       "        vertical-align: top;\n",
       "    }\n",
       "\n",
       "    .dataframe thead th {\n",
       "        text-align: right;\n",
       "    }\n",
       "</style>\n",
       "<table border=\"1\" class=\"dataframe\">\n",
       "  <thead>\n",
       "    <tr style=\"text-align: right;\">\n",
       "      <th></th>\n",
       "      <th>user_id</th>\n",
       "      <th>url_host</th>\n",
       "      <th>day_of_week</th>\n",
       "      <th>part_of_day</th>\n",
       "    </tr>\n",
       "  </thead>\n",
       "  <tbody>\n",
       "    <tr>\n",
       "      <th>0</th>\n",
       "      <td>45098</td>\n",
       "      <td>adadriverru</td>\n",
       "      <td>2</td>\n",
       "      <td>morning</td>\n",
       "    </tr>\n",
       "    <tr>\n",
       "      <th>1</th>\n",
       "      <td>45098</td>\n",
       "      <td>applecom</td>\n",
       "      <td>6</td>\n",
       "      <td>morning</td>\n",
       "    </tr>\n",
       "  </tbody>\n",
       "</table>\n",
       "</div>"
      ],
      "text/plain": [
       "   user_id     url_host day_of_week part_of_day\n",
       "0    45098  adadriverru           2     morning\n",
       "1    45098     applecom           6     morning"
      ]
     },
     "execution_count": 6,
     "metadata": {},
     "output_type": "execute_result"
    }
   ],
   "source": [
    "data_url_only = pq.read_table(f'data_url_only.pqt').to_pandas()\n",
    "data_day_of_week_part_of_day = pq.read_table(f'data_day_of_week_part_of_day.pqt').to_pandas()\n",
    "data = pd.concat((data_url_only,\n",
    "                  data_day_of_week_part_of_day.drop('user_id', axis=1),\n",
    "                ), axis=1)\n",
    "data.head(2)"
   ]
  },
  {
   "cell_type": "code",
   "execution_count": 7,
   "id": "0d7672ea",
   "metadata": {},
   "outputs": [],
   "source": [
    "def creat_text(row):\n",
    "\n",
    "    return \" \".join(row)"
   ]
  },
  {
   "cell_type": "code",
   "execution_count": 8,
   "id": "a592f68b",
   "metadata": {},
   "outputs": [
    {
     "name": "stderr",
     "output_type": "stream",
     "text": [
      "100%|███████████████████████████████████████████████████████████████████████████████████| 7/7 [42:16<00:00, 362.33s/it]\n"
     ]
    }
   ],
   "source": [
    "for day_of_week in tqdm(['0','1','2','3','4','5','6']):\n",
    "    for part_of_day in ['morning','day','evening','night']:\n",
    "        data_temp = data[['user_id','url_host','day_of_week','part_of_day']]\n",
    "        data_temp.loc[(data_temp['day_of_week'] != day_of_week) | (data_temp['part_of_day'] != part_of_day), 'url_host'] = ''\n",
    "        feature = data_temp.groupby('user_id')['url_host'].agg(['unique'])\n",
    "        feature[f'text_day_{day_of_week}_{part_of_day}'] = feature['unique'].apply(creat_text)\n",
    "        feature.drop(columns = ['unique'], inplace=True)\n",
    "        feature['user_id']=feature.index\n",
    "        feature.to_parquet(f'feature_url_only_text_day_{day_of_week}_{part_of_day}.pqt')\n",
    "        "
   ]
  },
  {
   "cell_type": "markdown",
   "id": "3f6d2356",
   "metadata": {},
   "source": [
    "##### ПРИЗНАКИ текстовые на имени домана 2 уровня для рабочих дней недели и времени дня"
   ]
  },
  {
   "cell_type": "code",
   "execution_count": 73,
   "id": "7c8f084f",
   "metadata": {},
   "outputs": [
    {
     "data": {
      "text/html": [
       "<div>\n",
       "<style scoped>\n",
       "    .dataframe tbody tr th:only-of-type {\n",
       "        vertical-align: middle;\n",
       "    }\n",
       "\n",
       "    .dataframe tbody tr th {\n",
       "        vertical-align: top;\n",
       "    }\n",
       "\n",
       "    .dataframe thead th {\n",
       "        text-align: right;\n",
       "    }\n",
       "</style>\n",
       "<table border=\"1\" class=\"dataframe\">\n",
       "  <thead>\n",
       "    <tr style=\"text-align: right;\">\n",
       "      <th></th>\n",
       "      <th>user_id</th>\n",
       "      <th>url_host</th>\n",
       "      <th>day_of_week</th>\n",
       "      <th>part_of_day</th>\n",
       "    </tr>\n",
       "  </thead>\n",
       "  <tbody>\n",
       "    <tr>\n",
       "      <th>0</th>\n",
       "      <td>45098</td>\n",
       "      <td>adadriverru</td>\n",
       "      <td>2</td>\n",
       "      <td>morning</td>\n",
       "    </tr>\n",
       "    <tr>\n",
       "      <th>1</th>\n",
       "      <td>45098</td>\n",
       "      <td>applecom</td>\n",
       "      <td>6</td>\n",
       "      <td>morning</td>\n",
       "    </tr>\n",
       "  </tbody>\n",
       "</table>\n",
       "</div>"
      ],
      "text/plain": [
       "   user_id     url_host day_of_week part_of_day\n",
       "0    45098  adadriverru           2     morning\n",
       "1    45098     applecom           6     morning"
      ]
     },
     "execution_count": 73,
     "metadata": {},
     "output_type": "execute_result"
    }
   ],
   "source": [
    "data_url_only = pq.read_table(f'data_url_only.pqt').to_pandas()\n",
    "data_day_of_week_part_of_day = pq.read_table(f'data_day_of_week_part_of_day.pqt').to_pandas()\n",
    "data = pd.concat((data_url_only,\n",
    "                  data_day_of_week_part_of_day.drop('user_id', axis=1),\n",
    "                ), axis=1)\n",
    "data.head(2)"
   ]
  },
  {
   "cell_type": "code",
   "execution_count": 74,
   "id": "2f5ec7b9",
   "metadata": {},
   "outputs": [],
   "source": [
    "def creat_text(row):\n",
    "\n",
    "    return \" \".join(row)"
   ]
  },
  {
   "cell_type": "code",
   "execution_count": 75,
   "id": "5584465b",
   "metadata": {},
   "outputs": [
    {
     "name": "stderr",
     "output_type": "stream",
     "text": [
      "100%|███████████████████████████████████████████████████████████████████████████████████| 4/4 [08:02<00:00, 120.75s/it]\n"
     ]
    }
   ],
   "source": [
    "for part_of_day in tqdm(['morning','day','evening','night']):\n",
    "    data_temp = data[['user_id','url_host','day_of_week','part_of_day']]\n",
    "    data_temp.loc[(data_temp['day_of_week'] == '5') | (data_temp['day_of_week'] == '6') | (data_temp['part_of_day'] != part_of_day), 'url_host'] = ''\n",
    "    feature = data_temp.groupby('user_id')['url_host'].agg(['unique'])\n",
    "    feature[f'text_workday_{part_of_day}'] = feature['unique'].apply(creat_text)\n",
    "    feature.drop(columns = ['unique'], inplace=True)\n",
    "    feature['user_id']=feature.index\n",
    "    feature.to_parquet(f'feature_url_only_text_workday_{part_of_day}.pqt')"
   ]
  },
  {
   "cell_type": "markdown",
   "id": "75f4a120",
   "metadata": {},
   "source": [
    "##### ПРИЗНАКИ текстовые на имени домана 2 уровня для выходных дней недели и времени дня"
   ]
  },
  {
   "cell_type": "code",
   "execution_count": 76,
   "id": "3c4b1fb7",
   "metadata": {},
   "outputs": [
    {
     "data": {
      "text/html": [
       "<div>\n",
       "<style scoped>\n",
       "    .dataframe tbody tr th:only-of-type {\n",
       "        vertical-align: middle;\n",
       "    }\n",
       "\n",
       "    .dataframe tbody tr th {\n",
       "        vertical-align: top;\n",
       "    }\n",
       "\n",
       "    .dataframe thead th {\n",
       "        text-align: right;\n",
       "    }\n",
       "</style>\n",
       "<table border=\"1\" class=\"dataframe\">\n",
       "  <thead>\n",
       "    <tr style=\"text-align: right;\">\n",
       "      <th></th>\n",
       "      <th>user_id</th>\n",
       "      <th>url_host</th>\n",
       "      <th>day_of_week</th>\n",
       "      <th>part_of_day</th>\n",
       "    </tr>\n",
       "  </thead>\n",
       "  <tbody>\n",
       "    <tr>\n",
       "      <th>0</th>\n",
       "      <td>45098</td>\n",
       "      <td>adadriverru</td>\n",
       "      <td>2</td>\n",
       "      <td>morning</td>\n",
       "    </tr>\n",
       "    <tr>\n",
       "      <th>1</th>\n",
       "      <td>45098</td>\n",
       "      <td>applecom</td>\n",
       "      <td>6</td>\n",
       "      <td>morning</td>\n",
       "    </tr>\n",
       "  </tbody>\n",
       "</table>\n",
       "</div>"
      ],
      "text/plain": [
       "   user_id     url_host day_of_week part_of_day\n",
       "0    45098  adadriverru           2     morning\n",
       "1    45098     applecom           6     morning"
      ]
     },
     "execution_count": 76,
     "metadata": {},
     "output_type": "execute_result"
    }
   ],
   "source": [
    "data_url_only = pq.read_table(f'data_url_only.pqt').to_pandas()\n",
    "data_day_of_week_part_of_day = pq.read_table(f'data_day_of_week_part_of_day.pqt').to_pandas()\n",
    "data = pd.concat((data_url_only,\n",
    "                  data_day_of_week_part_of_day.drop('user_id', axis=1),\n",
    "                ), axis=1)\n",
    "data.head(2)"
   ]
  },
  {
   "cell_type": "code",
   "execution_count": 77,
   "id": "f43a7b7a",
   "metadata": {},
   "outputs": [],
   "source": [
    "def creat_text(row):\n",
    "\n",
    "    return \" \".join(row)"
   ]
  },
  {
   "cell_type": "code",
   "execution_count": 78,
   "id": "f338160e",
   "metadata": {},
   "outputs": [
    {
     "name": "stderr",
     "output_type": "stream",
     "text": [
      "100%|███████████████████████████████████████████████████████████████████████████████████| 4/4 [07:49<00:00, 117.36s/it]\n"
     ]
    }
   ],
   "source": [
    "for part_of_day in tqdm(['morning','day','evening','night']):\n",
    "    data_temp = data[['user_id','url_host','day_of_week','part_of_day']]\n",
    "    data_temp.loc[((data_temp['day_of_week'] != '5') & (data_temp['day_of_week'] != '6')) | (data_temp['part_of_day'] != part_of_day), 'url_host'] = ''\n",
    "    feature = data_temp.groupby('user_id')['url_host'].agg(['unique'])\n",
    "    feature[f'text_weekend_{part_of_day}'] = feature['unique'].apply(creat_text)\n",
    "    feature.drop(columns = ['unique'], inplace=True)\n",
    "    feature['user_id']=feature.index\n",
    "    feature.to_parquet(f'feature_url_only_text_weekend_{part_of_day}.pqt')"
   ]
  },
  {
   "cell_type": "markdown",
   "id": "18fb0ac9",
   "metadata": {},
   "source": [
    "##### ПРИЗНАКИ текстовые на имени домена 2 уровня для времени дня"
   ]
  },
  {
   "cell_type": "code",
   "execution_count": 79,
   "id": "d322bd4e",
   "metadata": {},
   "outputs": [
    {
     "data": {
      "text/html": [
       "<div>\n",
       "<style scoped>\n",
       "    .dataframe tbody tr th:only-of-type {\n",
       "        vertical-align: middle;\n",
       "    }\n",
       "\n",
       "    .dataframe tbody tr th {\n",
       "        vertical-align: top;\n",
       "    }\n",
       "\n",
       "    .dataframe thead th {\n",
       "        text-align: right;\n",
       "    }\n",
       "</style>\n",
       "<table border=\"1\" class=\"dataframe\">\n",
       "  <thead>\n",
       "    <tr style=\"text-align: right;\">\n",
       "      <th></th>\n",
       "      <th>user_id</th>\n",
       "      <th>url_host</th>\n",
       "      <th>day_of_week</th>\n",
       "      <th>part_of_day</th>\n",
       "    </tr>\n",
       "  </thead>\n",
       "  <tbody>\n",
       "    <tr>\n",
       "      <th>0</th>\n",
       "      <td>45098</td>\n",
       "      <td>adadriverru</td>\n",
       "      <td>2</td>\n",
       "      <td>morning</td>\n",
       "    </tr>\n",
       "    <tr>\n",
       "      <th>1</th>\n",
       "      <td>45098</td>\n",
       "      <td>applecom</td>\n",
       "      <td>6</td>\n",
       "      <td>morning</td>\n",
       "    </tr>\n",
       "  </tbody>\n",
       "</table>\n",
       "</div>"
      ],
      "text/plain": [
       "   user_id     url_host day_of_week part_of_day\n",
       "0    45098  adadriverru           2     morning\n",
       "1    45098     applecom           6     morning"
      ]
     },
     "execution_count": 79,
     "metadata": {},
     "output_type": "execute_result"
    }
   ],
   "source": [
    "data_url_only = pq.read_table(f'data_url_only.pqt').to_pandas()\n",
    "data_day_of_week_part_of_day = pq.read_table(f'data_day_of_week_part_of_day.pqt').to_pandas()\n",
    "data = pd.concat((data_url_only,\n",
    "                  data_day_of_week_part_of_day.drop('user_id', axis=1),\n",
    "                ), axis=1)\n",
    "data.head(2)"
   ]
  },
  {
   "cell_type": "code",
   "execution_count": 80,
   "id": "91d36934",
   "metadata": {},
   "outputs": [],
   "source": [
    "def creat_text(row):\n",
    "\n",
    "    return \" \".join(row)"
   ]
  },
  {
   "cell_type": "code",
   "execution_count": 81,
   "id": "1358df6b",
   "metadata": {},
   "outputs": [
    {
     "name": "stderr",
     "output_type": "stream",
     "text": [
      "100%|████████████████████████████████████████████████████████████████████████████████████| 4/4 [05:42<00:00, 85.53s/it]\n"
     ]
    }
   ],
   "source": [
    "for part_of_day in tqdm(['morning','day','evening','night']):\n",
    "    data_temp = data[['user_id','url_host','part_of_day']]\n",
    "    data_temp.loc[(data_temp['part_of_day'] != part_of_day), 'url_host'] = ''\n",
    "    feature = data_temp.groupby('user_id')['url_host'].agg(['unique'])\n",
    "    feature[f'text_{part_of_day}'] = feature['unique'].apply(creat_text)\n",
    "    feature.drop(columns = ['unique'], inplace=True)\n",
    "    feature['user_id']=feature.index\n",
    "    feature.to_parquet(f'feature_url_only_text_{part_of_day}.pqt')"
   ]
  },
  {
   "cell_type": "markdown",
   "id": "891df16b",
   "metadata": {},
   "source": [
    "##### ПРИЗНАКИ текстовые на имени домена 2 уровня для дней недели"
   ]
  },
  {
   "cell_type": "code",
   "execution_count": 82,
   "id": "1b369eb9",
   "metadata": {},
   "outputs": [
    {
     "data": {
      "text/html": [
       "<div>\n",
       "<style scoped>\n",
       "    .dataframe tbody tr th:only-of-type {\n",
       "        vertical-align: middle;\n",
       "    }\n",
       "\n",
       "    .dataframe tbody tr th {\n",
       "        vertical-align: top;\n",
       "    }\n",
       "\n",
       "    .dataframe thead th {\n",
       "        text-align: right;\n",
       "    }\n",
       "</style>\n",
       "<table border=\"1\" class=\"dataframe\">\n",
       "  <thead>\n",
       "    <tr style=\"text-align: right;\">\n",
       "      <th></th>\n",
       "      <th>user_id</th>\n",
       "      <th>url_host</th>\n",
       "      <th>day_of_week</th>\n",
       "      <th>part_of_day</th>\n",
       "    </tr>\n",
       "  </thead>\n",
       "  <tbody>\n",
       "    <tr>\n",
       "      <th>0</th>\n",
       "      <td>45098</td>\n",
       "      <td>adadriverru</td>\n",
       "      <td>2</td>\n",
       "      <td>morning</td>\n",
       "    </tr>\n",
       "    <tr>\n",
       "      <th>1</th>\n",
       "      <td>45098</td>\n",
       "      <td>applecom</td>\n",
       "      <td>6</td>\n",
       "      <td>morning</td>\n",
       "    </tr>\n",
       "  </tbody>\n",
       "</table>\n",
       "</div>"
      ],
      "text/plain": [
       "   user_id     url_host day_of_week part_of_day\n",
       "0    45098  adadriverru           2     morning\n",
       "1    45098     applecom           6     morning"
      ]
     },
     "execution_count": 82,
     "metadata": {},
     "output_type": "execute_result"
    }
   ],
   "source": [
    "data_url_only = pq.read_table(f'data_url_only.pqt').to_pandas()\n",
    "data_day_of_week_part_of_day = pq.read_table(f'data_day_of_week_part_of_day.pqt').to_pandas()\n",
    "data = pd.concat((data_url_only,\n",
    "                  data_day_of_week_part_of_day.drop('user_id', axis=1),\n",
    "                ), axis=1)\n",
    "data.head(2)"
   ]
  },
  {
   "cell_type": "code",
   "execution_count": 83,
   "id": "4f217077",
   "metadata": {},
   "outputs": [],
   "source": [
    "def creat_text(row):\n",
    "\n",
    "    return \" \".join(row)"
   ]
  },
  {
   "cell_type": "code",
   "execution_count": 84,
   "id": "f9e2c32c",
   "metadata": {},
   "outputs": [
    {
     "name": "stderr",
     "output_type": "stream",
     "text": [
      "100%|████████████████████████████████████████████████████████████████████████████████████| 7/7 [09:33<00:00, 81.90s/it]\n"
     ]
    }
   ],
   "source": [
    "for day_of_week in tqdm(['0','1','2','3','4','5','6']):\n",
    "        data_temp = data[['user_id','url_host','day_of_week']]\n",
    "        data_temp.loc[data_temp['day_of_week'] != day_of_week, 'url_host'] = ''\n",
    "        feature = data_temp.groupby('user_id')['url_host'].agg(['unique'])\n",
    "        feature[f'text_day_{day_of_week}'] = feature['unique'].apply(creat_text)\n",
    "        feature.drop(columns = ['unique'], inplace=True)\n",
    "        feature['user_id']=feature.index\n",
    "        feature.to_parquet(f'feature_url_only_text_day_{day_of_week}.pqt')"
   ]
  },
  {
   "cell_type": "markdown",
   "id": "22e73a20",
   "metadata": {},
   "source": [
    "#### ПРИЗНАК region_city"
   ]
  },
  {
   "cell_type": "code",
   "execution_count": null,
   "id": "2c2ae352",
   "metadata": {},
   "outputs": [],
   "source": [
    "feature_region_text = data[['user_id','region_name','city_name']]\n",
    "#data.drop(['region_name','city_name'], axis=1, inplace=True)\n",
    "feature_region_text = feature_region_text.groupby('user_id')['region_name','city_name'].agg(['unique'])\n",
    "feature_region_text['region_text'] = \"\""
   ]
  },
  {
   "cell_type": "code",
   "execution_count": null,
   "id": "1e8c8124",
   "metadata": {},
   "outputs": [],
   "source": [
    "# перевод в набор слов списка городов и регионов\n",
    "def lemmatize_region(unique):\n",
    "\n",
    "    text = \"\"\n",
    "    for i in range(len(unique)):\n",
    "        text +=unique[i]+' '\n",
    "    return text"
   ]
  },
  {
   "cell_type": "code",
   "execution_count": null,
   "id": "9d152fbf",
   "metadata": {
    "scrolled": false
   },
   "outputs": [],
   "source": [
    "for i in tqdm(feature_region_text.index):\n",
    "    text = lemmatize_region(feature_region_text.loc[i,'region_name']['unique']) \\\n",
    "         + lemmatize_region(feature_region_text.loc[i,'city_name']['unique'])\n",
    "    \n",
    "    for word in ['область','Республика','край']:\n",
    "        text = re.sub(word,'',text)\n",
    "    feature_region_text['region_text'].loc[i] = text     \n"
   ]
  },
  {
   "cell_type": "code",
   "execution_count": null,
   "id": "889afbe1",
   "metadata": {},
   "outputs": [],
   "source": [
    "feature_region_text = pd.DataFrame(feature_region_text['region_text']).reset_index()\n",
    "feature_region_text.to_parquet('feature_region_text.pqt')"
   ]
  },
  {
   "cell_type": "code",
   "execution_count": null,
   "id": "ea21e900",
   "metadata": {},
   "outputs": [],
   "source": [
    "feature_region_text.head(2)"
   ]
  },
  {
   "cell_type": "markdown",
   "id": "a2baa7df",
   "metadata": {},
   "source": [
    "#### ПРИЗНАК cpe_manufacturer_name,\tcpe_model_name"
   ]
  },
  {
   "cell_type": "code",
   "execution_count": null,
   "id": "5d8dab18",
   "metadata": {},
   "outputs": [],
   "source": [
    "feature_manufacturer_model = data[['user_id','cpe_manufacturer_name','cpe_model_name']]\n",
    "#data.drop(['cpe_manufacturer_name','cpe_model_name','cpe_type_cd','cpe_model_os_type'], axis=1, inplace=True)\n",
    "feature_manufacturer_model = feature_manufacturer_model.groupby('user_id')['cpe_manufacturer_name','cpe_model_name'].agg(['unique'])\n",
    "feature_manufacturer_model = pd.DataFrame(feature_manufacturer_model.values).reset_index().rename(columns={'index':'user_id',0:'manufacturer',1:'model'})\n",
    "for i in tqdm(feature_manufacturer_model.index):\n",
    "    feature_manufacturer_model['manufacturer'][i] = feature_manufacturer_model['manufacturer'][i][0]\n",
    "    feature_manufacturer_model['model'][i] = feature_manufacturer_model['model'][i][0]\n",
    "feature_manufacturer_model.to_parquet('feature_manufacturer_model.pqt')\n",
    "feature_manufacturer_model.head(2)"
   ]
  },
  {
   "cell_type": "markdown",
   "id": "d47fbdc4",
   "metadata": {},
   "source": [
    "#### ПРИЗНАК cpe_type_cd,\tcpe_model_os_type"
   ]
  },
  {
   "cell_type": "code",
   "execution_count": null,
   "id": "679e6d3e",
   "metadata": {},
   "outputs": [],
   "source": [
    "feature_cpe_os = data[['user_id','cpe_type_cd','cpe_model_os_type']]\n",
    "#data.drop(['cpe_type_cd','cpe_model_os_type'], axis=1, inplace=True)\n",
    "feature_cpe_os = feature_cpe_os.groupby('user_id')['cpe_type_cd','cpe_model_os_type'].agg(['unique'])\n",
    "feature_cpe_os = pd.DataFrame(feature_cpe_os.values).reset_index().rename(columns={'index':'user_id',0:'cpe_type_cd',1:'cpe_model_os_type'})\n",
    "for i in tqdm(feature_cpe_os.index):\n",
    "    feature_cpe_os['cpe_type_cd'][i] = feature_cpe_os['cpe_type_cd'][i][0]\n",
    "    feature_cpe_os['cpe_model_os_type'][i] = feature_cpe_os['cpe_model_os_type'][i][0]\n",
    "feature_cpe_os.loc[feature_cpe_os['cpe_model_os_type'] == 'Apple iOS','cpe_model_os_type'] = 'iOS'\n",
    "feature_cpe_os.to_parquet('feature_cpe_os.pqt')\n",
    "feature_cpe_os.head(2)"
   ]
  },
  {
   "cell_type": "markdown",
   "id": "ae49a5d3",
   "metadata": {},
   "source": [
    "#### ПРИЗНАК part_of_day"
   ]
  },
  {
   "cell_type": "code",
   "execution_count": null,
   "id": "d3d9380b",
   "metadata": {
    "scrolled": true
   },
   "outputs": [],
   "source": [
    "feature_part_of_day = data[['user_id','part_of_day']]\n",
    "#data.drop(['part_of_day'], axis=1, inplace=True)\n",
    "feature_part_of_day = feature_part_of_day.groupby('user_id')['part_of_day'].agg(['sum'])"
   ]
  },
  {
   "cell_type": "code",
   "execution_count": null,
   "id": "bd26049f",
   "metadata": {},
   "outputs": [],
   "source": [
    "def part_of_day_count(text):\n",
    "    \n",
    "        \n",
    "    morning_count = text.count('morning')\n",
    "    day_count = text.count('day')\n",
    "    evening_count = text.count('evening')\n",
    "    night_count = text.count('night')\n",
    "    \n",
    "    all_count = morning_count+day_count+evening_count+night_count\n",
    "    \n",
    "    morning_count_norm = morning_count/all_count\n",
    "    day_count_norm = day_count/all_count\n",
    "    evening_count_norm = evening_count/all_count\n",
    "    night_count_norm = night_count/all_count  \n",
    "    \n",
    "    return (morning_count, \n",
    "            day_count, \n",
    "            evening_count, \n",
    "            night_count, \n",
    "            all_count, \n",
    "            morning_count_norm, \n",
    "            day_count_norm, \n",
    "            evening_count_norm, \n",
    "            night_count_norm)"
   ]
  },
  {
   "cell_type": "code",
   "execution_count": null,
   "id": "f17ff2da",
   "metadata": {},
   "outputs": [],
   "source": [
    "part_of_day_list = {'user_id': [], \n",
    "                    'morning_count': [], \n",
    "                    'day_count': [], \n",
    "                    'evening_count': [], \n",
    "                    'night_count': [], \n",
    "                    'all_count': [], \n",
    "                    'morning_count_norm': [], \n",
    "                    'day_count_norm': [], \n",
    "                    'evening_count_norm': [], \n",
    "                    'night_count_norm': []}\n",
    "\n",
    "for i in tqdm(feature_part_of_day.index):\n",
    "    part_of_day = part_of_day_count(feature_part_of_day.loc[i,'sum'])\n",
    "    part_of_day_list['user_id'].append(i)\n",
    "    part_of_day_list['morning_count'].append(part_of_day[0])\n",
    "    part_of_day_list['day_count'].append(part_of_day[1])\n",
    "    part_of_day_list['evening_count'].append(part_of_day[2])\n",
    "    part_of_day_list['night_count'].append(part_of_day[3])\n",
    "    part_of_day_list['all_count'].append(part_of_day[4])\n",
    "    part_of_day_list['morning_count_norm'].append(part_of_day[5])\n",
    "    part_of_day_list['day_count_norm'].append(part_of_day[6])\n",
    "    part_of_day_list['evening_count_norm'].append(part_of_day[7])\n",
    "    part_of_day_list['night_count_norm'].append(part_of_day[8])\n",
    "    \n",
    "    \n",
    "feature_part_of_day = pd.DataFrame(data=part_of_day_list)\n",
    "del part_of_day_list\n",
    "feature_part_of_day.to_parquet('feature_part_of_day.pqt')"
   ]
  },
  {
   "cell_type": "code",
   "execution_count": null,
   "id": "f09ad429",
   "metadata": {},
   "outputs": [],
   "source": [
    "feature_part_of_day.head(2)"
   ]
  },
  {
   "cell_type": "code",
   "execution_count": null,
   "id": "b853b70d",
   "metadata": {},
   "outputs": [],
   "source": []
  },
  {
   "cell_type": "markdown",
   "id": "64d99a60",
   "metadata": {},
   "source": [
    "#### ПРИЗНАК part_of_week"
   ]
  },
  {
   "cell_type": "code",
   "execution_count": null,
   "id": "3476fbae",
   "metadata": {},
   "outputs": [],
   "source": [
    "feature_day_of_week = data[['user_id','day_of_week']]\n",
    "#data.drop(['date'], axis=1, inplace=True)"
   ]
  },
  {
   "cell_type": "code",
   "execution_count": null,
   "id": "f5bfca46",
   "metadata": {},
   "outputs": [],
   "source": [
    "feature_day_of_week = feature_day_of_week.groupby('user_id')['day_of_week'].agg(['sum'])"
   ]
  },
  {
   "cell_type": "code",
   "execution_count": null,
   "id": "afcda124",
   "metadata": {},
   "outputs": [],
   "source": [
    "def day_of_week_count(text):\n",
    "    \n",
    "    day_0_count = text.count('0')\n",
    "    day_1_count = text.count('1')\n",
    "    day_2_count = text.count('2')\n",
    "    day_3_count = text.count('3')\n",
    "    day_4_count = text.count('4')\n",
    "    day_5_count = text.count('5')\n",
    "    day_6_count = text.count('6')\n",
    "    \n",
    "    day_all_count = day_0_count+day_1_count+day_2_count+day_3_count+day_4_count+day_5_count+day_6_count\n",
    "    \n",
    "    day_0_count_norm = day_0_count / day_all_count\n",
    "    day_1_count_norm = day_1_count / day_all_count\n",
    "    day_2_count_norm = day_2_count / day_all_count\n",
    "    day_3_count_norm = day_3_count / day_all_count\n",
    "    day_4_count_norm = day_4_count / day_all_count\n",
    "    day_5_count_norm = day_5_count / day_all_count\n",
    "    day_6_count_norm = day_6_count / day_all_count\n",
    "    \n",
    "    \n",
    "    return (day_0_count, \n",
    "            day_1_count, \n",
    "            day_2_count, \n",
    "            day_3_count, \n",
    "            day_4_count, \n",
    "            day_5_count, \n",
    "            day_6_count, \n",
    "            day_all_count, \n",
    "            day_0_count_norm, \n",
    "            day_1_count_norm,\n",
    "            day_2_count_norm, \n",
    "            day_3_count_norm, \n",
    "            day_4_count_norm, \n",
    "            day_5_count_norm, \n",
    "            day_6_count_norm)"
   ]
  },
  {
   "cell_type": "code",
   "execution_count": null,
   "id": "cecb5519",
   "metadata": {},
   "outputs": [],
   "source": [
    "day_of_week_list = {\n",
    "    'user_id': [], \n",
    "    'day_0_count': [],\n",
    "    'day_1_count': [],\n",
    "    'day_2_count': [],\n",
    "    'day_3_count': [],\n",
    "    'day_4_count': [],\n",
    "    'day_5_count': [],\n",
    "    'day_6_count': [],\n",
    "    'day_all_count': [],\n",
    "    'day_0_count_norm': [],\n",
    "    'day_1_count_norm': [],\n",
    "    'day_2_count_norm': [],\n",
    "    'day_3_count_norm': [],\n",
    "    'day_4_count_norm': [],\n",
    "    'day_5_count_norm': [],\n",
    "    'day_6_count_norm': [],\n",
    "}\n",
    "\n",
    "for i in tqdm(feature_day_of_week.index):\n",
    "    day_of_week = day_of_week_count(feature_day_of_week.loc[i,'sum'])\n",
    "    day_of_week_list['user_id'].append(i)\n",
    "    day_of_week_list['day_0_count'].append(day_of_week[0])\n",
    "    day_of_week_list['day_1_count'].append(day_of_week[1])\n",
    "    day_of_week_list['day_2_count'].append(day_of_week[2])\n",
    "    day_of_week_list['day_3_count'].append(day_of_week[3])\n",
    "    day_of_week_list['day_4_count'].append(day_of_week[4])\n",
    "    day_of_week_list['day_5_count'].append(day_of_week[5])\n",
    "    day_of_week_list['day_6_count'].append(day_of_week[6])\n",
    "    day_of_week_list['day_all_count'].append(day_of_week[7])\n",
    "    day_of_week_list['day_0_count_norm'].append(day_of_week[8])\n",
    "    day_of_week_list['day_1_count_norm'].append(day_of_week[9])\n",
    "    day_of_week_list['day_2_count_norm'].append(day_of_week[10])\n",
    "    day_of_week_list['day_3_count_norm'].append(day_of_week[11])\n",
    "    day_of_week_list['day_4_count_norm'].append(day_of_week[12])\n",
    "    day_of_week_list['day_5_count_norm'].append(day_of_week[13])\n",
    "    day_of_week_list['day_6_count_norm'].append(day_of_week[14])\n",
    "    \n",
    "feature_day_of_week = pd.DataFrame(data=day_of_week_list)\n",
    "del day_of_week_list\n",
    "feature_day_of_week.to_parquet('feature_day_of_week.pqt')"
   ]
  },
  {
   "cell_type": "code",
   "execution_count": null,
   "id": "ae088216",
   "metadata": {},
   "outputs": [],
   "source": [
    "feature_day_of_week.head(2)"
   ]
  },
  {
   "cell_type": "markdown",
   "id": "16b235d8",
   "metadata": {},
   "source": [
    "#### ПРИЗНАК price"
   ]
  },
  {
   "cell_type": "code",
   "execution_count": null,
   "id": "f10ed9f3",
   "metadata": {},
   "outputs": [],
   "source": [
    "data_price = data[['user_id','price']]\n",
    "#data.drop(['price'], axis=1, inplace=True)"
   ]
  },
  {
   "cell_type": "code",
   "execution_count": null,
   "id": "e3a83e6f",
   "metadata": {},
   "outputs": [],
   "source": [
    "data_model = data[['user_id','cpe_model_name']]\n",
    "data_model = data_model.groupby('user_id')['cpe_model_name'].agg(['unique'])"
   ]
  },
  {
   "cell_type": "code",
   "execution_count": null,
   "id": "b2bec333",
   "metadata": {
    "scrolled": true
   },
   "outputs": [],
   "source": [
    "feature_price = data_price.groupby('user_id')['price'].agg(['min','max','mean','std'])\n",
    "user_not_price = feature_price[feature_price['min'].isna()].index.tolist()\n",
    "model_name = data[['user_id','cpe_model_name']].query('user_id in @user_not_price')['cpe_model_name'].unique()"
   ]
  },
  {
   "cell_type": "code",
   "execution_count": null,
   "id": "68d9fe19",
   "metadata": {},
   "outputs": [],
   "source": [
    "feature_price.head()"
   ]
  },
  {
   "cell_type": "code",
   "execution_count": null,
   "id": "629b07e6",
   "metadata": {},
   "outputs": [],
   "source": [
    "data_model_price_list = {\n",
    "    'model':[],\n",
    "    'price':[]\n",
    "}\n",
    "data_model_price = data[['cpe_model_name','price']]\n",
    "for model in tqdm(model_name):\n",
    "    data_model_price_list['model'].append(model)\n",
    "    data_model_price_list['price'].append(data_model_price[data_model_price['cpe_model_name'] == model]['price'].mean())"
   ]
  },
  {
   "cell_type": "code",
   "execution_count": null,
   "id": "d401a943",
   "metadata": {},
   "outputs": [],
   "source": [
    "data_model_no_price = pd.DataFrame(data=data_model_price_list)\n",
    "data_model_no_price.to_parquet('data_model_no_price.pqt')\n",
    "data_model_no_price = pd.read_parquet(f'data_model_no_price.pqt')"
   ]
  },
  {
   "cell_type": "code",
   "execution_count": null,
   "id": "08547707",
   "metadata": {},
   "outputs": [],
   "source": [
    "user_not_price_models = data_model.query('user_id in @user_not_price')\n",
    "user_not_price_models['mean_price'] = np.nan"
   ]
  },
  {
   "cell_type": "code",
   "execution_count": null,
   "id": "466c651e",
   "metadata": {},
   "outputs": [],
   "source": [
    "user_not_price_models = pd.DataFrame(user_not_price_models.reset_index().values, columns=('user_id','model','model_price'))"
   ]
  },
  {
   "cell_type": "code",
   "execution_count": null,
   "id": "3c121211",
   "metadata": {},
   "outputs": [],
   "source": [
    "for i in tqdm(data_model_no_price.index):\n",
    "    \n",
    "    user_not_price_models.loc[user_not_price_models['model'] == data_model_no_price.loc[i,'model'], 'model_price'] = data_model_no_price.loc[i,'price']"
   ]
  },
  {
   "cell_type": "code",
   "execution_count": null,
   "id": "83f19209",
   "metadata": {},
   "outputs": [],
   "source": [
    "user_not_price_models.head()"
   ]
  },
  {
   "cell_type": "code",
   "execution_count": null,
   "id": "3e212c8d",
   "metadata": {},
   "outputs": [],
   "source": [
    "feature_price = feature_price.reset_index()"
   ]
  },
  {
   "cell_type": "code",
   "execution_count": null,
   "id": "8369fff4",
   "metadata": {},
   "outputs": [],
   "source": [
    "feature_price.head()"
   ]
  },
  {
   "cell_type": "code",
   "execution_count": null,
   "id": "eea2d596",
   "metadata": {},
   "outputs": [],
   "source": [
    "for i in tqdm(user_not_price_models.index):\n",
    "    feature_price.loc[feature_price['user_id'] == user_not_price_models.loc[i,'user_id'],'min':'mean'] = user_not_price_models.loc[i,'model_price']"
   ]
  },
  {
   "cell_type": "code",
   "execution_count": null,
   "id": "a264d219",
   "metadata": {},
   "outputs": [],
   "source": [
    "feature_price.head()"
   ]
  },
  {
   "cell_type": "markdown",
   "id": "a9568539",
   "metadata": {},
   "source": [
    "##### Модель для заполнения пропусков стоимости телефона"
   ]
  },
  {
   "cell_type": "markdown",
   "id": "093e64f6",
   "metadata": {},
   "source": [
    "объёдиним с признаком модель и производитель, а также регион\n",
    "\n",
    "создадим таблицы трейн и предикт"
   ]
  },
  {
   "cell_type": "code",
   "execution_count": null,
   "id": "6bfa2010",
   "metadata": {},
   "outputs": [],
   "source": [
    "feature_manufacturer_model = pd.read_parquet(f'feature_manufacturer_model.pqt')\n",
    "feature_region_text = pd.read_parquet(f'feature_region_text.pqt')\n",
    "\n",
    "feature = pd.concat((feature_price,\n",
    "                     feature_manufacturer_model.drop(['user_id'], axis=1),\n",
    "                    ), axis=1)\n",
    "\n",
    "text_features=None\n",
    "cat_features = ['model','manufacturer']\n",
    "embedding_features = None\n",
    "\n",
    "feature_train = feature[~feature['mean'].isna()]\n",
    "feature_predict = feature[feature['mean'].isna()]\n",
    "\n",
    "pool_train = Pool(data=feature_train.drop(columns=['user_id','min','max','mean','std']), label=feature_train['mean'], embedding_features=embedding_features, text_features=text_features, cat_features=cat_features)\n",
    "pool_predict = Pool(data=feature_predict.drop(columns=['user_id','min','max','mean','std']), embedding_features=embedding_features, text_features=text_features, cat_features=cat_features)"
   ]
  },
  {
   "cell_type": "code",
   "execution_count": null,
   "id": "432ea325",
   "metadata": {},
   "outputs": [],
   "source": [
    "model_price = CatBoostRegressor(\n",
    "    iterations=700,\n",
    "    learning_rate=0.1,\n",
    "    loss_function='RMSE',\n",
    "    eval_metric='MAE',\n",
    "    task_type = 'CPU',\n",
    "    grow_policy='SymmetricTree',\n",
    "    random_state=SPLIT_SEED,\n",
    "    train_dir = \"catboost_model_price\",\n",
    "    )\n",
    "model_price.fit(\n",
    "    pool_train,\n",
    "    verbose=100,\n",
    "    plot=True,\n",
    "    )"
   ]
  },
  {
   "cell_type": "code",
   "execution_count": null,
   "id": "515cfc92",
   "metadata": {},
   "outputs": [],
   "source": [
    "predict_price = model_price.predict(pool_predict)\n",
    "feature_predict['min'] = predict_price\n",
    "feature_predict['max'] = predict_price\n",
    "feature_predict['mean'] = predict_price\n",
    "feature_predict['std'] = 0"
   ]
  },
  {
   "cell_type": "code",
   "execution_count": null,
   "id": "e9087775",
   "metadata": {},
   "outputs": [],
   "source": [
    "feature_price = pd.concat((feature_train, feature_predict), axis=0).sort_index()[['user_id','min','max','mean']]\n",
    "feature_price.to_parquet('feature_price.pqt')"
   ]
  },
  {
   "cell_type": "markdown",
   "id": "6a631bb2",
   "metadata": {},
   "source": [
    "#### ПРИЗНАК request_cnt"
   ]
  },
  {
   "cell_type": "raw",
   "id": "25a67802",
   "metadata": {},
   "source": [
    "data_request_cnt = data[['user_id','request_cnt']]\n",
    "data_day_of_week_part_of_day = pq.read_table(f'data_day_of_week_part_of_day.pqt').to_pandas()\n",
    "data_request_cnt = pd.concat((data_request_cnt,\n",
    "                  data_day_of_week_part_of_day.drop('user_id', axis=1),\n",
    "                ), axis=1)\n",
    "data_request_cnt.to_parquet('data_request_cnt.pqt')\n",
    "data_request_cnt.head(2)"
   ]
  },
  {
   "cell_type": "markdown",
   "id": "682057a6",
   "metadata": {},
   "source": [
    "##### ПРИЗНАК feature_request_cnt_day_of_week_part_of_day"
   ]
  },
  {
   "cell_type": "code",
   "execution_count": 37,
   "id": "5157934a",
   "metadata": {},
   "outputs": [
    {
     "name": "stderr",
     "output_type": "stream",
     "text": [
      "100%|███████████████████████████████████████████████████████████████████████████████████| 7/7 [22:46<00:00, 195.15s/it]\n"
     ]
    }
   ],
   "source": [
    "data_request_cnt = pq.read_table(f'data_request_cnt.pqt').to_pandas()\n",
    "\n",
    "feature_list=list()\n",
    "for day_of_week in tqdm(['0','1','2','3','4','5','6']):\n",
    "    for part_of_day in ['morning','day','evening','night']:\n",
    "        data_temp = data_request_cnt[['user_id','request_cnt','day_of_week','part_of_day']]\n",
    "        data_temp.loc[(data_temp['day_of_week'] != day_of_week) | (data_temp['part_of_day'] != part_of_day), 'request_cnt'] = np.nan\n",
    "        feature = data_temp.groupby('user_id')['request_cnt'].agg(['mean']). \\\n",
    "                    rename(columns={'mean':f'request_cnt_day_{day_of_week}_{part_of_day}'})\n",
    "        feature_list.append(feature.fillna(0))\n",
    "feature = pd.concat(feature_list,axis=1)\n",
    "feature['user_id']=feature.index\n",
    "\n",
    "feature.to_parquet(f'feature_request_cnt_day_of_week_part_of_day.pqt')"
   ]
  },
  {
   "cell_type": "code",
   "execution_count": 56,
   "id": "0e0daa9f",
   "metadata": {},
   "outputs": [
    {
     "data": {
      "text/html": [
       "<div>\n",
       "<style scoped>\n",
       "    .dataframe tbody tr th:only-of-type {\n",
       "        vertical-align: middle;\n",
       "    }\n",
       "\n",
       "    .dataframe tbody tr th {\n",
       "        vertical-align: top;\n",
       "    }\n",
       "\n",
       "    .dataframe thead th {\n",
       "        text-align: right;\n",
       "    }\n",
       "</style>\n",
       "<table border=\"1\" class=\"dataframe\">\n",
       "  <thead>\n",
       "    <tr style=\"text-align: right;\">\n",
       "      <th></th>\n",
       "      <th>text_morning</th>\n",
       "      <th>user_id</th>\n",
       "      <th>text_day</th>\n",
       "      <th>text_evening</th>\n",
       "      <th>text_night</th>\n",
       "      <th>text_day_0</th>\n",
       "      <th>text_day_1</th>\n",
       "      <th>text_day_2</th>\n",
       "      <th>text_day_3</th>\n",
       "      <th>text_day_4</th>\n",
       "      <th>...</th>\n",
       "      <th>request_cnt_day_4_evening</th>\n",
       "      <th>request_cnt_day_4_night</th>\n",
       "      <th>request_cnt_day_5_morning</th>\n",
       "      <th>request_cnt_day_5_day</th>\n",
       "      <th>request_cnt_day_5_evening</th>\n",
       "      <th>request_cnt_day_5_night</th>\n",
       "      <th>request_cnt_day_6_morning</th>\n",
       "      <th>request_cnt_day_6_day</th>\n",
       "      <th>request_cnt_day_6_evening</th>\n",
       "      <th>request_cnt_day_6_night</th>\n",
       "    </tr>\n",
       "  </thead>\n",
       "  <tbody>\n",
       "    <tr>\n",
       "      <th>0</th>\n",
       "      <td>googleadsgdoubleclicknet yastaticnet node1onl...</td>\n",
       "      <td>0</td>\n",
       "      <td>yandexru mavitoru codedirectadvertru edaru ra...</td>\n",
       "      <td>s02mdnnet avatarsmdsyandexnet  adsadfoxru goto...</td>\n",
       "      <td>googleadsgdoubleclicknet</td>\n",
       "      <td>mokru googleadsgdoubleclicknet wildberriesru</td>\n",
       "      <td>mavitoru s02mdnnet codedirectadvertru rabotka...</td>\n",
       "      <td>avatarsmdsyandexnet yandexru adsadfoxru googl...</td>\n",
       "      <td>googleadsgdoubleclicknet</td>\n",
       "      <td>node1onlinesberbankru onlinesberbankru google...</td>\n",
       "      <td>...</td>\n",
       "      <td>1.000000</td>\n",
       "      <td>0.0</td>\n",
       "      <td>1.000000</td>\n",
       "      <td>1.000000</td>\n",
       "      <td>1.250</td>\n",
       "      <td>1.0</td>\n",
       "      <td>1.250000</td>\n",
       "      <td>4.000000</td>\n",
       "      <td>1.6000</td>\n",
       "      <td>0.0</td>\n",
       "    </tr>\n",
       "    <tr>\n",
       "      <th>1</th>\n",
       "      <td>iytimgcom linstagramcom googleadsgdoubleclick...</td>\n",
       "      <td>1</td>\n",
       "      <td>googleru tpcgooglesyndicationcom bannersadfox...</td>\n",
       "      <td>adsbetweendigitalcom googleadsgdoubleclicknet...</td>\n",
       "      <td>avatarsmdsyandexnet  yandexru mpweixinqqcom ya...</td>\n",
       "      <td>adsbetweendigitalcom googleru yandexru vkcom ...</td>\n",
       "      <td>googleadsgdoubleclicknet whatsappcom cstaticw...</td>\n",
       "      <td>googleadsgdoubleclicknet mailyandexru s3amazo...</td>\n",
       "      <td>linstagramcom adsbetweendigitalcom playgoogle...</td>\n",
       "      <td>avatarsmdsyandexnet  bannersadfoxru vkcom tass...</td>\n",
       "      <td>...</td>\n",
       "      <td>2.083333</td>\n",
       "      <td>1.0</td>\n",
       "      <td>1.297297</td>\n",
       "      <td>1.565217</td>\n",
       "      <td>1.375</td>\n",
       "      <td>1.0</td>\n",
       "      <td>1.411765</td>\n",
       "      <td>1.736842</td>\n",
       "      <td>1.3125</td>\n",
       "      <td>1.0</td>\n",
       "    </tr>\n",
       "  </tbody>\n",
       "</table>\n",
       "<p>2 rows × 56 columns</p>\n",
       "</div>"
      ],
      "text/plain": [
       "                                        text_morning  user_id  \\\n",
       "0   googleadsgdoubleclicknet yastaticnet node1onl...        0   \n",
       "1   iytimgcom linstagramcom googleadsgdoubleclick...        1   \n",
       "\n",
       "                                            text_day  \\\n",
       "0   yandexru mavitoru codedirectadvertru edaru ra...   \n",
       "1   googleru tpcgooglesyndicationcom bannersadfox...   \n",
       "\n",
       "                                        text_evening  \\\n",
       "0  s02mdnnet avatarsmdsyandexnet  adsadfoxru goto...   \n",
       "1   adsbetweendigitalcom googleadsgdoubleclicknet...   \n",
       "\n",
       "                                          text_night  \\\n",
       "0                           googleadsgdoubleclicknet   \n",
       "1  avatarsmdsyandexnet  yandexru mpweixinqqcom ya...   \n",
       "\n",
       "                                          text_day_0  \\\n",
       "0       mokru googleadsgdoubleclicknet wildberriesru   \n",
       "1   adsbetweendigitalcom googleru yandexru vkcom ...   \n",
       "\n",
       "                                          text_day_1  \\\n",
       "0   mavitoru s02mdnnet codedirectadvertru rabotka...   \n",
       "1   googleadsgdoubleclicknet whatsappcom cstaticw...   \n",
       "\n",
       "                                          text_day_2  \\\n",
       "0   avatarsmdsyandexnet yandexru adsadfoxru googl...   \n",
       "1   googleadsgdoubleclicknet mailyandexru s3amazo...   \n",
       "\n",
       "                                          text_day_3  \\\n",
       "0                           googleadsgdoubleclicknet   \n",
       "1   linstagramcom adsbetweendigitalcom playgoogle...   \n",
       "\n",
       "                                          text_day_4  ...  \\\n",
       "0   node1onlinesberbankru onlinesberbankru google...  ...   \n",
       "1  avatarsmdsyandexnet  bannersadfoxru vkcom tass...  ...   \n",
       "\n",
       "  request_cnt_day_4_evening request_cnt_day_4_night request_cnt_day_5_morning  \\\n",
       "0                  1.000000                     0.0                  1.000000   \n",
       "1                  2.083333                     1.0                  1.297297   \n",
       "\n",
       "  request_cnt_day_5_day request_cnt_day_5_evening  request_cnt_day_5_night  \\\n",
       "0              1.000000                     1.250                      1.0   \n",
       "1              1.565217                     1.375                      1.0   \n",
       "\n",
       "   request_cnt_day_6_morning  request_cnt_day_6_day  \\\n",
       "0                   1.250000               4.000000   \n",
       "1                   1.411765               1.736842   \n",
       "\n",
       "   request_cnt_day_6_evening  request_cnt_day_6_night  \n",
       "0                     1.6000                      0.0  \n",
       "1                     1.3125                      1.0  \n",
       "\n",
       "[2 rows x 56 columns]"
      ]
     },
     "execution_count": 56,
     "metadata": {},
     "output_type": "execute_result"
    }
   ],
   "source": [
    "feature.head(2)"
   ]
  },
  {
   "cell_type": "markdown",
   "id": "6812e86c",
   "metadata": {},
   "source": [
    "##### ПРИЗНАК feature_request_cnt_workday_part_of_day"
   ]
  },
  {
   "cell_type": "code",
   "execution_count": 57,
   "id": "0635821c",
   "metadata": {},
   "outputs": [],
   "source": [
    "data_request_cnt = pq.read_table(f'data_request_cnt.pqt').to_pandas()\n",
    "\n",
    "feature_list=list()\n",
    "\n",
    "for part_of_day in tqdm(['morning','day','evening','night']):\n",
    "    data_temp = data_request_cnt[['user_id','request_cnt','day_of_week','part_of_day']]\n",
    "    data_temp.loc[(data_temp['day_of_week'] == '5') | (data_temp['day_of_week'] == '6') | (data_temp['part_of_day'] != part_of_day), 'request_cnt'] = np.nan\n",
    "    feature = data_temp.groupby('user_id')['request_cnt'].agg(['mean']). \\\n",
    "                    rename(columns={'mean':f'request_cnt_workday_{part_of_day}'})\n",
    "    feature_list.append(feature.fillna(0))\n",
    "feature = pd.concat(feature_list,axis=1)\n",
    "feature['user_id']=feature.index\n",
    "\n",
    "feature.to_parquet(f'feature_request_cnt_workday_part_of_day.pqt')"
   ]
  },
  {
   "cell_type": "markdown",
   "id": "2103756c",
   "metadata": {},
   "source": [
    "##### ПРИЗНАК feature_request_cnt_weekend_part_of_day"
   ]
  },
  {
   "cell_type": "code",
   "execution_count": 58,
   "id": "d97805c4",
   "metadata": {},
   "outputs": [
    {
     "name": "stderr",
     "output_type": "stream",
     "text": [
      "100%|████████████████████████████████████████████████████████████████████████████████████| 4/4 [04:20<00:00, 65.14s/it]\n"
     ]
    }
   ],
   "source": [
    "data_request_cnt = pq.read_table(f'data_request_cnt.pqt').to_pandas()\n",
    "\n",
    "feature_list=list()\n",
    "\n",
    "for part_of_day in tqdm(['morning','day','evening','night']):\n",
    "    data_temp = data_request_cnt[['user_id','request_cnt','day_of_week','part_of_day']]\n",
    "    data_temp.loc[((data_temp['day_of_week'] != '5') & (data_temp['day_of_week'] != '6')) | (data_temp['part_of_day'] != part_of_day), 'request_cnt'] = np.nan\n",
    "    feature = data_temp.groupby('user_id')['request_cnt'].agg(['mean']). \\\n",
    "                    rename(columns={'mean':f'request_cnt_weekend_{part_of_day}'})\n",
    "    feature_list.append(feature.fillna(0))\n",
    "feature = pd.concat(feature_list,axis=1)\n",
    "feature['user_id']=feature.index\n",
    "\n",
    "feature.to_parquet(f'feature_request_cnt_weekend_part_of_day.pqt')"
   ]
  },
  {
   "cell_type": "markdown",
   "id": "09d2eb03",
   "metadata": {},
   "source": [
    "##### ПРИЗНАК feature_request_cnt_part_of_day"
   ]
  },
  {
   "cell_type": "code",
   "execution_count": 59,
   "id": "393d7d4d",
   "metadata": {},
   "outputs": [
    {
     "name": "stderr",
     "output_type": "stream",
     "text": [
      "100%|████████████████████████████████████████████████████████████████████████████████████| 4/4 [02:01<00:00, 30.41s/it]\n"
     ]
    }
   ],
   "source": [
    "data_request_cnt = pq.read_table(f'data_request_cnt.pqt').to_pandas()\n",
    "\n",
    "feature_list=list()\n",
    "\n",
    "for part_of_day in tqdm(['morning','day','evening','night']):\n",
    "    data_temp = data_request_cnt[['user_id','request_cnt','part_of_day']]\n",
    "    data_temp.loc[(data_temp['part_of_day'] != part_of_day), 'request_cnt'] = np.nan\n",
    "    feature = data_temp.groupby('user_id')['request_cnt'].agg(['mean']). \\\n",
    "                    rename(columns={'mean':f'request_cnt_{part_of_day}'})\n",
    "    feature_list.append(feature.fillna(0))\n",
    "feature = pd.concat(feature_list,axis=1)\n",
    "feature['user_id']=feature.index\n",
    "\n",
    "feature.to_parquet(f'feature_request_cnt_part_of_day.pqt')"
   ]
  },
  {
   "cell_type": "markdown",
   "id": "fab3b44c",
   "metadata": {},
   "source": [
    "##### ПРИЗНАК feature_request_cnt_day_of_week"
   ]
  },
  {
   "cell_type": "code",
   "execution_count": 60,
   "id": "a84a0cd7",
   "metadata": {},
   "outputs": [
    {
     "name": "stderr",
     "output_type": "stream",
     "text": [
      "100%|████████████████████████████████████████████████████████████████████████████████████| 7/7 [03:24<00:00, 29.15s/it]\n"
     ]
    }
   ],
   "source": [
    "data_request_cnt = pq.read_table(f'data_request_cnt.pqt').to_pandas()\n",
    "\n",
    "feature_list=list()\n",
    "\n",
    "for day_of_week in tqdm(['0','1','2','3','4','5','6']):\n",
    "    data_temp = data_request_cnt[['user_id','request_cnt','day_of_week']]\n",
    "    data_temp.loc[data_temp['day_of_week'] != day_of_week, 'request_cnt'] = np.nan\n",
    "    feature = data_temp.groupby('user_id')['request_cnt'].agg(['mean']). \\\n",
    "                    rename(columns={'mean':f'request_cnt_{day_of_week}'})\n",
    "    feature_list.append(feature.fillna(0))\n",
    "feature = pd.concat(feature_list,axis=1)\n",
    "feature['user_id']=feature.index\n",
    "\n",
    "feature.to_parquet(f'feature_request_cnt_day_of_week.pqt')"
   ]
  },
  {
   "cell_type": "markdown",
   "id": "1bc66e88",
   "metadata": {},
   "source": [
    "#### url_host request_cnt"
   ]
  },
  {
   "cell_type": "code",
   "execution_count": 57,
   "id": "2dc046c0",
   "metadata": {},
   "outputs": [],
   "source": [
    "data_url_request_cnt = data[['user_id','url_host','request_cnt']]"
   ]
  },
  {
   "cell_type": "code",
   "execution_count": 58,
   "id": "6be73fd0",
   "metadata": {},
   "outputs": [
    {
     "data": {
      "text/html": [
       "<div>\n",
       "<style scoped>\n",
       "    .dataframe tbody tr th:only-of-type {\n",
       "        vertical-align: middle;\n",
       "    }\n",
       "\n",
       "    .dataframe tbody tr th {\n",
       "        vertical-align: top;\n",
       "    }\n",
       "\n",
       "    .dataframe thead th {\n",
       "        text-align: right;\n",
       "    }\n",
       "</style>\n",
       "<table border=\"1\" class=\"dataframe\">\n",
       "  <thead>\n",
       "    <tr style=\"text-align: right;\">\n",
       "      <th></th>\n",
       "      <th>user_id</th>\n",
       "      <th>url_host</th>\n",
       "      <th>request_cnt</th>\n",
       "    </tr>\n",
       "  </thead>\n",
       "  <tbody>\n",
       "    <tr>\n",
       "      <th>0</th>\n",
       "      <td>45098</td>\n",
       "      <td>ad.adriver.ru</td>\n",
       "      <td>1</td>\n",
       "    </tr>\n",
       "    <tr>\n",
       "      <th>1</th>\n",
       "      <td>45098</td>\n",
       "      <td>apple.com</td>\n",
       "      <td>1</td>\n",
       "    </tr>\n",
       "    <tr>\n",
       "      <th>2</th>\n",
       "      <td>45098</td>\n",
       "      <td>avatars.mds.yandex.net</td>\n",
       "      <td>1</td>\n",
       "    </tr>\n",
       "    <tr>\n",
       "      <th>3</th>\n",
       "      <td>45098</td>\n",
       "      <td>googleads.g.doubleclick.net</td>\n",
       "      <td>1</td>\n",
       "    </tr>\n",
       "    <tr>\n",
       "      <th>4</th>\n",
       "      <td>45098</td>\n",
       "      <td>googleads.g.doubleclick.net</td>\n",
       "      <td>1</td>\n",
       "    </tr>\n",
       "    <tr>\n",
       "      <th>...</th>\n",
       "      <td>...</td>\n",
       "      <td>...</td>\n",
       "      <td>...</td>\n",
       "    </tr>\n",
       "    <tr>\n",
       "      <th>322899430</th>\n",
       "      <td>300964</td>\n",
       "      <td>avatars.mds.yandex.net</td>\n",
       "      <td>1</td>\n",
       "    </tr>\n",
       "    <tr>\n",
       "      <th>322899431</th>\n",
       "      <td>300964</td>\n",
       "      <td>googleads.g.doubleclick.net</td>\n",
       "      <td>1</td>\n",
       "    </tr>\n",
       "    <tr>\n",
       "      <th>322899432</th>\n",
       "      <td>300964</td>\n",
       "      <td>online.sberbank.ru</td>\n",
       "      <td>1</td>\n",
       "    </tr>\n",
       "    <tr>\n",
       "      <th>322899433</th>\n",
       "      <td>300964</td>\n",
       "      <td>s0.2mdn.net</td>\n",
       "      <td>1</td>\n",
       "    </tr>\n",
       "    <tr>\n",
       "      <th>322899434</th>\n",
       "      <td>300964</td>\n",
       "      <td>zen.yandex.ru</td>\n",
       "      <td>1</td>\n",
       "    </tr>\n",
       "  </tbody>\n",
       "</table>\n",
       "<p>322899435 rows × 3 columns</p>\n",
       "</div>"
      ],
      "text/plain": [
       "           user_id                     url_host  request_cnt\n",
       "0            45098                ad.adriver.ru            1\n",
       "1            45098                    apple.com            1\n",
       "2            45098       avatars.mds.yandex.net            1\n",
       "3            45098  googleads.g.doubleclick.net            1\n",
       "4            45098  googleads.g.doubleclick.net            1\n",
       "...            ...                          ...          ...\n",
       "322899430   300964       avatars.mds.yandex.net            1\n",
       "322899431   300964  googleads.g.doubleclick.net            1\n",
       "322899432   300964           online.sberbank.ru            1\n",
       "322899433   300964                  s0.2mdn.net            1\n",
       "322899434   300964                zen.yandex.ru            1\n",
       "\n",
       "[322899435 rows x 3 columns]"
      ]
     },
     "execution_count": 58,
     "metadata": {},
     "output_type": "execute_result"
    }
   ],
   "source": [
    "data_url_request_cnt"
   ]
  },
  {
   "cell_type": "markdown",
   "id": "88ddc72a",
   "metadata": {},
   "source": [
    "##### Обрезка домена второго уровня, без точки"
   ]
  },
  {
   "cell_type": "raw",
   "id": "adc10f52",
   "metadata": {},
   "source": [
    "def clip_domain(url):\n",
    "    if url == None:\n",
    "        return 'None'\n",
    "    else:\n",
    "        list_subdomain = url.split('.')\n",
    "        if len(list_subdomain) < 2:\n",
    "            return list_subdomain[-1]\n",
    "        return f'{list_subdomain[-2]}{list_subdomain[-1]}'"
   ]
  },
  {
   "cell_type": "code",
   "execution_count": 59,
   "id": "03a864b2",
   "metadata": {},
   "outputs": [],
   "source": [
    "def clip_domain(url):\n",
    "    if url == None:\n",
    "        return 'None'\n",
    "    else:\n",
    "        list_subdomain = url.split('.')\n",
    "        if len(list_subdomain) > 3:\n",
    "            return f'{list_subdomain[-4]}{list_subdomain[-3]}{list_subdomain[-2]}{list_subdomain[-1]}'\n",
    "        if len(list_subdomain) == 3:\n",
    "            return f'{list_subdomain[-3]}{list_subdomain[-2]}{list_subdomain[-1]}'\n",
    "        if len(list_subdomain) == 2:\n",
    "            return f'{list_subdomain[-2]}{list_subdomain[-1]}'\n",
    "        if len(list_subdomain) < 2:\n",
    "            return list_subdomain[-1]"
   ]
  },
  {
   "cell_type": "code",
   "execution_count": 60,
   "id": "145d3d55",
   "metadata": {},
   "outputs": [
    {
     "name": "stdout",
     "output_type": "stream",
     "text": [
      "CPU times: total: 3min 48s\n",
      "Wall time: 3min 48s\n"
     ]
    }
   ],
   "source": [
    "%%time\n",
    "data_url_request_cnt['url_host'] = data_url_request_cnt['url_host'].apply(clip_domain)"
   ]
  },
  {
   "cell_type": "code",
   "execution_count": 61,
   "id": "8eb31755",
   "metadata": {},
   "outputs": [],
   "source": [
    "data_url_request_cnt.to_parquet('data_url_request_cnt_2domens.pqt')"
   ]
  },
  {
   "cell_type": "code",
   "execution_count": 62,
   "id": "466df79c",
   "metadata": {},
   "outputs": [
    {
     "data": {
      "text/html": [
       "<div>\n",
       "<style scoped>\n",
       "    .dataframe tbody tr th:only-of-type {\n",
       "        vertical-align: middle;\n",
       "    }\n",
       "\n",
       "    .dataframe tbody tr th {\n",
       "        vertical-align: top;\n",
       "    }\n",
       "\n",
       "    .dataframe thead th {\n",
       "        text-align: right;\n",
       "    }\n",
       "</style>\n",
       "<table border=\"1\" class=\"dataframe\">\n",
       "  <thead>\n",
       "    <tr style=\"text-align: right;\">\n",
       "      <th></th>\n",
       "      <th>user_id</th>\n",
       "      <th>url_host</th>\n",
       "      <th>request_cnt</th>\n",
       "    </tr>\n",
       "  </thead>\n",
       "  <tbody>\n",
       "    <tr>\n",
       "      <th>0</th>\n",
       "      <td>45098</td>\n",
       "      <td>adadriverru</td>\n",
       "      <td>1</td>\n",
       "    </tr>\n",
       "    <tr>\n",
       "      <th>1</th>\n",
       "      <td>45098</td>\n",
       "      <td>applecom</td>\n",
       "      <td>1</td>\n",
       "    </tr>\n",
       "    <tr>\n",
       "      <th>2</th>\n",
       "      <td>45098</td>\n",
       "      <td>avatarsmdsyandexnet</td>\n",
       "      <td>1</td>\n",
       "    </tr>\n",
       "    <tr>\n",
       "      <th>3</th>\n",
       "      <td>45098</td>\n",
       "      <td>googleadsgdoubleclicknet</td>\n",
       "      <td>1</td>\n",
       "    </tr>\n",
       "    <tr>\n",
       "      <th>4</th>\n",
       "      <td>45098</td>\n",
       "      <td>googleadsgdoubleclicknet</td>\n",
       "      <td>1</td>\n",
       "    </tr>\n",
       "    <tr>\n",
       "      <th>...</th>\n",
       "      <td>...</td>\n",
       "      <td>...</td>\n",
       "      <td>...</td>\n",
       "    </tr>\n",
       "    <tr>\n",
       "      <th>322899430</th>\n",
       "      <td>300964</td>\n",
       "      <td>avatarsmdsyandexnet</td>\n",
       "      <td>1</td>\n",
       "    </tr>\n",
       "    <tr>\n",
       "      <th>322899431</th>\n",
       "      <td>300964</td>\n",
       "      <td>googleadsgdoubleclicknet</td>\n",
       "      <td>1</td>\n",
       "    </tr>\n",
       "    <tr>\n",
       "      <th>322899432</th>\n",
       "      <td>300964</td>\n",
       "      <td>onlinesberbankru</td>\n",
       "      <td>1</td>\n",
       "    </tr>\n",
       "    <tr>\n",
       "      <th>322899433</th>\n",
       "      <td>300964</td>\n",
       "      <td>s02mdnnet</td>\n",
       "      <td>1</td>\n",
       "    </tr>\n",
       "    <tr>\n",
       "      <th>322899434</th>\n",
       "      <td>300964</td>\n",
       "      <td>zenyandexru</td>\n",
       "      <td>1</td>\n",
       "    </tr>\n",
       "  </tbody>\n",
       "</table>\n",
       "<p>322899435 rows × 3 columns</p>\n",
       "</div>"
      ],
      "text/plain": [
       "           user_id                  url_host  request_cnt\n",
       "0            45098               adadriverru            1\n",
       "1            45098                  applecom            1\n",
       "2            45098       avatarsmdsyandexnet            1\n",
       "3            45098  googleadsgdoubleclicknet            1\n",
       "4            45098  googleadsgdoubleclicknet            1\n",
       "...            ...                       ...          ...\n",
       "322899430   300964       avatarsmdsyandexnet            1\n",
       "322899431   300964  googleadsgdoubleclicknet            1\n",
       "322899432   300964          onlinesberbankru            1\n",
       "322899433   300964                 s02mdnnet            1\n",
       "322899434   300964               zenyandexru            1\n",
       "\n",
       "[322899435 rows x 3 columns]"
      ]
     },
     "execution_count": 62,
     "metadata": {},
     "output_type": "execute_result"
    }
   ],
   "source": [
    "data_url_request_cnt"
   ]
  },
  {
   "cell_type": "markdown",
   "id": "17be157a",
   "metadata": {},
   "source": [
    "##### Sparce matrix url_cnt"
   ]
  },
  {
   "cell_type": "code",
   "execution_count": 33,
   "id": "d4f2957e",
   "metadata": {},
   "outputs": [],
   "source": [
    "data_url_request_cnt = pq.read_table(f'data_url_request_cnt_2domens.pqt').to_pandas()"
   ]
  },
  {
   "cell_type": "code",
   "execution_count": 34,
   "id": "27f929af",
   "metadata": {},
   "outputs": [
    {
     "name": "stdout",
     "output_type": "stream",
     "text": [
      "CPU times: total: 45.9 s\n",
      "Wall time: 46.1 s\n"
     ]
    }
   ],
   "source": [
    "%%time\n",
    "data_agg = data_url_request_cnt.\\\n",
    "    groupby(['user_id', 'url_host'])['request_cnt'].agg('sum')\n",
    "data_agg = data_agg.reset_index()"
   ]
  },
  {
   "cell_type": "code",
   "execution_count": 35,
   "id": "51e291ff",
   "metadata": {},
   "outputs": [
    {
     "name": "stdout",
     "output_type": "stream",
     "text": [
      "198600 urls\n"
     ]
    }
   ],
   "source": [
    "url_set = set(data_agg['url_host'])\n",
    "print(f'{len(url_set)} urls')\n",
    "url_dict = {url: idurl for url, idurl in zip(url_set, range(len(url_set)))}"
   ]
  },
  {
   "cell_type": "code",
   "execution_count": 36,
   "id": "8fa06e9f",
   "metadata": {},
   "outputs": [
    {
     "name": "stdout",
     "output_type": "stream",
     "text": [
      "CPU times: total: 2.25 s\n",
      "Wall time: 2.31 s\n"
     ]
    }
   ],
   "source": [
    "%%time\n",
    "values = np.array(data_agg['request_cnt'])\n",
    "rows = np.array(data_agg['user_id'])\n",
    "cols = np.array(data_agg['url_host'].map(url_dict))\n",
    "url_cnt_sp_mat = scipy.sparse.coo_matrix((values, (rows, cols)), shape=(rows.max() + 1, cols.max() + 1))"
   ]
  },
  {
   "cell_type": "code",
   "execution_count": 37,
   "id": "821b66b1",
   "metadata": {},
   "outputs": [
    {
     "data": {
      "text/plain": [
       "<415317x198600 sparse matrix of type '<class 'numpy.int64'>'\n",
       "\twith 31690813 stored elements in COOrdinate format>"
      ]
     },
     "execution_count": 37,
     "metadata": {},
     "output_type": "execute_result"
    }
   ],
   "source": [
    "url_cnt_sp_mat"
   ]
  },
  {
   "cell_type": "markdown",
   "id": "49d9a80e",
   "metadata": {},
   "source": [
    "##### ПРИЗНАК url_cnt_sp_mat_als"
   ]
  },
  {
   "cell_type": "code",
   "execution_count": 38,
   "id": "b2a33bbb",
   "metadata": {},
   "outputs": [],
   "source": [
    "factors = 1200 # для катбуста лучшее было на 1200\n",
    "als = implicit.approximate_als.FaissAlternatingLeastSquares(factors = factors, iterations = 100, use_gpu = False, \\\n",
    "       calculate_training_loss = False, regularization = 0.1)"
   ]
  },
  {
   "cell_type": "code",
   "execution_count": 39,
   "id": "740c195f",
   "metadata": {},
   "outputs": [
    {
     "data": {
      "application/vnd.jupyter.widget-view+json": {
       "model_id": "172646e5e3584385b1897c67a774de09",
       "version_major": 2,
       "version_minor": 0
      },
      "text/plain": [
       "  0%|          | 0/100 [00:00<?, ?it/s]"
      ]
     },
     "metadata": {},
     "output_type": "display_data"
    },
    {
     "name": "stdout",
     "output_type": "stream",
     "text": [
      "(415317, 1200)\n"
     ]
    }
   ],
   "source": [
    "als.fit(url_cnt_sp_mat)\n",
    "u_factors = als.model.user_factors \n",
    "print(u_factors.shape)"
   ]
  },
  {
   "cell_type": "code",
   "execution_count": 40,
   "id": "4d5291c9",
   "metadata": {},
   "outputs": [],
   "source": [
    "feature_url_request_cnt_XX_2_domains_faiss_als = pd.DataFrame(data=u_factors, columns=['url_request_cnt_als_'+str(number+1) for number in range(factors)])\n",
    "feature_url_request_cnt_XX_2_domains_faiss_als['user_id'] = feature_url_request_cnt_XX_2_domains_faiss_als.index\n",
    "feature_url_request_cnt_XX_2_domains_faiss_als.to_parquet(f'feature_url_request_cnt_XX_2_domains_faiss_als_{factors}.pqt')"
   ]
  },
  {
   "cell_type": "markdown",
   "id": "26ebe886",
   "metadata": {},
   "source": [
    "##### ПРИЗНАК Sparce matrix url_cnt weekend"
   ]
  },
  {
   "cell_type": "code",
   "execution_count": 27,
   "id": "fd6bc719",
   "metadata": {},
   "outputs": [],
   "source": [
    "data_url_request_cnt_2domens = pq.read_table(f'data_url_request_cnt_2domens.pqt').to_pandas()\n",
    "day_of_week = data[['user_id','date']]\n",
    "day_of_week['day_of_week'] = pd.to_datetime(day_of_week['date']).dt.dayofweek\n",
    "url_request_cnt_2domens_weekend = pd.concat((data_url_request_cnt_2domens,\n",
    "                                            day_of_week.drop(['user_id','date'], axis=1)\n",
    "                                            ), axis=1)\n",
    "url_request_cnt_2domens_weekend = url_request_cnt_2domens_weekend[(url_request_cnt_2domens_weekend['day_of_week']== 5) |\n",
    "                                        (url_request_cnt_2domens_weekend['day_of_week']== 6)\n",
    "                                       ]"
   ]
  },
  {
   "cell_type": "code",
   "execution_count": 28,
   "id": "8e598da0",
   "metadata": {},
   "outputs": [
    {
     "name": "stdout",
     "output_type": "stream",
     "text": [
      "CPU times: total: 14 s\n",
      "Wall time: 14 s\n"
     ]
    }
   ],
   "source": [
    "%%time\n",
    "data_agg = url_request_cnt_2domens_weekend.\\\n",
    "    groupby(['user_id', 'url_host'])['request_cnt'].agg('sum')\n",
    "data_agg = data_agg.reset_index()"
   ]
  },
  {
   "cell_type": "code",
   "execution_count": 29,
   "id": "4399ffbe",
   "metadata": {},
   "outputs": [
    {
     "name": "stdout",
     "output_type": "stream",
     "text": [
      "119616 urls\n"
     ]
    }
   ],
   "source": [
    "url_set = set(data_agg['url_host'])\n",
    "print(f'{len(url_set)} urls')\n",
    "url_dict = {url: idurl for url, idurl in zip(url_set, range(len(url_set)))}"
   ]
  },
  {
   "cell_type": "code",
   "execution_count": 30,
   "id": "94b6c955",
   "metadata": {},
   "outputs": [
    {
     "name": "stdout",
     "output_type": "stream",
     "text": [
      "CPU times: total: 1.31 s\n",
      "Wall time: 1.31 s\n"
     ]
    }
   ],
   "source": [
    "%%time\n",
    "values = np.array(data_agg['request_cnt'])\n",
    "rows = np.array(data_agg['user_id'])\n",
    "cols = np.array(data_agg['url_host'].map(url_dict))\n",
    "url_request_cnt_2domens_weekend = scipy.sparse.coo_matrix((values, (rows, cols)), shape=(rows.max() + 1, cols.max() + 1))"
   ]
  },
  {
   "cell_type": "code",
   "execution_count": 31,
   "id": "6c0c840a",
   "metadata": {},
   "outputs": [
    {
     "data": {
      "text/plain": [
       "<415317x119616 sparse matrix of type '<class 'numpy.int64'>'\n",
       "\twith 16003173 stored elements in COOrdinate format>"
      ]
     },
     "execution_count": 31,
     "metadata": {},
     "output_type": "execute_result"
    }
   ],
   "source": [
    "url_request_cnt_2domens_weekend"
   ]
  },
  {
   "cell_type": "code",
   "execution_count": 32,
   "id": "6fdda783",
   "metadata": {},
   "outputs": [],
   "source": [
    "factors = 1200 # для катбуста лучшее было на 1200\n",
    "als = implicit.approximate_als.FaissAlternatingLeastSquares(factors = factors, iterations = 100, use_gpu = False, \\\n",
    "       calculate_training_loss = False, regularization = 0.1)"
   ]
  },
  {
   "cell_type": "code",
   "execution_count": 33,
   "id": "ed609f09",
   "metadata": {},
   "outputs": [
    {
     "data": {
      "application/vnd.jupyter.widget-view+json": {
       "model_id": "cebc9c7b863147a0ad413ab62a8e19c1",
       "version_major": 2,
       "version_minor": 0
      },
      "text/plain": [
       "  0%|          | 0/100 [00:00<?, ?it/s]"
      ]
     },
     "metadata": {},
     "output_type": "display_data"
    },
    {
     "name": "stdout",
     "output_type": "stream",
     "text": [
      "(415317, 1200)\n"
     ]
    }
   ],
   "source": [
    "als.fit(url_request_cnt_2domens_weekend)\n",
    "u_factors = als.model.user_factors \n",
    "print(u_factors.shape)"
   ]
  },
  {
   "cell_type": "code",
   "execution_count": 34,
   "id": "7d343eba",
   "metadata": {},
   "outputs": [],
   "source": [
    "feature_url_request_cnt_2domens_weekend_faiss_als = pd.DataFrame(data=u_factors, columns=['url_request_cnt_weekend_als_'+str(number+1) for number in range(factors)])\n",
    "feature_url_request_cnt_2domens_weekend_faiss_als['user_id'] = feature_url_request_cnt_2domens_weekend_faiss_als.index\n",
    "feature_url_request_cnt_2domens_weekend_faiss_als.to_parquet(f'feature_url_request_cnt_2domens_weekend_faiss_als_{factors}.pqt')"
   ]
  },
  {
   "cell_type": "markdown",
   "id": "9bd37e06",
   "metadata": {},
   "source": [
    "##### ПРИЗНАК Sparce matrix url_cnt workday"
   ]
  },
  {
   "cell_type": "code",
   "execution_count": 35,
   "id": "20f2be00",
   "metadata": {},
   "outputs": [],
   "source": [
    "data_url_request_cnt_2domens = pq.read_table(f'data_url_request_cnt_2domens.pqt').to_pandas()\n",
    "day_of_week = data[['user_id','date']]\n",
    "day_of_week['day_of_week'] = pd.to_datetime(day_of_week['date']).dt.dayofweek\n",
    "url_request_cnt_2domens_workday = pd.concat((data_url_request_cnt_2domens,\n",
    "                                            day_of_week.drop(['user_id','date'], axis=1)\n",
    "                                            ), axis=1)\n",
    "url_request_cnt_2domens_workday = url_request_cnt_2domens_workday[(url_request_cnt_2domens_workday['day_of_week']== 0) |\n",
    "                                        (url_request_cnt_2domens_workday['day_of_week']== 1) |\n",
    "                                        (url_request_cnt_2domens_workday['day_of_week']== 2) |\n",
    "                                        (url_request_cnt_2domens_workday['day_of_week']== 3) |\n",
    "                                        (url_request_cnt_2domens_workday['day_of_week']== 4)\n",
    "                                       ]"
   ]
  },
  {
   "cell_type": "code",
   "execution_count": 36,
   "id": "99f89afa",
   "metadata": {},
   "outputs": [
    {
     "name": "stdout",
     "output_type": "stream",
     "text": [
      "CPU times: total: 35.5 s\n",
      "Wall time: 35.5 s\n"
     ]
    }
   ],
   "source": [
    "%%time\n",
    "data_agg = url_request_cnt_2domens_workday.\\\n",
    "    groupby(['user_id', 'url_host'])['request_cnt'].agg('sum')\n",
    "data_agg = data_agg.reset_index()"
   ]
  },
  {
   "cell_type": "code",
   "execution_count": 37,
   "id": "cc9ecf50",
   "metadata": {},
   "outputs": [
    {
     "name": "stdout",
     "output_type": "stream",
     "text": [
      "181994 urls\n"
     ]
    }
   ],
   "source": [
    "url_set = set(data_agg['url_host'])\n",
    "print(f'{len(url_set)} urls')\n",
    "url_dict = {url: idurl for url, idurl in zip(url_set, range(len(url_set)))}"
   ]
  },
  {
   "cell_type": "code",
   "execution_count": 38,
   "id": "6ea7cc23",
   "metadata": {},
   "outputs": [
    {
     "name": "stdout",
     "output_type": "stream",
     "text": [
      "CPU times: total: 2.94 s\n",
      "Wall time: 2.94 s\n"
     ]
    }
   ],
   "source": [
    "%%time\n",
    "values = np.array(data_agg['request_cnt'])\n",
    "rows = np.array(data_agg['user_id'])\n",
    "cols = np.array(data_agg['url_host'].map(url_dict))\n",
    "url_request_cnt_2domens_workday = scipy.sparse.coo_matrix((values, (rows, cols)), shape=(rows.max() + 1, cols.max() + 1))"
   ]
  },
  {
   "cell_type": "code",
   "execution_count": 39,
   "id": "053e6d25",
   "metadata": {},
   "outputs": [
    {
     "data": {
      "text/plain": [
       "<415315x181994 sparse matrix of type '<class 'numpy.int64'>'\n",
       "\twith 27464636 stored elements in COOrdinate format>"
      ]
     },
     "execution_count": 39,
     "metadata": {},
     "output_type": "execute_result"
    }
   ],
   "source": [
    "url_request_cnt_2domens_workday"
   ]
  },
  {
   "cell_type": "code",
   "execution_count": 40,
   "id": "e128ca8b",
   "metadata": {},
   "outputs": [],
   "source": [
    "factors = 1200 # для катбуста лучшее было на 1200\n",
    "als = implicit.approximate_als.FaissAlternatingLeastSquares(factors = factors, iterations = 100, use_gpu = False, \\\n",
    "       calculate_training_loss = False, regularization = 0.1)"
   ]
  },
  {
   "cell_type": "code",
   "execution_count": 41,
   "id": "52abcc2e",
   "metadata": {},
   "outputs": [
    {
     "data": {
      "application/vnd.jupyter.widget-view+json": {
       "model_id": "19825845fdd74df79d37c8269f66cb1f",
       "version_major": 2,
       "version_minor": 0
      },
      "text/plain": [
       "  0%|          | 0/100 [00:00<?, ?it/s]"
      ]
     },
     "metadata": {},
     "output_type": "display_data"
    },
    {
     "name": "stdout",
     "output_type": "stream",
     "text": [
      "(415315, 1200)\n"
     ]
    }
   ],
   "source": [
    "als.fit(url_request_cnt_2domens_workday)\n",
    "u_factors = als.model.user_factors \n",
    "print(u_factors.shape)"
   ]
  },
  {
   "cell_type": "code",
   "execution_count": 42,
   "id": "34a0a264",
   "metadata": {},
   "outputs": [],
   "source": [
    "feature_url_request_cnt_2domens_workday_faiss_als = pd.DataFrame(data=u_factors, columns=['url_request_cnt_workday_als_'+str(number+1) for number in range(factors)])\n",
    "feature_url_request_cnt_2domens_workday_faiss_als['user_id'] = feature_url_request_cnt_2domens_workday_faiss_als.index\n",
    "feature_url_request_cnt_2domens_workday_faiss_als.to_parquet(f'feature_url_request_cnt_2domens_workday_faiss_als_{factors}.pqt')"
   ]
  },
  {
   "cell_type": "code",
   "execution_count": null,
   "id": "68b75037",
   "metadata": {},
   "outputs": [],
   "source": []
  },
  {
   "cell_type": "markdown",
   "id": "27d7e921",
   "metadata": {},
   "source": [
    "##### ПРИЗНАК текстовый на имени домана 2 уровня с учётом recuest_count"
   ]
  },
  {
   "cell_type": "code",
   "execution_count": 25,
   "id": "68a330b0",
   "metadata": {},
   "outputs": [],
   "source": [
    "data_url_request_cnt = pq.read_table(f'data_url_request_cnt_2domens.pqt').to_pandas()"
   ]
  },
  {
   "cell_type": "code",
   "execution_count": 26,
   "id": "0a7b3829",
   "metadata": {},
   "outputs": [
    {
     "name": "stdout",
     "output_type": "stream",
     "text": [
      "CPU times: total: 41.2 s\n",
      "Wall time: 41.2 s\n"
     ]
    }
   ],
   "source": [
    "%%time\n",
    "data_url_request_cnt['url_cnt'] = (data_url_request_cnt['url_host']+' ') * data_url_request_cnt['request_cnt']"
   ]
  },
  {
   "cell_type": "code",
   "execution_count": 27,
   "id": "7da13ab9",
   "metadata": {},
   "outputs": [
    {
     "name": "stdout",
     "output_type": "stream",
     "text": [
      "CPU times: total: 4min 31s\n",
      "Wall time: 4min 32s\n"
     ]
    }
   ],
   "source": [
    "%%time\n",
    "feature_url_request_cnt_XX_2_domains_without_dot_text = data_url_request_cnt.groupby('user_id')['url_cnt'].agg(['sum'])\n",
    "feature_url_request_cnt_XX_2_domains_without_dot_text = pd.DataFrame(feature_url_request_cnt_XX_2_domains_without_dot_text['sum'].values, columns=['url_cnt'])\n",
    "feature_url_request_cnt_XX_2_domains_without_dot_text['user_id']=feature_url_request_cnt_XX_2_domains_without_dot_text.index\n",
    "feature_url_request_cnt_XX_2_domains_without_dot_text.to_parquet('feature_url_request_cnt_XX_2_domains_without_dot_text.pqt')"
   ]
  },
  {
   "cell_type": "code",
   "execution_count": 28,
   "id": "141aaa77",
   "metadata": {},
   "outputs": [
    {
     "data": {
      "text/html": [
       "<div>\n",
       "<style scoped>\n",
       "    .dataframe tbody tr th:only-of-type {\n",
       "        vertical-align: middle;\n",
       "    }\n",
       "\n",
       "    .dataframe tbody tr th {\n",
       "        vertical-align: top;\n",
       "    }\n",
       "\n",
       "    .dataframe thead th {\n",
       "        text-align: right;\n",
       "    }\n",
       "</style>\n",
       "<table border=\"1\" class=\"dataframe\">\n",
       "  <thead>\n",
       "    <tr style=\"text-align: right;\">\n",
       "      <th></th>\n",
       "      <th>url_cnt</th>\n",
       "      <th>user_id</th>\n",
       "    </tr>\n",
       "  </thead>\n",
       "  <tbody>\n",
       "    <tr>\n",
       "      <th>0</th>\n",
       "      <td>s02mdnnet avatarsmdsyandexnet googleadsgdouble...</td>\n",
       "      <td>0</td>\n",
       "    </tr>\n",
       "    <tr>\n",
       "      <th>1</th>\n",
       "      <td>avatarsmdsyandexnet iytimgcom adsbetweendigita...</td>\n",
       "      <td>1</td>\n",
       "    </tr>\n",
       "    <tr>\n",
       "      <th>2</th>\n",
       "      <td>lentarumediaeagleplatformcom iytimgcom node1on...</td>\n",
       "      <td>2</td>\n",
       "    </tr>\n",
       "    <tr>\n",
       "      <th>3</th>\n",
       "      <td>admailru admailru avatarsmdsyandexnet avatarsm...</td>\n",
       "      <td>3</td>\n",
       "    </tr>\n",
       "    <tr>\n",
       "      <th>4</th>\n",
       "      <td>kpmd yastaticnet avatarsmdsyandexnet sun9-85us...</td>\n",
       "      <td>4</td>\n",
       "    </tr>\n",
       "    <tr>\n",
       "      <th>...</th>\n",
       "      <td>...</td>\n",
       "      <td>...</td>\n",
       "    </tr>\n",
       "    <tr>\n",
       "      <th>415312</th>\n",
       "      <td>googleadsgdoubleclicknet</td>\n",
       "      <td>415312</td>\n",
       "    </tr>\n",
       "    <tr>\n",
       "      <th>415313</th>\n",
       "      <td>avatarsmdsyandexnet</td>\n",
       "      <td>415313</td>\n",
       "    </tr>\n",
       "    <tr>\n",
       "      <th>415314</th>\n",
       "      <td>vkcom</td>\n",
       "      <td>415314</td>\n",
       "    </tr>\n",
       "    <tr>\n",
       "      <th>415315</th>\n",
       "      <td>yandexru</td>\n",
       "      <td>415315</td>\n",
       "    </tr>\n",
       "    <tr>\n",
       "      <th>415316</th>\n",
       "      <td>googleadsgdoubleclicknet</td>\n",
       "      <td>415316</td>\n",
       "    </tr>\n",
       "  </tbody>\n",
       "</table>\n",
       "<p>415317 rows × 2 columns</p>\n",
       "</div>"
      ],
      "text/plain": [
       "                                                  url_cnt  user_id\n",
       "0       s02mdnnet avatarsmdsyandexnet googleadsgdouble...        0\n",
       "1       avatarsmdsyandexnet iytimgcom adsbetweendigita...        1\n",
       "2       lentarumediaeagleplatformcom iytimgcom node1on...        2\n",
       "3       admailru admailru avatarsmdsyandexnet avatarsm...        3\n",
       "4       kpmd yastaticnet avatarsmdsyandexnet sun9-85us...        4\n",
       "...                                                   ...      ...\n",
       "415312                          googleadsgdoubleclicknet    415312\n",
       "415313                               avatarsmdsyandexnet    415313\n",
       "415314                                             vkcom    415314\n",
       "415315                                          yandexru    415315\n",
       "415316                          googleadsgdoubleclicknet    415316\n",
       "\n",
       "[415317 rows x 2 columns]"
      ]
     },
     "execution_count": 28,
     "metadata": {},
     "output_type": "execute_result"
    }
   ],
   "source": [
    "feature_url_request_cnt_XX_2_domains_without_dot_text"
   ]
  },
  {
   "cell_type": "markdown",
   "id": "4850236e",
   "metadata": {},
   "source": [
    "##### ПРИЗНАК TF iDF векторайзер на 2_domains_without_dot"
   ]
  },
  {
   "cell_type": "code",
   "execution_count": 47,
   "id": "f9b56203",
   "metadata": {},
   "outputs": [],
   "source": [
    "feature_url_request_cnt_XX_2_domains_without_dot_text = pq.read_table(f'feature_url_request_cnt_XX_2_domains_without_dot_text.pqt').to_pandas()"
   ]
  },
  {
   "cell_type": "code",
   "execution_count": 48,
   "id": "e15989c0",
   "metadata": {},
   "outputs": [
    {
     "name": "stdout",
     "output_type": "stream",
     "text": [
      "CPU times: total: 5min 12s\n",
      "Wall time: 5min 13s\n"
     ]
    }
   ],
   "source": [
    "%%time\n",
    "tfidf_vectorizer = TfidfVectorizer() # max_df=0.1 уменьшает качество\n",
    "tfidf_text_2_domains = tfidf_vectorizer.fit_transform(feature_url_request_cnt_XX_2_domains_without_dot_text['url_cnt'])"
   ]
  },
  {
   "cell_type": "code",
   "execution_count": 49,
   "id": "f206c8fa",
   "metadata": {},
   "outputs": [
    {
     "data": {
      "application/vnd.jupyter.widget-view+json": {
       "model_id": "0b82f80cb917473eb73372650b3015b7",
       "version_major": 2,
       "version_minor": 0
      },
      "text/plain": [
       "  0%|          | 0/100 [00:00<?, ?it/s]"
      ]
     },
     "metadata": {},
     "output_type": "display_data"
    },
    {
     "name": "stdout",
     "output_type": "stream",
     "text": [
      "(415317, 1200)\n",
      "CPU times: total: 17h 39min 47s\n",
      "Wall time: 1h 33min 17s\n"
     ]
    }
   ],
   "source": [
    "%%time\n",
    "factors = 1200 # для катбуста лучшее было на 1200\n",
    "als = implicit.approximate_als.FaissAlternatingLeastSquares(factors = factors, iterations = 100, use_gpu = False, \\\n",
    "       calculate_training_loss = False, regularization = 0.1)\n",
    "als.fit(tfidf_text_2_domains)\n",
    "u_factors = als.model.user_factors \n",
    "print(u_factors.shape)\n",
    "feature_url_request_cnt_XX_2_domains_tfidf_faiss_als = pd.DataFrame(data=u_factors, columns=['tfidf_als_'+str(number+1) for number in range(factors)])\n",
    "feature_url_request_cnt_XX_2_domains_tfidf_faiss_als['user_id'] = feature_url_request_cnt_XX_2_domains_without_dot_text['user_id']\n",
    "feature_url_request_cnt_XX_2_domains_tfidf_faiss_als.to_parquet('feature_url_request_cnt_XX_2_domains_tfidf_faiss_als.pqt')"
   ]
  },
  {
   "cell_type": "code",
   "execution_count": 50,
   "id": "d9772f60",
   "metadata": {},
   "outputs": [
    {
     "data": {
      "text/html": [
       "<div>\n",
       "<style scoped>\n",
       "    .dataframe tbody tr th:only-of-type {\n",
       "        vertical-align: middle;\n",
       "    }\n",
       "\n",
       "    .dataframe tbody tr th {\n",
       "        vertical-align: top;\n",
       "    }\n",
       "\n",
       "    .dataframe thead th {\n",
       "        text-align: right;\n",
       "    }\n",
       "</style>\n",
       "<table border=\"1\" class=\"dataframe\">\n",
       "  <thead>\n",
       "    <tr style=\"text-align: right;\">\n",
       "      <th></th>\n",
       "      <th>tfidf_als_1</th>\n",
       "      <th>tfidf_als_2</th>\n",
       "      <th>tfidf_als_3</th>\n",
       "      <th>tfidf_als_4</th>\n",
       "      <th>tfidf_als_5</th>\n",
       "      <th>tfidf_als_6</th>\n",
       "      <th>tfidf_als_7</th>\n",
       "      <th>tfidf_als_8</th>\n",
       "      <th>tfidf_als_9</th>\n",
       "      <th>tfidf_als_10</th>\n",
       "      <th>...</th>\n",
       "      <th>tfidf_als_1192</th>\n",
       "      <th>tfidf_als_1193</th>\n",
       "      <th>tfidf_als_1194</th>\n",
       "      <th>tfidf_als_1195</th>\n",
       "      <th>tfidf_als_1196</th>\n",
       "      <th>tfidf_als_1197</th>\n",
       "      <th>tfidf_als_1198</th>\n",
       "      <th>tfidf_als_1199</th>\n",
       "      <th>tfidf_als_1200</th>\n",
       "      <th>user_id</th>\n",
       "    </tr>\n",
       "  </thead>\n",
       "  <tbody>\n",
       "    <tr>\n",
       "      <th>0</th>\n",
       "      <td>-0.008092</td>\n",
       "      <td>0.005231</td>\n",
       "      <td>0.005598</td>\n",
       "      <td>0.000034</td>\n",
       "      <td>-0.005623</td>\n",
       "      <td>0.000086</td>\n",
       "      <td>-0.010248</td>\n",
       "      <td>0.000497</td>\n",
       "      <td>-0.003799</td>\n",
       "      <td>-0.010732</td>\n",
       "      <td>...</td>\n",
       "      <td>-0.023240</td>\n",
       "      <td>-0.004293</td>\n",
       "      <td>0.001847</td>\n",
       "      <td>-0.003774</td>\n",
       "      <td>-0.006201</td>\n",
       "      <td>0.005042</td>\n",
       "      <td>-0.004422</td>\n",
       "      <td>-0.004341</td>\n",
       "      <td>0.006276</td>\n",
       "      <td>0</td>\n",
       "    </tr>\n",
       "    <tr>\n",
       "      <th>1</th>\n",
       "      <td>-0.003669</td>\n",
       "      <td>-0.007651</td>\n",
       "      <td>0.008961</td>\n",
       "      <td>-0.007808</td>\n",
       "      <td>-0.000766</td>\n",
       "      <td>0.001027</td>\n",
       "      <td>0.002744</td>\n",
       "      <td>0.001519</td>\n",
       "      <td>-0.007577</td>\n",
       "      <td>-0.011865</td>\n",
       "      <td>...</td>\n",
       "      <td>0.010965</td>\n",
       "      <td>-0.011584</td>\n",
       "      <td>-0.011567</td>\n",
       "      <td>-0.000082</td>\n",
       "      <td>0.004702</td>\n",
       "      <td>0.009009</td>\n",
       "      <td>-0.007920</td>\n",
       "      <td>0.007937</td>\n",
       "      <td>0.006221</td>\n",
       "      <td>1</td>\n",
       "    </tr>\n",
       "  </tbody>\n",
       "</table>\n",
       "<p>2 rows × 1201 columns</p>\n",
       "</div>"
      ],
      "text/plain": [
       "   tfidf_als_1  tfidf_als_2  tfidf_als_3  tfidf_als_4  tfidf_als_5  \\\n",
       "0    -0.008092     0.005231     0.005598     0.000034    -0.005623   \n",
       "1    -0.003669    -0.007651     0.008961    -0.007808    -0.000766   \n",
       "\n",
       "   tfidf_als_6  tfidf_als_7  tfidf_als_8  tfidf_als_9  tfidf_als_10  ...  \\\n",
       "0     0.000086    -0.010248     0.000497    -0.003799     -0.010732  ...   \n",
       "1     0.001027     0.002744     0.001519    -0.007577     -0.011865  ...   \n",
       "\n",
       "   tfidf_als_1192  tfidf_als_1193  tfidf_als_1194  tfidf_als_1195  \\\n",
       "0       -0.023240       -0.004293        0.001847       -0.003774   \n",
       "1        0.010965       -0.011584       -0.011567       -0.000082   \n",
       "\n",
       "   tfidf_als_1196  tfidf_als_1197  tfidf_als_1198  tfidf_als_1199  \\\n",
       "0       -0.006201        0.005042       -0.004422       -0.004341   \n",
       "1        0.004702        0.009009       -0.007920        0.007937   \n",
       "\n",
       "   tfidf_als_1200  user_id  \n",
       "0        0.006276        0  \n",
       "1        0.006221        1  \n",
       "\n",
       "[2 rows x 1201 columns]"
      ]
     },
     "execution_count": 50,
     "metadata": {},
     "output_type": "execute_result"
    }
   ],
   "source": [
    "feature_url_request_cnt_XX_2_domains_tfidf_faiss_als.head(2)"
   ]
  },
  {
   "cell_type": "markdown",
   "id": "e2f4a15e",
   "metadata": {},
   "source": [
    "## Cosine (плохо)"
   ]
  },
  {
   "cell_type": "markdown",
   "id": "06e1d04c",
   "metadata": {},
   "source": [
    "Для каждого пользователя находим 30 наиболее похожих на него пользователя по urlam."
   ]
  },
  {
   "cell_type": "code",
   "execution_count": 167,
   "id": "c2471b69",
   "metadata": {},
   "outputs": [
    {
     "data": {
      "application/vnd.jupyter.widget-view+json": {
       "model_id": "042a3e78e485489d98b65b27ca0b6ac1",
       "version_major": 2,
       "version_minor": 0
      },
      "text/plain": [
       "  0%|          | 0/415317 [00:00<?, ?it/s]"
      ]
     },
     "metadata": {},
     "output_type": "display_data"
    }
   ],
   "source": [
    "model_cosine = implicit.nearest_neighbours.CosineRecommender(K=30)\n",
    "model_cosine.fit(url_cnt_sp_mat.tocsr().T)\n",
    "model_cosine.save('model_cosine')"
   ]
  },
  {
   "cell_type": "markdown",
   "id": "1392e9dc",
   "metadata": {},
   "source": [
    "Для каждого пользователя из валид возьмём похожиш из трайн и определим пол по среднему, возраст по медиане(ошибка, нужно раскидывать по группам и брать группу с наибольшим количеством)?"
   ]
  },
  {
   "cell_type": "code",
   "execution_count": 250,
   "id": "96ac9e0d",
   "metadata": {
    "scrolled": true
   },
   "outputs": [
    {
     "name": "stderr",
     "output_type": "stream",
     "text": [
      "100%|██████████████████████████████████████████████████████████████████████████| 144724/144724 [25:59<00:00, 92.82it/s]\n"
     ]
    }
   ],
   "source": [
    "user_id_list = list()\n",
    "is_male_list = list()\n",
    "age_list = list()\n",
    "\n",
    "for user_id in tqdm(id_to_submit['user_id']): # перебираем всех юзеров из сабмит\n",
    "    users_list = model_cosine.similar_items(user_id, N=30)[0]\n",
    "    user_id_list.append(user_id)\n",
    "    is_male_list.append(targets.query('user_id in @users_list')['is_male'].mean())\n",
    "    age_list.append(targets.query('user_id in @users_list')['age_target'].value_counts().index[0])\n",
    "id_to_submit = pd.DataFrame(np.array([user_id_list,is_male_list,age_list]).T, columns=['user_id','is_male','age'])\n",
    "id_to_submit['user_id'] = id_to_submit['user_id'].astype('int')\n",
    "id_to_submit['age'] = id_to_submit['age'].astype('int')"
   ]
  },
  {
   "cell_type": "code",
   "execution_count": 260,
   "id": "48ca0dd0",
   "metadata": {},
   "outputs": [],
   "source": [
    "id_to_submit.to_csv(f'{LOCAL_DATA_PATH}/submission.csv', index = False)"
   ]
  },
  {
   "cell_type": "markdown",
   "id": "f31d3e1d",
   "metadata": {},
   "source": [
    "## RESNET на эмбеддингах"
   ]
  },
  {
   "cell_type": "code",
   "execution_count": 50,
   "id": "e6520c8f",
   "metadata": {},
   "outputs": [],
   "source": [
    "BATCH_SIZE = 16384"
   ]
  },
  {
   "cell_type": "markdown",
   "id": "17cd835c",
   "metadata": {},
   "source": [
    "### feature_url_only_XX_2_domains_tfidf_faiss_als_emb"
   ]
  },
  {
   "cell_type": "code",
   "execution_count": 51,
   "id": "111c931a",
   "metadata": {},
   "outputs": [
    {
     "name": "stdout",
     "output_type": "stream",
     "text": [
      "(415317, 601)\n"
     ]
    }
   ],
   "source": [
    "feature_url_only_XX_2_domains_tfidf_faiss_als = pd.read_parquet(f'feature_url_request_cnt_XX_2_domains_faiss_als_1200.pqt')\n",
    "# url_request_cnt - работает хуже чем url_only\n",
    "#feature_url_only_XX_2_domains_tfidf_faiss_als = pd.read_parquet(f'feature_url_request_cnt_XX_2_domains_tfidf_faiss_als.pqt')\n",
    "print(feature_url_only_XX_2_domains_tfidf_faiss_als.shape)"
   ]
  },
  {
   "cell_type": "markdown",
   "id": "e10bfc61",
   "metadata": {},
   "source": [
    "#### DataLoader"
   ]
  },
  {
   "cell_type": "markdown",
   "id": "9f7f1069",
   "metadata": {},
   "source": [
    "#### split train,valid, submit"
   ]
  },
  {
   "cell_type": "code",
   "execution_count": 52,
   "id": "74520588",
   "metadata": {},
   "outputs": [
    {
     "name": "stdout",
     "output_type": "stream",
     "text": [
      "(264224, 604) (144724, 601)\n",
      "(177030, 600) (87194, 600) (177030,) (87194,) (177030,) (87194,)\n"
     ]
    }
   ],
   "source": [
    "feature_target = targets.merge(feature_url_only_XX_2_domains_tfidf_faiss_als, how = 'inner', on = ['user_id'])\n",
    "feature_submit = id_to_submit.merge(feature_url_only_XX_2_domains_tfidf_faiss_als, how = 'inner', on = ['user_id'])\n",
    "print(feature_target.shape,\n",
    "      feature_submit.shape)\n",
    "\n",
    "feature_train, feature_val, label_train_is_male, label_val_is_male, label_train_age, label_val_age = train_test_split(\\\n",
    "    feature_target.drop(columns=['age','is_male','user_id','age_target']),\\\n",
    "    feature_target['is_male'], \\\n",
    "    feature_target['age_target'], test_size = 0.33, random_state = SPLIT_SEED)\n",
    "print(feature_train.shape, feature_val.shape,label_train_is_male.shape,label_val_is_male.shape,label_train_age.shape,label_val_age.shape)"
   ]
  },
  {
   "cell_type": "markdown",
   "id": "67fe61e9",
   "metadata": {},
   "source": [
    "##### train"
   ]
  },
  {
   "cell_type": "code",
   "execution_count": 53,
   "id": "9b3a9a0a",
   "metadata": {},
   "outputs": [],
   "source": [
    "feature_train = feature_train.values\n",
    "feature_train = np.moveaxis(feature_train[..., np.newaxis],1,2)\n",
    "features_tensor = torch.tensor(feature_train.astype('float32'))\n",
    "labels_is_male_tensor = torch.tensor(label_train_is_male.values).type(torch.LongTensor)\n",
    "labels_age_tensor = torch.tensor(label_train_age.values).type(torch.LongTensor)\n",
    "\n",
    "train = data_utils.TensorDataset(features_tensor, labels_is_male_tensor, labels_age_tensor)\n",
    "train_loader = data_utils.DataLoader(train, batch_size=BATCH_SIZE, shuffle=False)\n",
    "\n",
    "#del features, features_last_min_max, labels\n",
    "del features_tensor, labels_is_male_tensor, labels_age_tensor"
   ]
  },
  {
   "cell_type": "raw",
   "id": "55a6aabe",
   "metadata": {},
   "source": [
    "dataset_iter = iter(train_loader)\n",
    "next(dataset_iter)"
   ]
  },
  {
   "cell_type": "raw",
   "id": "99bc4ed1",
   "metadata": {},
   "source": [
    "tensor,_,_ = next(dataset_iter)"
   ]
  },
  {
   "cell_type": "raw",
   "id": "b50e1e94",
   "metadata": {},
   "source": [
    "tensor.shape"
   ]
  },
  {
   "cell_type": "raw",
   "id": "d68eb796",
   "metadata": {},
   "source": [
    "feature_train.shape"
   ]
  },
  {
   "cell_type": "raw",
   "id": "09690992",
   "metadata": {},
   "source": [
    "features_tensor.shape"
   ]
  },
  {
   "cell_type": "raw",
   "id": "bb58c08e",
   "metadata": {},
   "source": [
    "test = feature_train.values"
   ]
  },
  {
   "cell_type": "raw",
   "id": "8e76b1b7",
   "metadata": {},
   "source": [
    "test.shape"
   ]
  },
  {
   "cell_type": "raw",
   "id": "371f3187",
   "metadata": {},
   "source": [
    "test = test[..., np.newaxis]\n",
    "test = np.moveaxis(test, 1, 2)"
   ]
  },
  {
   "cell_type": "raw",
   "id": "7fdcdbd9",
   "metadata": {},
   "source": [
    "test.shape"
   ]
  },
  {
   "cell_type": "raw",
   "id": "070ab715",
   "metadata": {},
   "source": [
    "test[0,0].shape"
   ]
  },
  {
   "cell_type": "markdown",
   "id": "ea177d27",
   "metadata": {},
   "source": [
    "##### valid"
   ]
  },
  {
   "cell_type": "code",
   "execution_count": 54,
   "id": "06f886fd",
   "metadata": {},
   "outputs": [],
   "source": [
    "feature_val = feature_val.values\n",
    "feature_val = np.moveaxis(feature_val[..., np.newaxis],1,2)\n",
    "\n",
    "features_val_tensor = torch.tensor(feature_val.astype('float32'))\n",
    "labels_is_male_val_tensor = torch.tensor(label_val_is_male.values).type(torch.LongTensor)\n",
    "labels_age_val_tensor = torch.tensor(label_val_age.values).type(torch.LongTensor)\n",
    "\n",
    "valid = data_utils.TensorDataset(features_val_tensor, labels_is_male_val_tensor, labels_age_val_tensor)\n",
    "valid_loader = data_utils.DataLoader(valid, batch_size=BATCH_SIZE, shuffle=False)\n",
    "\n",
    "#del features, features_last_min_max, labels\n",
    "del features_val_tensor, labels_is_male_val_tensor, labels_age_val_tensor"
   ]
  },
  {
   "cell_type": "raw",
   "id": "0292de5d",
   "metadata": {},
   "source": [
    "dataset_iter = iter(valid_loader)\n",
    "tensor,_,_ = next(dataset_iter)\n",
    "tensor.shape"
   ]
  },
  {
   "cell_type": "code",
   "execution_count": null,
   "id": "4d4dcc5b",
   "metadata": {},
   "outputs": [],
   "source": []
  },
  {
   "cell_type": "markdown",
   "id": "67c8f430",
   "metadata": {},
   "source": [
    "##### submit"
   ]
  },
  {
   "cell_type": "code",
   "execution_count": 55,
   "id": "36e20d0f",
   "metadata": {},
   "outputs": [],
   "source": [
    "features_submit_tensor = torch.tensor(feature_submit.drop(columns=['user_id']).values.astype('float32'))\n",
    "\n",
    "submit = data_utils.TensorDataset(features_submit_tensor)\n",
    "submit_loader = data_utils.DataLoader(submit, batch_size=BATCH_SIZE, shuffle=False)\n",
    "\n",
    "#del feature_submit\n",
    "del features_submit_tensor"
   ]
  },
  {
   "cell_type": "code",
   "execution_count": 56,
   "id": "1bb1bbb0",
   "metadata": {},
   "outputs": [
    {
     "data": {
      "text/plain": [
       "torch.Size([16384, 600])"
      ]
     },
     "execution_count": 56,
     "metadata": {},
     "output_type": "execute_result"
    }
   ],
   "source": [
    "dataset_iter = iter(submit_loader)\n",
    "tensor = next(dataset_iter)[0]\n",
    "tensor.shape"
   ]
  },
  {
   "cell_type": "markdown",
   "id": "31721605",
   "metadata": {},
   "source": [
    "#### ResNet"
   ]
  },
  {
   "cell_type": "code",
   "execution_count": 57,
   "id": "8bec72cc",
   "metadata": {
    "scrolled": true
   },
   "outputs": [],
   "source": [
    "class Bottleneck(nn.Module):\n",
    "    def __init__(self, in_channels, inter_channels, out_channels, inter_stride):\n",
    "        super(Bottleneck,self).__init__()\n",
    "        self.conv1 = nn.Conv1d(in_channels, inter_channels, kernel_size=1, stride=1, bias=False)\n",
    "        self.bn1 = nn.BatchNorm1d(inter_channels, eps=1e-05, momentum=0.1, affine=True, track_running_stats=True)\n",
    "        self.conv2 = nn.Conv1d(inter_channels, inter_channels, kernel_size=3, stride=inter_stride, padding=1, bias=False)\n",
    "        self.bn2 = nn.BatchNorm1d(inter_channels, eps=1e-05, momentum=0.1, affine=True, track_running_stats=True)\n",
    "        self.conv3 = nn.Conv1d(inter_channels, out_channels, kernel_size=1, stride=1, bias=False)\n",
    "        self.bn3 = nn.BatchNorm1d(out_channels, eps=1e-05, momentum=0.1, affine=True, track_running_stats=True)\n",
    "        self.relu = nn.ReLU(inplace=True)\n",
    "    \n",
    "    def forward(self, x):\n",
    "        x = self.conv1(x)\n",
    "        x = self.bn1(x)\n",
    "        x = self.conv2(x)\n",
    "        x = self.bn2(x)\n",
    "        x = self.conv3(x)\n",
    "        x = self.bn3(x)\n",
    "        x = self.relu(x)\n",
    "        return x\n",
    "\n",
    "class Downsample(nn.Module):\n",
    "    def __init__(self, in_channels, out_channels, stride):\n",
    "        super(Downsample,self).__init__()\n",
    "        self.conv = nn.Conv1d(in_channels, out_channels, kernel_size=1, stride=stride, bias=False)\n",
    "        self.bn = nn.BatchNorm1d(out_channels, eps=1e-05, momentum=0.1, affine=True, track_running_stats=True)\n",
    "    \n",
    "    def forward(self, x):\n",
    "        x = self.conv(x)\n",
    "        x = self.bn(x)\n",
    "        return x\n",
    "    \n",
    "class ResNet1D(nn.Module):\n",
    "    def __init__(self):\n",
    "        super(ResNet1D,self).__init__()\n",
    "        \n",
    "        # input\n",
    "        #self.conv1 = nn.Conv1d(1, 64, kernel_size=3, stride=2, padding=3, bias=False) # kernel_size = 4 по умолчанию 7\n",
    "        self.conv1 = nn.Conv1d(1, 128, kernel_size=600, stride=1, padding=0, bias=False) # kernel_size = 4 по умолчанию 7        \n",
    "        self.bn1 = nn.BatchNorm1d(128, eps=1e-05, momentum=0.1, affine=True, track_running_stats=True)\n",
    "        self.relu1 = nn.ReLU(inplace=True)\n",
    "        self.max_pool1 = nn.MaxPool1d(kernel_size=3, stride=2, padding=1, dilation=1, ceil_mode=False)\n",
    "        \n",
    "        # layer 1\n",
    "        self.downsample_1 = Downsample(128, 256, 1)\n",
    "        self.bottleneck_1_0 = Bottleneck(128, 64, 256, 1)\n",
    "        self.bottleneck_1_1 = Bottleneck(256, 64, 256, 1)\n",
    "        self.bottleneck_1_2 = Bottleneck(256, 64, 256, 1)\n",
    "        \n",
    "        # layer 2\n",
    "        self.downsample_2 = Downsample(256, 512, 2) \n",
    "        self.bottleneck_2_0 = Bottleneck(256, 128, 512, 2)\n",
    "        self.bottleneck_2_1 = Bottleneck(512, 128, 512, 1)\n",
    "        self.bottleneck_2_2 = Bottleneck(512, 128, 512, 1)\n",
    "        self.bottleneck_2_3 = Bottleneck(512, 128, 512, 1)\n",
    "               \n",
    "        # layer 3\n",
    "        self.downsample_3 = Downsample(512, 1024, 2)\n",
    "        self.bottleneck_3_0 = Bottleneck(512, 256, 1024, 2)\n",
    "        self.bottleneck_3_1 = Bottleneck(1024, 256, 1024, 1)\n",
    "        self.bottleneck_3_2 = Bottleneck(1024, 256, 1024, 1)\n",
    "        self.bottleneck_3_3 = Bottleneck(1024, 256, 1024, 1)\n",
    "        self.bottleneck_3_4 = Bottleneck(1024, 256, 1024, 1)\n",
    "        self.bottleneck_3_5 = Bottleneck(1024, 256, 1024, 1)\n",
    "                   \n",
    "        # layer 4\n",
    "        self.downsample_4 = Downsample(1024, 2048, 2)\n",
    "        self.bottleneck_4_0 = Bottleneck(1024, 512, 2048, 2)\n",
    "        self.bottleneck_4_1 = Bottleneck(2048, 512, 2048, 1)\n",
    "        self.bottleneck_4_2 = Bottleneck(2048, 512, 2048, 1)\n",
    "        \n",
    "        # linear\n",
    "        self.bn2 = nn.BatchNorm1d(12, eps=1e-05, momentum=0.1, affine=True, track_running_stats=True)\n",
    "        self.avg_pool = nn.AdaptiveAvgPool1d(output_size=1)\n",
    "        self.flatten = nn.Flatten()\n",
    "        #self.linear1 = nn.Linear(in_features=2048, out_features=500, bias=True)\n",
    "        self.linear1 = nn.Linear(in_features=2048, out_features=512, bias=False)\n",
    "        self.relu2 = nn.ReLU(inplace=True)\n",
    "        self.linear2 = nn.Linear(512, 128, bias=False)\n",
    "        self.relu3 = nn.ReLU(inplace=True)\n",
    "        self.linear3 = nn.Linear(128, 7, bias=False)\n",
    "        self.sm = nn.Softmax(dim=1)\n",
    "    \n",
    "    def forward(self, x):\n",
    "        # input\n",
    "        x = self.conv1(x)\n",
    "        x = self.bn1(x)\n",
    "        x = self.relu1(x)\n",
    "        x = self.max_pool1(x)\n",
    "        # layer 1\n",
    "        x_downsampled = self.downsample_1(x)\n",
    "        x = self.bottleneck_1_0(x)\n",
    "        x = self.bottleneck_1_1(x)\n",
    "        x = self.bottleneck_1_2(x)\n",
    "        x = x + x_downsampled\n",
    "        # layer 2\n",
    "        x_downsampled = self.downsample_2(x)\n",
    "        x = self.bottleneck_2_0(x)\n",
    "        x = self.bottleneck_2_1(x)\n",
    "        x = self.bottleneck_2_2(x)\n",
    "        x = self.bottleneck_2_3(x)\n",
    "        x = x + x_downsampled        \n",
    "        # layer 3\n",
    "        x_downsampled = self.downsample_3(x)\n",
    "        x = self.bottleneck_3_0(x)\n",
    "        x = self.bottleneck_3_1(x)\n",
    "        x = self.bottleneck_3_2(x)\n",
    "        x = self.bottleneck_3_3(x)\n",
    "        x = self.bottleneck_3_4(x)\n",
    "        x = self.bottleneck_3_5(x)\n",
    "        x = x + x_downsampled          \n",
    "        # layer 4\n",
    "        x_downsampled = self.downsample_4(x)\n",
    "        x = self.bottleneck_4_0(x)\n",
    "        x = self.bottleneck_4_1(x)\n",
    "        x = self.bottleneck_4_2(x)\n",
    "        x = x + x_downsampled        \n",
    "        # linear\n",
    "        #x_min_max = self.bn2(x_min_max)\n",
    "        x = self.avg_pool(x)\n",
    "        x = self.flatten(x)\n",
    "        x = self.linear1(x)\n",
    "        x = self.relu2(x)\n",
    "        x = self.linear2(x)\n",
    "        x = self.relu3(x)\n",
    "        x = self.linear3(x)\n",
    "        return x\n",
    "    \n",
    "    def inference(self, x):\n",
    "        x = self.forward(x)\n",
    "        x = self.sm(x)\n",
    "        return x    "
   ]
  },
  {
   "cell_type": "markdown",
   "id": "922d5fa9",
   "metadata": {},
   "source": [
    "#### Net train_age"
   ]
  },
  {
   "cell_type": "code",
   "execution_count": null,
   "id": "f81a3f6b",
   "metadata": {},
   "outputs": [],
   "source": [
    "%%time\n",
    "\n",
    "EPOCH=500\n",
    "\n",
    "res_net = ResNet1D().to('cuda')\n",
    "\n",
    "loss_fn = nn.CrossEntropyLoss()\n",
    "optimizer = optim.Adam(res_net.parameters(), lr=0.005)\n",
    "\n",
    "for epoch in range(EPOCH):\n",
    "    loss_array = np.array([], dtype=float)\n",
    "    for i, batch in enumerate(train_loader):\n",
    "        optimizer.zero_grad()\n",
    "        X_batch, _, y_age_batch = batch\n",
    "        X_batch = X_batch.to('cuda')\n",
    "        y_age_batch = y_age_batch.to('cuda')\n",
    "        \n",
    "        output = res_net.forward(X_batch)\n",
    "        loss =loss_fn(output, y_age_batch)\n",
    "        loss.backward()\n",
    "        optimizer.step()\n",
    "        loss_array = np.append(loss_array, loss.to('cpu').detach().numpy())\n",
    "        \n",
    "    if epoch % 1 == 0:\n",
    "        \n",
    "        print('---***---***---***---***---***---***---***---***---***---***---***---***---')\n",
    "        print('Predict start')\n",
    "        predict = torch.empty((1), dtype=torch.float).to('cuda')\n",
    "        y_valid_tensor = torch.empty((1), dtype=torch.float)\n",
    "        \n",
    "#        res_net.eval()\n",
    "        \n",
    "        for i_valid, batch_valid in enumerate(valid_loader):\n",
    "            X_batch_valid, _, y_age_batch_valid = batch_valid\n",
    "            X_batch_valid = X_batch_valid.to('cuda')\n",
    "            \n",
    "            predict_batch = torch.argmax(res_net.inference(X_batch_valid), dim=1)\n",
    "            predict = torch.cat((predict, predict_batch), 0)\n",
    "            y_valid_tensor = torch.cat((y_valid_tensor, y_age_batch_valid), 0)\n",
    "            \n",
    "#         res_net.train()\n",
    "        \n",
    "        predict = predict[1:]\n",
    "        y_valid_tensor = y_valid_tensor[1:]\n",
    "        #epoch_list.append(epoch)\n",
    "        loss_mean = loss_array.mean()\n",
    "        #loss_list.append(loss_mean)\n",
    "        print(f'Epoch: {epoch}, loss: {loss_mean:.3f}')\n",
    "        predict = predict.to('cpu').detach().numpy()\n",
    "        report = m.classification_report(y_valid_tensor.detach().numpy(), predict, output_dict=True)\n",
    "        f1__weighted_avg = report['weighted avg']['f1-score']\n",
    "        print('F1 weighted avg: ', f1__weighted_avg)\n"
   ]
  },
  {
   "cell_type": "markdown",
   "id": "d8a71df9",
   "metadata": {},
   "source": [
    "#### Net train_is_male"
   ]
  },
  {
   "cell_type": "code",
   "execution_count": null,
   "id": "54d4f9ab",
   "metadata": {},
   "outputs": [],
   "source": [
    "%%time\n",
    "\n",
    "EPOCH=500\n",
    "\n",
    "res_net = ResNet1D().to('cuda')\n",
    "\n",
    "loss_fn = nn.CrossEntropyLoss()\n",
    "optimizer = optim.Adam(res_net.parameters(), lr=0.005)\n",
    "\n",
    "for epoch in range(EPOCH):\n",
    "    loss_array = np.array([], dtype=float)\n",
    "    for i, batch in enumerate(train_loader):\n",
    "        optimizer.zero_grad()\n",
    "        X_batch, y_is_male_batch, _ = batch\n",
    "        X_batch = X_batch.to('cuda')\n",
    "        y_is_male_batch = y_is_male_batch.to('cuda')\n",
    "        \n",
    "        output = res_net.forward(X_batch)\n",
    "        loss =loss_fn(output, y_is_male_batch)\n",
    "        loss.backward()\n",
    "        optimizer.step()\n",
    "        loss_array = np.append(loss_array, loss.to('cpu').detach().numpy())\n",
    "        \n",
    "    if epoch % 1 == 0:\n",
    "        \n",
    "        print('---***---***---***---***---***---***---***---***---***---***---***---***---')\n",
    "        print('Predict start')\n",
    "        predict = np.empty((1), dtype=float)\n",
    "        y_valid_tensor = np.empty((1), dtype=float)\n",
    "        \n",
    "        #res_net.eval()\n",
    "        \n",
    "        for i_valid, batch_valid in enumerate(valid_loader):\n",
    "            X_batch_valid, y_is_male_batch_valid, _ = batch_valid\n",
    "            X_batch_valid = X_batch_valid.to('cuda')\n",
    "\n",
    "            predict_batch = res_net.inference(X_batch_valid)\n",
    "            predict = np.concatenate((predict, predict_batch.to('cpu').detach().numpy()[:,1]), 0)\n",
    "            y_valid_tensor = np.concatenate((y_valid_tensor, y_is_male_batch_valid.to('cpu').detach().numpy()), 0)\n",
    "            \n",
    "        #res_net.train()\n",
    "        \n",
    "        predict = predict[1:]\n",
    "        y_valid_tensor = y_valid_tensor[1:]\n",
    "        loss_mean = loss_array.mean()\n",
    "        print(f'Epoch: {epoch}, loss: {loss_mean:.3f}')\n",
    "        print(f'GINI по полу {2 * m.roc_auc_score(y_valid_tensor, predict) - 1:2.3f}')"
   ]
  },
  {
   "cell_type": "code",
   "execution_count": null,
   "id": "b2a1269c",
   "metadata": {},
   "outputs": [],
   "source": []
  },
  {
   "cell_type": "markdown",
   "id": "dec786d1",
   "metadata": {},
   "source": [
    "## ИТОГОВАЯ СБОРКА DATA"
   ]
  },
  {
   "cell_type": "markdown",
   "id": "5dbf9184",
   "metadata": {},
   "source": [
    "### Чтение признаков из файлов"
   ]
  },
  {
   "cell_type": "markdown",
   "id": "662e8df0",
   "metadata": {},
   "source": [
    "#### feature_url_only_text_day_of week_part_of_day"
   ]
  },
  {
   "cell_type": "raw",
   "id": "fcf805e2",
   "metadata": {},
   "source": [
    "# Текст из уникальных доменов без точек\n",
    "# разбивка по дням недели и времени дня\n",
    "# Не дало прибавки к дефолту\n",
    "\n",
    "feature_url_only_text_day_0_morning = pd.read_parquet(f'feature_url_only_text_day_0_morning.pqt')\n",
    "feature_url_only_text_day_0_day = pd.read_parquet(f'feature_url_only_text_day_0_day.pqt')\n",
    "feature_url_only_text_day_0_evening = pd.read_parquet(f'feature_url_only_text_day_0_evening.pqt')\n",
    "feature_url_only_text_day_0_night = pd.read_parquet(f'feature_url_only_text_day_0_night.pqt')\n",
    "feature_url_only_text_day_1_morning = pd.read_parquet(f'feature_url_only_text_day_1_morning.pqt')\n",
    "feature_url_only_text_day_1_day = pd.read_parquet(f'feature_url_only_text_day_1_day.pqt')\n",
    "feature_url_only_text_day_1_evening = pd.read_parquet(f'feature_url_only_text_day_1_evening.pqt')\n",
    "feature_url_only_text_day_1_night = pd.read_parquet(f'feature_url_only_text_day_1_night.pqt')\n",
    "feature_url_only_text_day_2_morning = pd.read_parquet(f'feature_url_only_text_day_2_morning.pqt')\n",
    "feature_url_only_text_day_2_day = pd.read_parquet(f'feature_url_only_text_day_2_day.pqt')\n",
    "feature_url_only_text_day_2_evening = pd.read_parquet(f'feature_url_only_text_day_2_evening.pqt')\n",
    "feature_url_only_text_day_2_night = pd.read_parquet(f'feature_url_only_text_day_2_night.pqt')\n",
    "feature_url_only_text_day_3_morning = pd.read_parquet(f'feature_url_only_text_day_3_morning.pqt')\n",
    "feature_url_only_text_day_3_day = pd.read_parquet(f'feature_url_only_text_day_3_day.pqt')\n",
    "feature_url_only_text_day_3_evening = pd.read_parquet(f'feature_url_only_text_day_3_evening.pqt')\n",
    "feature_url_only_text_day_3_night = pd.read_parquet(f'feature_url_only_text_day_3_night.pqt')\n",
    "feature_url_only_text_day_4_morning = pd.read_parquet(f'feature_url_only_text_day_4_morning.pqt')\n",
    "feature_url_only_text_day_4_day = pd.read_parquet(f'feature_url_only_text_day_4_day.pqt')\n",
    "feature_url_only_text_day_4_evening = pd.read_parquet(f'feature_url_only_text_day_4_evening.pqt')\n",
    "feature_url_only_text_day_4_night = pd.read_parquet(f'feature_url_only_text_day_4_night.pqt')\n",
    "feature_url_only_text_day_5_morning = pd.read_parquet(f'feature_url_only_text_day_5_morning.pqt')\n",
    "feature_url_only_text_day_5_day = pd.read_parquet(f'feature_url_only_text_day_5_day.pqt')\n",
    "feature_url_only_text_day_5_evening = pd.read_parquet(f'feature_url_only_text_day_5_evening.pqt')\n",
    "feature_url_only_text_day_5_night = pd.read_parquet(f'feature_url_only_text_day_5_night.pqt')\n",
    "feature_url_only_text_day_6_morning = pd.read_parquet(f'feature_url_only_text_day_6_morning.pqt')\n",
    "feature_url_only_text_day_6_day = pd.read_parquet(f'feature_url_only_text_day_6_day.pqt')\n",
    "feature_url_only_text_day_6_evening = pd.read_parquet(f'feature_url_only_text_day_6_evening.pqt')\n",
    "feature_url_only_text_day_6_night = pd.read_parquet(f'feature_url_only_text_day_6_night.pqt')\n",
    "\n",
    "feature_weekday_partday = pd.concat((\n",
    "    feature_url_only_text_day_0_morning,\n",
    "    feature_url_only_text_day_0_day.drop('user_id', axis=1),\n",
    "    feature_url_only_text_day_0_evening.drop('user_id', axis=1),\n",
    "    feature_url_only_text_day_0_night.drop('user_id', axis=1),\n",
    "    feature_url_only_text_day_1_morning.drop('user_id', axis=1),\n",
    "    feature_url_only_text_day_1_day.drop('user_id', axis=1),\n",
    "    feature_url_only_text_day_1_evening.drop('user_id', axis=1),\n",
    "    feature_url_only_text_day_1_night.drop('user_id', axis=1),\n",
    "    feature_url_only_text_day_2_morning.drop('user_id', axis=1),\n",
    "    feature_url_only_text_day_2_day.drop('user_id', axis=1),\n",
    "    feature_url_only_text_day_2_evening.drop('user_id', axis=1),\n",
    "    feature_url_only_text_day_2_night.drop('user_id', axis=1),\n",
    "    feature_url_only_text_day_3_morning.drop('user_id', axis=1),\n",
    "    feature_url_only_text_day_3_day.drop('user_id', axis=1),\n",
    "    feature_url_only_text_day_3_evening.drop('user_id', axis=1),\n",
    "    feature_url_only_text_day_3_night.drop('user_id', axis=1),\n",
    "    feature_url_only_text_day_4_morning.drop('user_id', axis=1),\n",
    "    feature_url_only_text_day_4_day.drop('user_id', axis=1),\n",
    "    feature_url_only_text_day_4_evening.drop('user_id', axis=1),\n",
    "    feature_url_only_text_day_4_night.drop('user_id', axis=1),\n",
    "    feature_url_only_text_day_5_morning.drop('user_id', axis=1),\n",
    "    feature_url_only_text_day_5_day.drop('user_id', axis=1),\n",
    "    feature_url_only_text_day_5_evening.drop('user_id', axis=1),\n",
    "    feature_url_only_text_day_5_night.drop('user_id', axis=1),\n",
    "    feature_url_only_text_day_6_morning.drop('user_id', axis=1),\n",
    "    feature_url_only_text_day_6_day.drop('user_id', axis=1),\n",
    "    feature_url_only_text_day_6_evening.drop('user_id', axis=1),\n",
    "    feature_url_only_text_day_6_night.drop('user_id', axis=1),\n",
    "    ), axis=1)\n",
    "\n",
    "del feature_url_only_text_day_0_morning, \\\n",
    "    feature_url_only_text_day_0_day, \\\n",
    "    feature_url_only_text_day_0_evening, \\\n",
    "    feature_url_only_text_day_0_night, \\\n",
    "    feature_url_only_text_day_1_morning, \\\n",
    "    feature_url_only_text_day_1_day, \\\n",
    "    feature_url_only_text_day_1_evening, \\\n",
    "    feature_url_only_text_day_1_night, \\\n",
    "    feature_url_only_text_day_2_morning, \\\n",
    "    feature_url_only_text_day_2_day, \\\n",
    "    feature_url_only_text_day_2_evening, \\\n",
    "    feature_url_only_text_day_2_night, \\\n",
    "    feature_url_only_text_day_3_morning, \\\n",
    "    feature_url_only_text_day_3_day, \\\n",
    "    feature_url_only_text_day_3_evening, \\\n",
    "    feature_url_only_text_day_3_night, \\\n",
    "    feature_url_only_text_day_4_morning, \\\n",
    "    feature_url_only_text_day_4_day, \\\n",
    "    feature_url_only_text_day_4_evening, \\\n",
    "    feature_url_only_text_day_4_night, \\\n",
    "    feature_url_only_text_day_5_morning, \\\n",
    "    feature_url_only_text_day_5_day, \\\n",
    "    feature_url_only_text_day_5_evening, \\\n",
    "    feature_url_only_text_day_5_night, \\\n",
    "    feature_url_only_text_day_6_morning, \\\n",
    "    feature_url_only_text_day_6_day, \\\n",
    "    feature_url_only_text_day_6_evening, \\\n",
    "    feature_url_only_text_day_6_night\n",
    "\n",
    "text_features=['text_day_0_morning','text_day_0_day','text_day_0_evening','text_day_0_night',\n",
    "               'text_day_1_morning','text_day_1_day','text_day_1_evening','text_day_1_night',\n",
    "               'text_day_2_morning','text_day_2_day','text_day_2_evening','text_day_2_night',\n",
    "               'text_day_3_morning','text_day_3_day','text_day_3_evening','text_day_3_night',\n",
    "               'text_day_4_morning','text_day_4_day','text_day_4_evening','text_day_4_night',\n",
    "               'text_day_5_morning','text_day_5_day','text_day_5_evening','text_day_5_night',\n",
    "               'text_day_6_morning','text_day_6_day','text_day_6_evening','text_day_6_night',\n",
    "              ]"
   ]
  },
  {
   "cell_type": "raw",
   "id": "8a621f6e",
   "metadata": {},
   "source": [
    "# Текст из уникальных доменов без точек\n",
    "# разбивка по рабочим и выходным дням и времени дня\n",
    "# Дало прибавку к дефолту\n",
    "\n",
    "feature_url_only_text_workday_morning = pd.read_parquet(f'feature_url_only_text_workday_morning.pqt')\n",
    "feature_url_only_text_workday_day = pd.read_parquet(f'feature_url_only_text_workday_day.pqt')\n",
    "feature_url_only_text_workday_evening = pd.read_parquet(f'feature_url_only_text_workday_evening.pqt')\n",
    "feature_url_only_text_workday_night = pd.read_parquet(f'feature_url_only_text_workday_night.pqt')\n",
    "feature_url_only_text_weekend_morning = pd.read_parquet(f'feature_url_only_text_weekend_morning.pqt')\n",
    "feature_url_only_text_weekend_day = pd.read_parquet(f'feature_url_only_text_weekend_day.pqt')\n",
    "feature_url_only_text_weekend_evening = pd.read_parquet(f'feature_url_only_text_weekend_evening.pqt')\n",
    "feature_url_only_text_weekend_night = pd.read_parquet(f'feature_url_only_text_weekend_night.pqt')\n",
    "\n",
    "\n",
    "feature_weekday_partday = pd.concat((\n",
    "    feature_url_only_text_workday_morning,\n",
    "    feature_url_only_text_workday_day.drop('user_id', axis=1),\n",
    "    feature_url_only_text_workday_evening.drop('user_id', axis=1),\n",
    "    feature_url_only_text_workday_night.drop('user_id', axis=1),\n",
    "    feature_url_only_text_weekend_morning.drop('user_id', axis=1),\n",
    "    feature_url_only_text_weekend_day.drop('user_id', axis=1),\n",
    "    feature_url_only_text_weekend_evening.drop('user_id', axis=1),\n",
    "    feature_url_only_text_weekend_night.drop('user_id', axis=1),\n",
    "    ), axis=1)\n",
    "\n",
    "del feature_url_only_text_workday_morning, \\\n",
    "    feature_url_only_text_workday_day, \\\n",
    "    feature_url_only_text_workday_evening, \\\n",
    "    feature_url_only_text_workday_night, \\\n",
    "    feature_url_only_text_weekend_morning, \\\n",
    "    feature_url_only_text_weekend_day, \\\n",
    "    feature_url_only_text_weekend_evening, \\\n",
    "    feature_url_only_text_weekend_night\n",
    "\n",
    "\n",
    "text_features=['text_workday_morning','text_workday_day','text_workday_evening','text_workday_night',\n",
    "               'text_weekend_morning','text_weekend_day','text_weekend_evening','text_weekend_night',\n",
    "              ]"
   ]
  },
  {
   "cell_type": "raw",
   "id": "9725a717",
   "metadata": {},
   "source": [
    "feature_weekday_partday_mix = feature_weekday_partday\n",
    "text_features_mix = text_features"
   ]
  },
  {
   "cell_type": "code",
   "execution_count": 189,
   "id": "1f92c0fc",
   "metadata": {},
   "outputs": [],
   "source": [
    "# Текст из уникальных доменов без точек\n",
    "# разбивка по времени дня\n",
    "# Дало прибавку к дефолту\n",
    "\n",
    "feature_url_only_text_morning = pd.read_parquet(f'feature_url_only_text_morning.pqt')\n",
    "feature_url_only_text_day = pd.read_parquet(f'feature_url_only_text_day.pqt')\n",
    "feature_url_only_text_evening = pd.read_parquet(f'feature_url_only_text_evening.pqt')\n",
    "feature_url_only_text_night = pd.read_parquet(f'feature_url_only_text_night.pqt')\n",
    "\n",
    "\n",
    "feature_weekday_partday = pd.concat((\n",
    "    feature_url_only_text_morning,\n",
    "    feature_url_only_text_day.drop('user_id', axis=1),\n",
    "    feature_url_only_text_evening.drop('user_id', axis=1),\n",
    "    feature_url_only_text_night.drop('user_id', axis=1),\n",
    "    ), axis=1)\n",
    "\n",
    "del feature_url_only_text_morning, \\\n",
    "    feature_url_only_text_day, \\\n",
    "    feature_url_only_text_evening, \\\n",
    "    feature_url_only_text_night\n",
    "\n",
    "\n",
    "text_features=['text_morning','text_day','text_evening','text_night']"
   ]
  },
  {
   "cell_type": "code",
   "execution_count": 190,
   "id": "7c45e3d8",
   "metadata": {},
   "outputs": [],
   "source": [
    "feature_weekday_partday_mix = feature_weekday_partday\n",
    "text_features_mix = text_features"
   ]
  },
  {
   "cell_type": "raw",
   "id": "ce5c247a",
   "metadata": {},
   "source": [
    "feature_weekday_partday_mix = pd.concat((\n",
    "    feature_weekday_partday_mix,\n",
    "    feature_weekday_partday.drop('user_id', axis=1),\n",
    "    ), axis=1)\n",
    "\n",
    "text_features_mix = text_features_mix + text_features"
   ]
  },
  {
   "cell_type": "code",
   "execution_count": 191,
   "id": "ce50ef81",
   "metadata": {},
   "outputs": [],
   "source": [
    "# Текст из уникальных доменов без точек\n",
    "# разбивка по дням недели\n",
    "# Дало среднюю прибавку к дефолту\n",
    "\n",
    "feature_url_only_text_day_0 = pd.read_parquet(f'feature_url_only_text_day_0.pqt')\n",
    "feature_url_only_text_day_1 = pd.read_parquet(f'feature_url_only_text_day_1.pqt')\n",
    "feature_url_only_text_day_2 = pd.read_parquet(f'feature_url_only_text_day_2.pqt')\n",
    "feature_url_only_text_day_3 = pd.read_parquet(f'feature_url_only_text_day_3.pqt')\n",
    "feature_url_only_text_day_4 = pd.read_parquet(f'feature_url_only_text_day_4.pqt')\n",
    "feature_url_only_text_day_5 = pd.read_parquet(f'feature_url_only_text_day_5.pqt')\n",
    "feature_url_only_text_day_6 = pd.read_parquet(f'feature_url_only_text_day_6.pqt')\n",
    "\n",
    "\n",
    "feature_weekday_partday = pd.concat((\n",
    "    feature_url_only_text_day_0,\n",
    "    feature_url_only_text_day_1.drop('user_id', axis=1),\n",
    "    feature_url_only_text_day_2.drop('user_id', axis=1),\n",
    "    feature_url_only_text_day_3.drop('user_id', axis=1),\n",
    "    feature_url_only_text_day_4.drop('user_id', axis=1),\n",
    "    feature_url_only_text_day_5.drop('user_id', axis=1),\n",
    "    feature_url_only_text_day_6.drop('user_id', axis=1),\n",
    "    ), axis=1)\n",
    "\n",
    "del feature_url_only_text_day_0, \\\n",
    "    feature_url_only_text_day_1, \\\n",
    "    feature_url_only_text_day_2, \\\n",
    "    feature_url_only_text_day_3, \\\n",
    "    feature_url_only_text_day_4, \\\n",
    "    feature_url_only_text_day_5, \\\n",
    "    feature_url_only_text_day_6\n",
    "\n",
    "text_features=['text_day_0','text_day_1','text_day_2','text_day_3','text_day_4','text_day_5','text_day_6']"
   ]
  },
  {
   "cell_type": "code",
   "execution_count": 192,
   "id": "8d16f98f",
   "metadata": {},
   "outputs": [],
   "source": [
    "feature_weekday_partday_mix = pd.concat((\n",
    "    feature_weekday_partday_mix,\n",
    "    feature_weekday_partday.drop('user_id', axis=1),\n",
    "    ), axis=1)\n",
    "\n",
    "text_features_mix = text_features_mix + text_features\n",
    "\n",
    "feature_weekday_partday = feature_weekday_partday_mix\n",
    "text_features = text_features_mix"
   ]
  },
  {
   "cell_type": "code",
   "execution_count": 193,
   "id": "bc6b1d6e",
   "metadata": {},
   "outputs": [
    {
     "data": {
      "text/html": [
       "<div>\n",
       "<style scoped>\n",
       "    .dataframe tbody tr th:only-of-type {\n",
       "        vertical-align: middle;\n",
       "    }\n",
       "\n",
       "    .dataframe tbody tr th {\n",
       "        vertical-align: top;\n",
       "    }\n",
       "\n",
       "    .dataframe thead th {\n",
       "        text-align: right;\n",
       "    }\n",
       "</style>\n",
       "<table border=\"1\" class=\"dataframe\">\n",
       "  <thead>\n",
       "    <tr style=\"text-align: right;\">\n",
       "      <th></th>\n",
       "      <th>text_morning</th>\n",
       "      <th>user_id</th>\n",
       "      <th>text_day</th>\n",
       "      <th>text_evening</th>\n",
       "      <th>text_night</th>\n",
       "      <th>text_day_0</th>\n",
       "      <th>text_day_1</th>\n",
       "      <th>text_day_2</th>\n",
       "      <th>text_day_3</th>\n",
       "      <th>text_day_4</th>\n",
       "      <th>text_day_5</th>\n",
       "      <th>text_day_6</th>\n",
       "    </tr>\n",
       "    <tr>\n",
       "      <th>user_id</th>\n",
       "      <th></th>\n",
       "      <th></th>\n",
       "      <th></th>\n",
       "      <th></th>\n",
       "      <th></th>\n",
       "      <th></th>\n",
       "      <th></th>\n",
       "      <th></th>\n",
       "      <th></th>\n",
       "      <th></th>\n",
       "      <th></th>\n",
       "      <th></th>\n",
       "    </tr>\n",
       "  </thead>\n",
       "  <tbody>\n",
       "    <tr>\n",
       "      <th>0</th>\n",
       "      <td>googleadsgdoubleclicknet yastaticnet node1onl...</td>\n",
       "      <td>0</td>\n",
       "      <td>yandexru mavitoru codedirectadvertru edaru ra...</td>\n",
       "      <td>s02mdnnet avatarsmdsyandexnet  adsadfoxru goto...</td>\n",
       "      <td>googleadsgdoubleclicknet</td>\n",
       "      <td>mokru googleadsgdoubleclicknet wildberriesru</td>\n",
       "      <td>mavitoru s02mdnnet codedirectadvertru rabotka...</td>\n",
       "      <td>avatarsmdsyandexnet yandexru adsadfoxru googl...</td>\n",
       "      <td>googleadsgdoubleclicknet</td>\n",
       "      <td>node1onlinesberbankru onlinesberbankru google...</td>\n",
       "      <td>s02mdnnet  googleadsgdoubleclicknet gotovim-do...</td>\n",
       "      <td>edaru googleadsgdoubleclicknet wildberriesru ...</td>\n",
       "    </tr>\n",
       "    <tr>\n",
       "      <th>1</th>\n",
       "      <td>iytimgcom linstagramcom googleadsgdoubleclick...</td>\n",
       "      <td>1</td>\n",
       "      <td>googleru tpcgooglesyndicationcom bannersadfox...</td>\n",
       "      <td>adsbetweendigitalcom googleadsgdoubleclicknet...</td>\n",
       "      <td>avatarsmdsyandexnet  yandexru mpweixinqqcom ya...</td>\n",
       "      <td>adsbetweendigitalcom googleru yandexru vkcom ...</td>\n",
       "      <td>googleadsgdoubleclicknet whatsappcom cstaticw...</td>\n",
       "      <td>googleadsgdoubleclicknet mailyandexru s3amazo...</td>\n",
       "      <td>linstagramcom adsbetweendigitalcom playgoogle...</td>\n",
       "      <td>avatarsmdsyandexnet  bannersadfoxru vkcom tass...</td>\n",
       "      <td>iytimgcom tpcgooglesyndicationcom trendsrbcru...</td>\n",
       "      <td>yandexru ipinimgcom s3amazonawscom allshopsme...</td>\n",
       "    </tr>\n",
       "    <tr>\n",
       "      <th>2</th>\n",
       "      <td>googleadsgdoubleclicknet yandexru vkcom node1...</td>\n",
       "      <td>2</td>\n",
       "      <td>lentarumediaeagleplatformcom  yandexru iytimgc...</td>\n",
       "      <td>iytimgcom node1onlinesberbankru vkcom googlea...</td>\n",
       "      <td>googleadsgdoubleclicknet vkcom</td>\n",
       "      <td>iytimgcom googleadsgdoubleclicknet vkcom node...</td>\n",
       "      <td>googleadsgdoubleclicknet sun9-32userapicom ya...</td>\n",
       "      <td>lentarumediaeagleplatformcom  yandexru googlea...</td>\n",
       "      <td>node1onlinesberbankru googleadsgdoubleclickne...</td>\n",
       "      <td>googleadsgdoubleclicknet tpcgooglesyndication...</td>\n",
       "      <td>iytimgcom googleadsgdoubleclicknet vkcom avat...</td>\n",
       "      <td>iytimgcom vkcom yandexru onlinesberbankru nod...</td>\n",
       "    </tr>\n",
       "    <tr>\n",
       "      <th>3</th>\n",
       "      <td>mailyandexru mvkcom yastaticnet admailru imas...</td>\n",
       "      <td>3</td>\n",
       "      <td>avatarsmdsyandexnet pozdravokru onlinesberban...</td>\n",
       "      <td>admailru  onlinesberbankru zenyandexru relapio...</td>\n",
       "      <td>vkcom</td>\n",
       "      <td>vkcom sun9-17userapicom sun9-61userapicom onl...</td>\n",
       "      <td>admailru onlinesberbankru yandexru mailyandex...</td>\n",
       "      <td>onlinesberbankru relapio sun9-27userapicom av...</td>\n",
       "      <td>admailru imasdkgoogleapiscom adsbetweendigita...</td>\n",
       "      <td>avatarsmdsyandexnet zenyandexru mvkcom online...</td>\n",
       "      <td>mailyandexru yastaticnet awayvkcom admailru m...</td>\n",
       "      <td>admailru  pozdravokru onlinesberbankru avatars...</td>\n",
       "    </tr>\n",
       "    <tr>\n",
       "      <th>4</th>\n",
       "      <td>kpmd  yhbpotm-rcom s02mdnnet iytimgcom admailr...</td>\n",
       "      <td>4</td>\n",
       "      <td>avatarsmdsyandexnet adsbetweendigitalcom adsa...</td>\n",
       "      <td>yastaticnet sun9-85userapicom iytimgcom mvkco...</td>\n",
       "      <td>cloudmailru iytimgcom o2mailru</td>\n",
       "      <td>sun9-88userapicom iytimgcom enigma-projectru ...</td>\n",
       "      <td>adsadfoxru googlecom yandexru googleadsgdoubl...</td>\n",
       "      <td>avatarsmdsyandexnet adsadfoxru mvkcom stcallk...</td>\n",
       "      <td>adadriverru mvkcom cloudmailru imasdkgoogleap...</td>\n",
       "      <td>kpmd yastaticnet  iytimgcom admailru prodoctor...</td>\n",
       "      <td>sun9-85userapicom yhbpotm-rcom iytimgcom vkco...</td>\n",
       "      <td>adsbetweendigitalcom s02mdnnet googleadsgdoub...</td>\n",
       "    </tr>\n",
       "    <tr>\n",
       "      <th>...</th>\n",
       "      <td>...</td>\n",
       "      <td>...</td>\n",
       "      <td>...</td>\n",
       "      <td>...</td>\n",
       "      <td>...</td>\n",
       "      <td>...</td>\n",
       "      <td>...</td>\n",
       "      <td>...</td>\n",
       "      <td>...</td>\n",
       "      <td>...</td>\n",
       "      <td>...</td>\n",
       "      <td>...</td>\n",
       "    </tr>\n",
       "    <tr>\n",
       "      <th>415312</th>\n",
       "      <td></td>\n",
       "      <td>415312</td>\n",
       "      <td>googleadsgdoubleclicknet</td>\n",
       "      <td></td>\n",
       "      <td></td>\n",
       "      <td></td>\n",
       "      <td></td>\n",
       "      <td></td>\n",
       "      <td>googleadsgdoubleclicknet</td>\n",
       "      <td></td>\n",
       "      <td></td>\n",
       "      <td></td>\n",
       "    </tr>\n",
       "    <tr>\n",
       "      <th>415313</th>\n",
       "      <td></td>\n",
       "      <td>415313</td>\n",
       "      <td>avatarsmdsyandexnet</td>\n",
       "      <td></td>\n",
       "      <td></td>\n",
       "      <td></td>\n",
       "      <td></td>\n",
       "      <td></td>\n",
       "      <td></td>\n",
       "      <td></td>\n",
       "      <td>avatarsmdsyandexnet</td>\n",
       "      <td></td>\n",
       "    </tr>\n",
       "    <tr>\n",
       "      <th>415314</th>\n",
       "      <td></td>\n",
       "      <td>415314</td>\n",
       "      <td>vkcom</td>\n",
       "      <td></td>\n",
       "      <td></td>\n",
       "      <td>vkcom</td>\n",
       "      <td></td>\n",
       "      <td></td>\n",
       "      <td></td>\n",
       "      <td></td>\n",
       "      <td></td>\n",
       "      <td></td>\n",
       "    </tr>\n",
       "    <tr>\n",
       "      <th>415315</th>\n",
       "      <td></td>\n",
       "      <td>415315</td>\n",
       "      <td>yandexru</td>\n",
       "      <td></td>\n",
       "      <td></td>\n",
       "      <td></td>\n",
       "      <td></td>\n",
       "      <td></td>\n",
       "      <td></td>\n",
       "      <td></td>\n",
       "      <td></td>\n",
       "      <td>yandexru</td>\n",
       "    </tr>\n",
       "    <tr>\n",
       "      <th>415316</th>\n",
       "      <td></td>\n",
       "      <td>415316</td>\n",
       "      <td></td>\n",
       "      <td></td>\n",
       "      <td>googleadsgdoubleclicknet</td>\n",
       "      <td></td>\n",
       "      <td></td>\n",
       "      <td></td>\n",
       "      <td></td>\n",
       "      <td></td>\n",
       "      <td></td>\n",
       "      <td>googleadsgdoubleclicknet</td>\n",
       "    </tr>\n",
       "  </tbody>\n",
       "</table>\n",
       "<p>415317 rows × 12 columns</p>\n",
       "</div>"
      ],
      "text/plain": [
       "                                              text_morning  user_id  \\\n",
       "user_id                                                               \n",
       "0         googleadsgdoubleclicknet yastaticnet node1onl...        0   \n",
       "1         iytimgcom linstagramcom googleadsgdoubleclick...        1   \n",
       "2         googleadsgdoubleclicknet yandexru vkcom node1...        2   \n",
       "3         mailyandexru mvkcom yastaticnet admailru imas...        3   \n",
       "4        kpmd  yhbpotm-rcom s02mdnnet iytimgcom admailr...        4   \n",
       "...                                                    ...      ...   \n",
       "415312                                                       415312   \n",
       "415313                                                       415313   \n",
       "415314                                                       415314   \n",
       "415315                                                       415315   \n",
       "415316                                                       415316   \n",
       "\n",
       "                                                  text_day  \\\n",
       "user_id                                                      \n",
       "0         yandexru mavitoru codedirectadvertru edaru ra...   \n",
       "1         googleru tpcgooglesyndicationcom bannersadfox...   \n",
       "2        lentarumediaeagleplatformcom  yandexru iytimgc...   \n",
       "3         avatarsmdsyandexnet pozdravokru onlinesberban...   \n",
       "4         avatarsmdsyandexnet adsbetweendigitalcom adsa...   \n",
       "...                                                    ...   \n",
       "415312                            googleadsgdoubleclicknet   \n",
       "415313                                 avatarsmdsyandexnet   \n",
       "415314                                               vkcom   \n",
       "415315                                            yandexru   \n",
       "415316                                                       \n",
       "\n",
       "                                              text_evening  \\\n",
       "user_id                                                      \n",
       "0        s02mdnnet avatarsmdsyandexnet  adsadfoxru goto...   \n",
       "1         adsbetweendigitalcom googleadsgdoubleclicknet...   \n",
       "2         iytimgcom node1onlinesberbankru vkcom googlea...   \n",
       "3        admailru  onlinesberbankru zenyandexru relapio...   \n",
       "4         yastaticnet sun9-85userapicom iytimgcom mvkco...   \n",
       "...                                                    ...   \n",
       "415312                                                       \n",
       "415313                                                       \n",
       "415314                                                       \n",
       "415315                                                       \n",
       "415316                                                       \n",
       "\n",
       "                                                text_night  \\\n",
       "user_id                                                      \n",
       "0                                 googleadsgdoubleclicknet   \n",
       "1        avatarsmdsyandexnet  yandexru mpweixinqqcom ya...   \n",
       "2                           googleadsgdoubleclicknet vkcom   \n",
       "3                                                    vkcom   \n",
       "4                           cloudmailru iytimgcom o2mailru   \n",
       "...                                                    ...   \n",
       "415312                                                       \n",
       "415313                                                       \n",
       "415314                                                       \n",
       "415315                                                       \n",
       "415316                            googleadsgdoubleclicknet   \n",
       "\n",
       "                                                text_day_0  \\\n",
       "user_id                                                      \n",
       "0             mokru googleadsgdoubleclicknet wildberriesru   \n",
       "1         adsbetweendigitalcom googleru yandexru vkcom ...   \n",
       "2         iytimgcom googleadsgdoubleclicknet vkcom node...   \n",
       "3         vkcom sun9-17userapicom sun9-61userapicom onl...   \n",
       "4         sun9-88userapicom iytimgcom enigma-projectru ...   \n",
       "...                                                    ...   \n",
       "415312                                                       \n",
       "415313                                                       \n",
       "415314                                               vkcom   \n",
       "415315                                                       \n",
       "415316                                                       \n",
       "\n",
       "                                                text_day_1  \\\n",
       "user_id                                                      \n",
       "0         mavitoru s02mdnnet codedirectadvertru rabotka...   \n",
       "1         googleadsgdoubleclicknet whatsappcom cstaticw...   \n",
       "2         googleadsgdoubleclicknet sun9-32userapicom ya...   \n",
       "3         admailru onlinesberbankru yandexru mailyandex...   \n",
       "4         adsadfoxru googlecom yandexru googleadsgdoubl...   \n",
       "...                                                    ...   \n",
       "415312                                                       \n",
       "415313                                                       \n",
       "415314                                                       \n",
       "415315                                                       \n",
       "415316                                                       \n",
       "\n",
       "                                                text_day_2  \\\n",
       "user_id                                                      \n",
       "0         avatarsmdsyandexnet yandexru adsadfoxru googl...   \n",
       "1         googleadsgdoubleclicknet mailyandexru s3amazo...   \n",
       "2        lentarumediaeagleplatformcom  yandexru googlea...   \n",
       "3         onlinesberbankru relapio sun9-27userapicom av...   \n",
       "4         avatarsmdsyandexnet adsadfoxru mvkcom stcallk...   \n",
       "...                                                    ...   \n",
       "415312                                                       \n",
       "415313                                                       \n",
       "415314                                                       \n",
       "415315                                                       \n",
       "415316                                                       \n",
       "\n",
       "                                                text_day_3  \\\n",
       "user_id                                                      \n",
       "0                                 googleadsgdoubleclicknet   \n",
       "1         linstagramcom adsbetweendigitalcom playgoogle...   \n",
       "2         node1onlinesberbankru googleadsgdoubleclickne...   \n",
       "3         admailru imasdkgoogleapiscom adsbetweendigita...   \n",
       "4         adadriverru mvkcom cloudmailru imasdkgoogleap...   \n",
       "...                                                    ...   \n",
       "415312                            googleadsgdoubleclicknet   \n",
       "415313                                                       \n",
       "415314                                                       \n",
       "415315                                                       \n",
       "415316                                                       \n",
       "\n",
       "                                                text_day_4  \\\n",
       "user_id                                                      \n",
       "0         node1onlinesberbankru onlinesberbankru google...   \n",
       "1        avatarsmdsyandexnet  bannersadfoxru vkcom tass...   \n",
       "2         googleadsgdoubleclicknet tpcgooglesyndication...   \n",
       "3         avatarsmdsyandexnet zenyandexru mvkcom online...   \n",
       "4        kpmd yastaticnet  iytimgcom admailru prodoctor...   \n",
       "...                                                    ...   \n",
       "415312                                                       \n",
       "415313                                                       \n",
       "415314                                                       \n",
       "415315                                                       \n",
       "415316                                                       \n",
       "\n",
       "                                                text_day_5  \\\n",
       "user_id                                                      \n",
       "0        s02mdnnet  googleadsgdoubleclicknet gotovim-do...   \n",
       "1         iytimgcom tpcgooglesyndicationcom trendsrbcru...   \n",
       "2         iytimgcom googleadsgdoubleclicknet vkcom avat...   \n",
       "3         mailyandexru yastaticnet awayvkcom admailru m...   \n",
       "4         sun9-85userapicom yhbpotm-rcom iytimgcom vkco...   \n",
       "...                                                    ...   \n",
       "415312                                                       \n",
       "415313                                 avatarsmdsyandexnet   \n",
       "415314                                                       \n",
       "415315                                                       \n",
       "415316                                                       \n",
       "\n",
       "                                                text_day_6  \n",
       "user_id                                                     \n",
       "0         edaru googleadsgdoubleclicknet wildberriesru ...  \n",
       "1         yandexru ipinimgcom s3amazonawscom allshopsme...  \n",
       "2         iytimgcom vkcom yandexru onlinesberbankru nod...  \n",
       "3        admailru  pozdravokru onlinesberbankru avatars...  \n",
       "4         adsbetweendigitalcom s02mdnnet googleadsgdoub...  \n",
       "...                                                    ...  \n",
       "415312                                                      \n",
       "415313                                                      \n",
       "415314                                                      \n",
       "415315                                            yandexru  \n",
       "415316                            googleadsgdoubleclicknet  \n",
       "\n",
       "[415317 rows x 12 columns]"
      ]
     },
     "execution_count": 193,
     "metadata": {},
     "output_type": "execute_result"
    }
   ],
   "source": [
    "feature_weekday_partday"
   ]
  },
  {
   "cell_type": "code",
   "execution_count": 194,
   "id": "c5fe2e22",
   "metadata": {
    "scrolled": false
   },
   "outputs": [
    {
     "data": {
      "text/plain": [
       "['text_morning',\n",
       " 'text_day',\n",
       " 'text_evening',\n",
       " 'text_night',\n",
       " 'text_day_0',\n",
       " 'text_day_1',\n",
       " 'text_day_2',\n",
       " 'text_day_3',\n",
       " 'text_day_4',\n",
       " 'text_day_5',\n",
       " 'text_day_6']"
      ]
     },
     "execution_count": 194,
     "metadata": {},
     "output_type": "execute_result"
    }
   ],
   "source": [
    "text_features"
   ]
  },
  {
   "cell_type": "markdown",
   "id": "156fed42",
   "metadata": {},
   "source": [
    "#### feature_recuest_cnt_day_of_week_part_of_day"
   ]
  },
  {
   "cell_type": "code",
   "execution_count": 195,
   "id": "454d7923",
   "metadata": {},
   "outputs": [
    {
     "name": "stdout",
     "output_type": "stream",
     "text": [
      "(415317, 29)\n"
     ]
    }
   ],
   "source": [
    "feature_request_cnt_day_of_week_part_of_day = pd.read_parquet(f'feature_request_cnt_day_of_week_part_of_day.pqt')\n",
    "print(feature_request_cnt_day_of_week_part_of_day.shape)"
   ]
  },
  {
   "cell_type": "code",
   "execution_count": 196,
   "id": "39d71630",
   "metadata": {},
   "outputs": [
    {
     "name": "stdout",
     "output_type": "stream",
     "text": [
      "(415317, 5)\n"
     ]
    }
   ],
   "source": [
    "feature_request_cnt_workday_part_of_day = pd.read_parquet(f'feature_request_cnt_workday_part_of_day.pqt')\n",
    "print(feature_request_cnt_workday_part_of_day.shape)"
   ]
  },
  {
   "cell_type": "code",
   "execution_count": 197,
   "id": "678267a5",
   "metadata": {},
   "outputs": [
    {
     "name": "stdout",
     "output_type": "stream",
     "text": [
      "(415317, 5)\n"
     ]
    }
   ],
   "source": [
    "feature_request_cnt_weekend_part_of_day = pd.read_parquet(f'feature_request_cnt_weekend_part_of_day.pqt')\n",
    "print(feature_request_cnt_weekend_part_of_day.shape)"
   ]
  },
  {
   "cell_type": "code",
   "execution_count": 198,
   "id": "4938b1c4",
   "metadata": {
    "scrolled": true
   },
   "outputs": [
    {
     "name": "stdout",
     "output_type": "stream",
     "text": [
      "(415317, 5)\n"
     ]
    }
   ],
   "source": [
    "feature_request_cnt_part_of_day = pd.read_parquet(f'feature_request_cnt_part_of_day.pqt')\n",
    "print(feature_request_cnt_part_of_day.shape)"
   ]
  },
  {
   "cell_type": "code",
   "execution_count": 199,
   "id": "e8da2a15",
   "metadata": {},
   "outputs": [
    {
     "name": "stdout",
     "output_type": "stream",
     "text": [
      "(415317, 8)\n"
     ]
    }
   ],
   "source": [
    "#\n",
    "#\n",
    "\n",
    "feature_request_cnt_day_of_week = pd.read_parquet(f'feature_request_cnt_day_of_week.pqt')\n",
    "print(feature_request_cnt_day_of_week.shape)"
   ]
  },
  {
   "cell_type": "raw",
   "id": "e5e27ae3",
   "metadata": {},
   "source": [
    "feature_request_cnt_weekday_partday = feature = pd.concat((feature_request_cnt_part_of_day,\n",
    "                                                           feature_request_cnt_day_of_week.drop('user_id', axis=1),\n",
    "                                                           feature_request_cnt_day_of_week_part_of_day.drop('user_id', axis=1),\n",
    "                                                           feature_request_cnt_workday_part_of_day.drop('user_id', axis=1),\n",
    "                                                           feature_request_cnt_weekend_part_of_day.drop('user_id', axis=1),\n",
    "                                                         ), axis=1)"
   ]
  },
  {
   "cell_type": "code",
   "execution_count": 200,
   "id": "6c61c03b",
   "metadata": {},
   "outputs": [],
   "source": [
    "feature_request_cnt_weekday_partday = feature_request_cnt_day_of_week_part_of_day"
   ]
  },
  {
   "cell_type": "markdown",
   "id": "6e6d4609",
   "metadata": {},
   "source": [
    "#### Остальное"
   ]
  },
  {
   "cell_type": "code",
   "execution_count": 201,
   "id": "f5f7ad9c",
   "metadata": {},
   "outputs": [
    {
     "name": "stdout",
     "output_type": "stream",
     "text": [
      "(415317, 2)\n",
      "(415317, 2)\n",
      "(415317, 3)\n",
      "(415317, 2)\n",
      "(415317, 5)\n",
      "(415317, 8)\n",
      "(415317, 4)\n",
      "(415317, 50)\n"
     ]
    }
   ],
   "source": [
    "# Текст из уникальных доменов 2-го уровня без точек\n",
    "feature_url_only_XX_2_domains_without_dot_text = pd.read_parquet(f'feature_url_only_XX_2_domains_without_dot_text.pqt')\n",
    "print(feature_url_only_XX_2_domains_without_dot_text.shape)\n",
    "\n",
    "# Текст регионы и города\n",
    "feature_region_text = pd.read_parquet(f'feature_region_text.pqt')\n",
    "print(feature_region_text.shape)\n",
    "\n",
    "# Категориальные признаки производитель и модель устройства\n",
    "feature_manufacturer_model = pd.read_parquet(f'feature_manufacturer_model.pqt')\n",
    "print(feature_manufacturer_model.shape)\n",
    "\n",
    "# Категориальные признаки тип устройства и тип ос\n",
    "feature_cpe_os = pd.read_parquet(f'feature_cpe_os.pqt')[['user_id','cpe_model_os_type']]\n",
    "print(feature_cpe_os.shape)\n",
    "\n",
    "# Числовой признак часть суток, несколько столбцов (счётный и нормализованный для всех частей суток)\n",
    "feature_part_of_day = pd.read_parquet(f'feature_part_of_day.pqt')\n",
    "feature_part_of_day = feature_part_of_day[['user_id','morning_count','day_count','evening_count','night_count']]\n",
    "#feature_part_of_day = feature_part_of_day[['user_id','morning_count_norm','day_count_norm','evening_count_norm','night_count_norm']]\n",
    "print(feature_part_of_day.shape)\n",
    "\n",
    "# Числовой признак день недели, несколько столбцов (счётный и нормализованный для всех дней недели)\n",
    "feature_day_of_week = pd.read_parquet(f'feature_day_of_week.pqt')\n",
    "feature_day_of_week = feature_day_of_week[['user_id','day_0_count','day_1_count','day_2_count','day_3_count','day_4_count','day_5_count','day_6_count']]\n",
    "print(feature_day_of_week.shape)\n",
    "\n",
    "# Числовой признак цена устройства\n",
    "feature_price = pd.read_parquet(f'feature_price.pqt')\n",
    "print(feature_price.shape)\n",
    "\n",
    "\n",
    "feature = pd.concat((feature_url_only_XX_2_domains_without_dot_text,\n",
    "                     feature_weekday_partday.drop('user_id', axis=1),\n",
    "                     #feature_url_request_cnt_XX_2_domains_without_dot_text,\n",
    "                     #feature_url_only_XX_2_domains_clean_description_text.drop('user_id', axis=1),\n",
    "                     #feature_url_only_XX_2_domains_tfidf_faiss_als.drop('user_id', axis=1),\n",
    "                     #feature_url_only_XX_2_domains_tfidf_faiss_als_emb.drop('user_id', axis=1),\n",
    "                     #feature_description_only_XX_2_domains_clean_text_emb.drop('user_id', axis=1),\n",
    "                     #feature_description_only_XX_2_domains_clean_text_separate_emb.drop('user_id', axis=1),\n",
    "                     feature_region_text.drop('user_id', axis=1),\n",
    "                     feature_manufacturer_model.drop('user_id', axis=1),\n",
    "                     feature_part_of_day.drop('user_id', axis=1),\n",
    "                     #feature_day_of_week.drop('user_id', axis=1),\n",
    "                     feature_price.drop(['user_id','min','max'], axis=1),\n",
    "                     feature_cpe_os.drop(['user_id'], axis=1),\n",
    "                     feature_request_cnt_weekday_partday.drop('user_id', axis=1),\n",
    "                     #feature_url_request_cnt_XX_2_domains_faiss_als_1200.drop('user_id', axis=1),\n",
    "                     #feature_url_request_cnt_2domens_weekend_faiss_als.drop('user_id', axis=1),\n",
    "                     #feature_url_request_cnt_2domens_workday_faiss_als.drop('user_id', axis=1),\n",
    "                    ), axis=1)\n",
    "print(feature.shape)\n",
    "\n",
    "#feature = feature_url_request_cnt_2domens_weekend_faiss_als\n",
    "\n",
    "#embedding_features=['domains_2_tfidf_faiss_als_emb','description_bert_emb']\n",
    "#embedding_features=['description_bert_emb']\n",
    "embedding_features=None\n",
    "#text_features=['text_2_domains','description_text_2_domains','region_text','url_cnt']\n",
    "#text_features=['text_2_domains','region_text']\n",
    "#text_features=['text_day_0_day','region_text']\n",
    "text_features += ['text_2_domains','region_text']\n",
    "\n",
    "#text_features=None\n",
    "cat_features = ['manufacturer','model','cpe_model_os_type']\n",
    "#cat_features = ['manufacturer','model']\n",
    "#cat_features = None\n",
    "\n",
    "del feature_url_only_XX_2_domains_without_dot_text, \\\n",
    "    feature_region_text, \\\n",
    "    feature_manufacturer_model, \\\n",
    "    feature_part_of_day, \\\n",
    "    feature_day_of_week, \\\n",
    "    feature_price, \\\n",
    "    feature_cpe_os, \\\n",
    "    feature_request_cnt_weekday_partday"
   ]
  },
  {
   "cell_type": "code",
   "execution_count": 202,
   "id": "6688ecb1",
   "metadata": {
    "scrolled": false
   },
   "outputs": [
    {
     "data": {
      "text/html": [
       "<div>\n",
       "<style scoped>\n",
       "    .dataframe tbody tr th:only-of-type {\n",
       "        vertical-align: middle;\n",
       "    }\n",
       "\n",
       "    .dataframe tbody tr th {\n",
       "        vertical-align: top;\n",
       "    }\n",
       "\n",
       "    .dataframe thead th {\n",
       "        text-align: right;\n",
       "    }\n",
       "</style>\n",
       "<table border=\"1\" class=\"dataframe\">\n",
       "  <thead>\n",
       "    <tr style=\"text-align: right;\">\n",
       "      <th></th>\n",
       "      <th>text_2_domains</th>\n",
       "      <th>user_id</th>\n",
       "      <th>text_morning</th>\n",
       "      <th>text_day</th>\n",
       "      <th>text_evening</th>\n",
       "      <th>text_night</th>\n",
       "      <th>text_day_0</th>\n",
       "      <th>text_day_1</th>\n",
       "      <th>text_day_2</th>\n",
       "      <th>text_day_3</th>\n",
       "      <th>...</th>\n",
       "      <th>request_cnt_day_4_evening</th>\n",
       "      <th>request_cnt_day_4_night</th>\n",
       "      <th>request_cnt_day_5_morning</th>\n",
       "      <th>request_cnt_day_5_day</th>\n",
       "      <th>request_cnt_day_5_evening</th>\n",
       "      <th>request_cnt_day_5_night</th>\n",
       "      <th>request_cnt_day_6_morning</th>\n",
       "      <th>request_cnt_day_6_day</th>\n",
       "      <th>request_cnt_day_6_evening</th>\n",
       "      <th>request_cnt_day_6_night</th>\n",
       "    </tr>\n",
       "  </thead>\n",
       "  <tbody>\n",
       "    <tr>\n",
       "      <th>0</th>\n",
       "      <td>s02mdnnet avatarsmdsyandexnet googleadsgdouble...</td>\n",
       "      <td>0</td>\n",
       "      <td>googleadsgdoubleclicknet yastaticnet node1onl...</td>\n",
       "      <td>yandexru mavitoru codedirectadvertru edaru ra...</td>\n",
       "      <td>s02mdnnet avatarsmdsyandexnet  adsadfoxru goto...</td>\n",
       "      <td>googleadsgdoubleclicknet</td>\n",
       "      <td>mokru googleadsgdoubleclicknet wildberriesru</td>\n",
       "      <td>mavitoru s02mdnnet codedirectadvertru rabotka...</td>\n",
       "      <td>avatarsmdsyandexnet yandexru adsadfoxru googl...</td>\n",
       "      <td>googleadsgdoubleclicknet</td>\n",
       "      <td>...</td>\n",
       "      <td>1.000000</td>\n",
       "      <td>0.0</td>\n",
       "      <td>1.000000</td>\n",
       "      <td>1.000000</td>\n",
       "      <td>1.250</td>\n",
       "      <td>1.0</td>\n",
       "      <td>1.250000</td>\n",
       "      <td>4.000000</td>\n",
       "      <td>1.6000</td>\n",
       "      <td>0.0</td>\n",
       "    </tr>\n",
       "    <tr>\n",
       "      <th>1</th>\n",
       "      <td>avatarsmdsyandexnet iytimgcom adsbetweendigita...</td>\n",
       "      <td>1</td>\n",
       "      <td>iytimgcom linstagramcom googleadsgdoubleclick...</td>\n",
       "      <td>googleru tpcgooglesyndicationcom bannersadfox...</td>\n",
       "      <td>adsbetweendigitalcom googleadsgdoubleclicknet...</td>\n",
       "      <td>avatarsmdsyandexnet  yandexru mpweixinqqcom ya...</td>\n",
       "      <td>adsbetweendigitalcom googleru yandexru vkcom ...</td>\n",
       "      <td>googleadsgdoubleclicknet whatsappcom cstaticw...</td>\n",
       "      <td>googleadsgdoubleclicknet mailyandexru s3amazo...</td>\n",
       "      <td>linstagramcom adsbetweendigitalcom playgoogle...</td>\n",
       "      <td>...</td>\n",
       "      <td>2.083333</td>\n",
       "      <td>1.0</td>\n",
       "      <td>1.297297</td>\n",
       "      <td>1.565217</td>\n",
       "      <td>1.375</td>\n",
       "      <td>1.0</td>\n",
       "      <td>1.411765</td>\n",
       "      <td>1.736842</td>\n",
       "      <td>1.3125</td>\n",
       "      <td>1.0</td>\n",
       "    </tr>\n",
       "  </tbody>\n",
       "</table>\n",
       "<p>2 rows × 50 columns</p>\n",
       "</div>"
      ],
      "text/plain": [
       "                                      text_2_domains  user_id  \\\n",
       "0  s02mdnnet avatarsmdsyandexnet googleadsgdouble...        0   \n",
       "1  avatarsmdsyandexnet iytimgcom adsbetweendigita...        1   \n",
       "\n",
       "                                        text_morning  \\\n",
       "0   googleadsgdoubleclicknet yastaticnet node1onl...   \n",
       "1   iytimgcom linstagramcom googleadsgdoubleclick...   \n",
       "\n",
       "                                            text_day  \\\n",
       "0   yandexru mavitoru codedirectadvertru edaru ra...   \n",
       "1   googleru tpcgooglesyndicationcom bannersadfox...   \n",
       "\n",
       "                                        text_evening  \\\n",
       "0  s02mdnnet avatarsmdsyandexnet  adsadfoxru goto...   \n",
       "1   adsbetweendigitalcom googleadsgdoubleclicknet...   \n",
       "\n",
       "                                          text_night  \\\n",
       "0                           googleadsgdoubleclicknet   \n",
       "1  avatarsmdsyandexnet  yandexru mpweixinqqcom ya...   \n",
       "\n",
       "                                          text_day_0  \\\n",
       "0       mokru googleadsgdoubleclicknet wildberriesru   \n",
       "1   adsbetweendigitalcom googleru yandexru vkcom ...   \n",
       "\n",
       "                                          text_day_1  \\\n",
       "0   mavitoru s02mdnnet codedirectadvertru rabotka...   \n",
       "1   googleadsgdoubleclicknet whatsappcom cstaticw...   \n",
       "\n",
       "                                          text_day_2  \\\n",
       "0   avatarsmdsyandexnet yandexru adsadfoxru googl...   \n",
       "1   googleadsgdoubleclicknet mailyandexru s3amazo...   \n",
       "\n",
       "                                          text_day_3  ...  \\\n",
       "0                           googleadsgdoubleclicknet  ...   \n",
       "1   linstagramcom adsbetweendigitalcom playgoogle...  ...   \n",
       "\n",
       "  request_cnt_day_4_evening request_cnt_day_4_night request_cnt_day_5_morning  \\\n",
       "0                  1.000000                     0.0                  1.000000   \n",
       "1                  2.083333                     1.0                  1.297297   \n",
       "\n",
       "  request_cnt_day_5_day request_cnt_day_5_evening request_cnt_day_5_night  \\\n",
       "0              1.000000                     1.250                     1.0   \n",
       "1              1.565217                     1.375                     1.0   \n",
       "\n",
       "   request_cnt_day_6_morning  request_cnt_day_6_day  \\\n",
       "0                   1.250000               4.000000   \n",
       "1                   1.411765               1.736842   \n",
       "\n",
       "   request_cnt_day_6_evening  request_cnt_day_6_night  \n",
       "0                     1.6000                      0.0  \n",
       "1                     1.3125                      1.0  \n",
       "\n",
       "[2 rows x 50 columns]"
      ]
     },
     "execution_count": 202,
     "metadata": {},
     "output_type": "execute_result"
    }
   ],
   "source": [
    "feature.head(2)"
   ]
  },
  {
   "cell_type": "markdown",
   "id": "43e7ff7e",
   "metadata": {},
   "source": [
    "## Разбиение data_work - data_submit"
   ]
  },
  {
   "cell_type": "code",
   "execution_count": 203,
   "id": "ddb385da",
   "metadata": {},
   "outputs": [
    {
     "name": "stdout",
     "output_type": "stream",
     "text": [
      "(264296, 53) (144724, 50)\n"
     ]
    }
   ],
   "source": [
    "feature_target = targets.merge(feature, how = 'inner', on = ['user_id'])\n",
    "feature_submit = id_to_submit.merge(feature, how = 'inner', on = ['user_id'])\n",
    "print(feature_target.shape,\n",
    "      feature_submit.shape)\n",
    "\n",
    "#del targets, id_to_submit"
   ]
  },
  {
   "cell_type": "markdown",
   "id": "6ab367fb",
   "metadata": {},
   "source": [
    "## CatBoost"
   ]
  },
  {
   "cell_type": "markdown",
   "id": "9d378549",
   "metadata": {},
   "source": [
    "### Pool"
   ]
  },
  {
   "cell_type": "code",
   "execution_count": 204,
   "id": "5260b62d",
   "metadata": {
    "scrolled": true
   },
   "outputs": [],
   "source": [
    "pool_is_male = Pool(data=feature_target.drop(columns=['age','is_male','user_id','age_target']), label=feature_target['is_male'], embedding_features=embedding_features, text_features=text_features, cat_features=cat_features)\n",
    "pool_age = Pool(data=feature_target.drop(columns=['age','is_male','user_id','age_target']), label=feature_target['age_target'], embedding_features=embedding_features, text_features=text_features, cat_features=cat_features)\n",
    "\n",
    "pool_is_male_submit = Pool(data=feature_submit.drop(columns=['user_id']), embedding_features=embedding_features, text_features=text_features, cat_features=cat_features)\n",
    "pool_age_submit = Pool(data=feature_submit.drop(columns=['user_id']), embedding_features=embedding_features, text_features=text_features, cat_features=cat_features)\n",
    "\n",
    "\n",
    "x_train, x_val, y_train_is_male, y_val_is_male, y_train_age, y_val_age = train_test_split(\\\n",
    "    feature_target.drop(columns=['age','is_male','user_id','age_target']),\\\n",
    "    feature_target['is_male'], \\\n",
    "    feature_target['age_target'], test_size = 0.33, random_state = SPLIT_SEED)\n",
    "\n",
    "\n",
    "pool_train_is_male = Pool(data=x_train, label=y_train_is_male, embedding_features=embedding_features, text_features=text_features, cat_features=cat_features)\n",
    "pool_val_is_male = Pool(data=x_val, label=y_val_is_male, embedding_features=embedding_features, text_features=text_features, cat_features=cat_features)\n",
    "pool_train_age = Pool(data=x_train, label=y_train_age, embedding_features=embedding_features, text_features=text_features, cat_features=cat_features)\n",
    "pool_val_age = Pool(data=x_val, label=y_val_age, embedding_features=embedding_features, text_features=text_features, cat_features=cat_features)\n",
    "\n",
    "#del feature_target, x_train_is_male, x_val_is_male, y_train_is_male, y_val_is_male"
   ]
  },
  {
   "cell_type": "markdown",
   "id": "accb22a8",
   "metadata": {},
   "source": [
    "### is_male"
   ]
  },
  {
   "cell_type": "markdown",
   "id": "fd04bdfb",
   "metadata": {},
   "source": [
    "#### CV"
   ]
  },
  {
   "cell_type": "code",
   "execution_count": 207,
   "id": "111ca843",
   "metadata": {},
   "outputs": [],
   "source": [
    "params_is_male={}\n",
    "params_is_male['loss_function'] = 'Logloss'\n",
    "params_is_male['iterations'] = 2000\n",
    "params_is_male['eval_metric'] = 'AUC'\n",
    "params_is_male['random_seed'] = SPLIT_SEED\n",
    "params_is_male['learning_rate'] = 0.1\n",
    "params_is_male['l2_leaf_reg'] = 2\n",
    "params_is_male['depth'] = 5\n",
    "params_is_male['used_ram_limit']='32gb'\n",
    "params_is_male['task_type'] = 'GPU'\n",
    "#params_is_male['gpu_ram_part']=0.6\n",
    "params_is_male['train_dir'] = \"catboost_cv_is_male\"\n"
   ]
  },
  {
   "cell_type": "code",
   "execution_count": null,
   "id": "a0e63bc6",
   "metadata": {},
   "outputs": [],
   "source": [
    "cv_is_male = cv(\n",
    "    params=params_is_male,\n",
    "    pool=pool_is_male,\n",
    "    fold_count=5,\n",
    "    shuffle=True,\n",
    "    partition_random_seed=SPLIT_SEED,\n",
    "    #plot=True,\n",
    "    stratified=True,\n",
    "    verbose=100\n",
    ")"
   ]
  },
  {
   "cell_type": "markdown",
   "id": "ac97db77",
   "metadata": {},
   "source": [
    "#### model"
   ]
  },
  {
   "cell_type": "code",
   "execution_count": null,
   "id": "40fb1aee",
   "metadata": {},
   "outputs": [],
   "source": [
    "model_is_male = CatBoostClassifier(\n",
    "    iterations=30000,\n",
    "    learning_rate=0.005,\n",
    "    depth = 12,\n",
    "    l2_leaf_reg=5,\n",
    "    loss_function='Logloss',\n",
    "    eval_metric='AUC',\n",
    "    #eval_metric='Accuracy',\n",
    "    task_type = 'GPU',\n",
    "    grow_policy='Lossguide',\n",
    "    #gpu_ram_part=0.6,\n",
    "    #used_ram_limit='32gb',\n",
    "    random_state=SPLIT_SEED,\n",
    "    train_dir = \"catboost_model_is_male\",\n",
    "    #use_best_model = True,\n",
    "    )\n",
    "model_is_male.fit(\n",
    "    pool_train_is_male,\n",
    "    eval_set=(pool_val_is_male),\n",
    "    verbose=100,\n",
    "    plot=True,\n",
    "    )"
   ]
  },
  {
   "cell_type": "code",
   "execution_count": 56,
   "id": "d2db282a",
   "metadata": {
    "scrolled": false
   },
   "outputs": [
    {
     "data": {
      "text/plain": [
       "19826"
      ]
     },
     "execution_count": 56,
     "metadata": {},
     "output_type": "execute_result"
    }
   ],
   "source": [
    "model_is_male.tree_count_"
   ]
  },
  {
   "cell_type": "code",
   "execution_count": 57,
   "id": "ccac8c2a",
   "metadata": {
    "scrolled": false
   },
   "outputs": [
    {
     "name": "stdout",
     "output_type": "stream",
     "text": [
      "GINI по полу 0.7681\n"
     ]
    }
   ],
   "source": [
    "print(f'GINI по полу {2 * m.roc_auc_score(y_val_is_male, model_is_male.predict_proba(pool_val_is_male)[:,1]) - 1:2.4f}')"
   ]
  },
  {
   "cell_type": "raw",
   "id": "aa0e6a1e",
   "metadata": {},
   "source": [
    "    iterations=30000,\n",
    "    learning_rate=0.005,\n",
    "    depth = 9,\n",
    "    l2_leaf_reg=5,\n",
    "    GINI по полу 0.7682\n",
    "    \n",
    "    depth = 12, капельку хуже"
   ]
  },
  {
   "cell_type": "raw",
   "id": "9941264a",
   "metadata": {},
   "source": [
    "===============================\n",
    "4 domains рулит над 3 domains\n",
    "\n",
    "feature_url_only_XX_2_domains_without_dot_text\n",
    "feature_region_text\n",
    "feature_manufacturer_model\n",
    "feature_part_of_day\n",
    "feature_day_of_week\n",
    "feature_price\n",
    "feature_cpe_os\n",
    "GINI 0.7579 lr=0.01\n",
    "\n",
    "feature_url_only_XX_2_domains_without_dot_text\n",
    "feature_url_only_text_workday_weekend_daypart\n",
    "feature_region_text\n",
    "feature_manufacturer_model\n",
    "feature_part_of_day\n",
    "feature_day_of_week\n",
    "feature_price\n",
    "feature_cpe_os\n",
    "GINI 0.7647 lr=0.01\n",
    "\n",
    "feature_url_only_XX_2_domains_without_dot_text\n",
    "feature_url_only_text_morning\n",
    "feature_region_text\n",
    "feature_manufacturer_model\n",
    "feature_part_of_day\n",
    "feature_day_of_week\n",
    "feature_price\n",
    "feature_cpe_os\n",
    "GINI 0.7646 lr=0.01\n",
    "\n",
    "feature_url_only_XX_2_domains_without_dot_text\n",
    "feature_url_only_text_day_0\n",
    "feature_region_text\n",
    "feature_manufacturer_model\n",
    "feature_part_of_day\n",
    "feature_day_of_week\n",
    "feature_price\n",
    "feature_cpe_os\n",
    "GINI 0.7635 lr=0.01\n",
    "\n",
    "feature_url_only_XX_2_domains_without_dot_text  !!!\n",
    "feature_url_only_text_morning\n",
    "feature_url_only_text_day_0\n",
    "feature_region_text\n",
    "feature_manufacturer_model\n",
    "feature_part_of_day\n",
    "feature_day_of_week\n",
    "feature_price\n",
    "feature_cpe_os\n",
    "GINI 0.7656 lr=0.01\n",
    "\n",
    "feature_url_only_XX_2_domains_without_dot_text\n",
    "feature_url_only_text_workday_weekend_daypart\n",
    "feature_url_only_text_morning\n",
    "feature_region_text\n",
    "feature_manufacturer_model\n",
    "feature_part_of_day\n",
    "feature_day_of_week\n",
    "feature_price\n",
    "feature_cpe_os\n",
    "GINI 0.7647 lr=0.01\n",
    "\n",
    "feature_url_only_XX_2_domains_without_dot_text\n",
    "feature_url_only_text_workday_weekend_daypart\n",
    "feature_url_only_text_day_0\n",
    "feature_region_text\n",
    "feature_manufacturer_model\n",
    "feature_part_of_day\n",
    "feature_day_of_week\n",
    "feature_price\n",
    "feature_cpe_os\n",
    "GINI 0.7653 lr=0.01\n",
    "\n",
    "feature_url_only_XX_2_domains_without_dot_text\n",
    "feature_url_only_text_workday_weekend_daypart\n",
    "feature_url_only_text_morning\n",
    "feature_url_only_text_day_0\n",
    "feature_region_text\n",
    "feature_manufacturer_model\n",
    "feature_part_of_day\n",
    "feature_day_of_week\n",
    "feature_price\n",
    "feature_cpe_os\n",
    "GINI 0.7652 lr=0.01\n",
    "\n",
    "feature_url_only_text_workday_weekend_daypart\n",
    "feature_url_only_text_morning\n",
    "feature_url_only_text_day_0\n",
    "feature_region_text\n",
    "feature_manufacturer_model\n",
    "feature_part_of_day\n",
    "feature_day_of_week\n",
    "feature_price\n",
    "feature_cpe_os\n",
    "GINI 0.7563 lr=0.01\n",
    "\n",
    "feature_url_only_XX_2_domains_without_dot_text\n",
    "feature_url_only_text_morning\n",
    "feature_url_only_text_day_0\n",
    "feature_region_text\n",
    "feature_manufacturer_model\n",
    "feature_part_of_day\n",
    "feature_day_of_week\n",
    "feature_price\n",
    "feature_cpe_os\n",
    "feature_request_cnt_workday_part_of_day\n",
    "GINI 0.7657 lr=0.01\n",
    "\n",
    "feature_url_only_XX_2_domains_without_dot_text\n",
    "feature_url_only_text_morning\n",
    "feature_url_only_text_day_0\n",
    "feature_region_text\n",
    "feature_manufacturer_model\n",
    "feature_part_of_day\n",
    "feature_day_of_week\n",
    "feature_price\n",
    "feature_cpe_os\n",
    "feature_request_cnt_weekend_part_of_day\n",
    "GINI 0.7656 lr=0.01\n",
    "\n",
    "feature_url_only_XX_2_domains_without_dot_text\n",
    "feature_url_only_text_morning\n",
    "feature_url_only_text_day_0\n",
    "feature_region_text\n",
    "feature_manufacturer_model\n",
    "feature_part_of_day\n",
    "feature_day_of_week\n",
    "feature_price\n",
    "feature_cpe_os\n",
    "feature_request_cnt_workday_part_of_day\n",
    "feature_request_cnt_weekend_part_of_day\n",
    "GINI 0.7658 lr=0.01\n",
    "\n",
    "feature_url_only_XX_2_domains_without_dot_text\n",
    "feature_url_only_text_morning\n",
    "feature_url_only_text_day_0\n",
    "feature_region_text\n",
    "feature_manufacturer_model\n",
    "feature_part_of_day\n",
    "feature_day_of_week\n",
    "feature_price\n",
    "feature_cpe_os\n",
    "feature_request_cnt_part_of_day\n",
    "GINI 0.7658 lr=0.01\n",
    "\n",
    "feature_url_only_XX_2_domains_without_dot_text\n",
    "feature_url_only_text_morning\n",
    "feature_url_only_text_day_0\n",
    "feature_region_text\n",
    "feature_manufacturer_model\n",
    "feature_part_of_day\n",
    "feature_day_of_week\n",
    "feature_price\n",
    "feature_cpe_os\n",
    "feature_request_cnt_day_of_week\n",
    "GINI 0.7658 lr=0.01  Не дало чего то значимого\n",
    "\n",
    "feature_url_only_XX_2_domains_without_dot_text\n",
    "feature_url_only_text_morning\n",
    "feature_url_only_text_day_0\n",
    "feature_region_text\n",
    "feature_manufacturer_model\n",
    "feature_part_of_day\n",
    "feature_day_of_week\n",
    "feature_price\n",
    "feature_cpe_os\n",
    "feature_request_cnt_part_of_day\n",
    "feature_request_cnt_day_of_week\n",
    "GINI 0.7658 lr=0.01\n",
    "\n",
    "feature_url_only_XX_2_domains_without_dot_text\n",
    "feature_url_only_text_morning\n",
    "feature_url_only_text_day_0\n",
    "feature_region_text\n",
    "feature_manufacturer_model\n",
    "feature_part_of_day\n",
    "feature_day_of_week\n",
    "feature_price\n",
    "feature_cpe_os\n",
    "feature_request_cnt_day_of_week_part_of_day\n",
    "feature_request_cnt_workday_part_of_day\n",
    "feature_request_cnt_weekend_part_of_day\n",
    "feature_request_cnt_part_of_day\n",
    "feature_request_cnt_day_of_week\n",
    "GINI 0.7657 lr=0.01\n",
    "\n",
    "feature_url_only_XX_2_domains_without_dot_text\n",
    "feature_url_only_text_morning\n",
    "feature_url_only_text_day_0\n",
    "feature_region_text\n",
    "feature_manufacturer_model\n",
    "feature_part_of_day\n",
    "feature_day_of_week\n",
    "feature_price\n",
    "feature_cpe_os\n",
    "feature_request_cnt_day_of_week_part_of_day\n",
    "GINI 0.7658 lr=0.01\n",
    "\n",
    "feature_url_only_XX_2_domains_without_dot_text\n",
    "feature_url_only_text_morning\n",
    "feature_url_only_text_day_0\n",
    "feature_region_text\n",
    "feature_manufacturer_model\n",
    "feature_part_of_day\n",
    "feature_price\n",
    "feature_cpe_os\n",
    "feature_request_cnt_day_of_week_part_of_day\n",
    "GINI 0.7658 lr=0.01\n",
    "\n",
    "feature_url_only_XX_2_domains_without_dot_text\n",
    "feature_url_only_text_morning\n",
    "feature_url_only_text_day_0\n",
    "feature_region_text\n",
    "feature_manufacturer_model\n",
    "feature_part_of_day\n",
    "feature_price\n",
    "feature_request_cnt_day_of_week_part_of_day\n",
    "GINI 0.7659 lr=0.01\n",
    "\n",
    "====================================\n",
    "grow_policy='Lossguide'\n",
    "\n",
    "feature_url_only_XX_2_domains_without_dot_text\n",
    "feature_url_only_text_morning\n",
    "feature_url_only_text_day_0\n",
    "feature_region_text\n",
    "feature_manufacturer_model\n",
    "feature_part_of_day\n",
    "feature_price\n",
    "feature_request_cnt_day_of_week_part_of_day\n",
    "GINI 0.7670 lr=0.01"
   ]
  },
  {
   "cell_type": "code",
   "execution_count": null,
   "id": "1dd6fe91",
   "metadata": {},
   "outputs": [],
   "source": [
    "best_score_is_male = 0\n",
    "best_model_is_male =None\n",
    "for grow_policy in ['Lossguide','Depthwise']:\n",
    "    for learning_rate in [0.01,]:\n",
    "        for depth in [3,4,5,6,7,8,9]:\n",
    "            for l2_leaf_reg in [1,2,3,4,5]:\n",
    "                model_is_male = CatBoostClassifier(\n",
    "                    iterations=30000,\n",
    "                    depth = depth,\n",
    "                    l2_leaf_reg=l2_leaf_reg,\n",
    "                    learning_rate=learning_rate,\n",
    "                    loss_function='Logloss',\n",
    "                    eval_metric='AUC',\n",
    "                    grow_policy=grow_policy,\n",
    "                    task_type = 'GPU',\n",
    "                    #gpu_ram_part=0.6,\n",
    "                    used_ram_limit='32gb',\n",
    "                    random_state=SPLIT_SEED,\n",
    "                    train_dir = \"catboost_model_age\",\n",
    "                    #use_best_model = True,\n",
    "                    )\n",
    "                model_is_male.fit(\n",
    "                    pool_train_is_male,\n",
    "                    eval_set=(pool_val_is_male),\n",
    "                    verbose=5000,\n",
    "                    plot=False,\n",
    "                    )\n",
    "                gini = 2 * m.roc_auc_score(y_val_is_male, model_is_male.predict_proba(pool_val_is_male)[:,1]) - 1\n",
    "                \n",
    "                print(f'score_is_male {gini}, best_score {best_score_is_male}')\n",
    "                print(f'depth {depth}, l2_leaf_reg {l2_leaf_reg}, grow_policy {grow_policy}, learning_rate {learning_rate}')\n",
    "                \n",
    "                if gini > best_score_is_male:\n",
    "                    best_score_is_male = gini\n",
    "                    best_model_is_male = model_is_male\n",
    "                    \n",
    "                    id_to_submit['is_male'] = model_is_male.predict_proba(pool_is_male_submit)[:,1]\n",
    "                    id_to_submit.to_parquet(f'id_to_submit_is_male.pqt')\n",
    "                print('--------------------------------')"
   ]
  },
  {
   "cell_type": "markdown",
   "id": "00fc0237",
   "metadata": {},
   "source": [
    "#### randomized_search"
   ]
  },
  {
   "cell_type": "code",
   "execution_count": null,
   "id": "b7bc9282",
   "metadata": {},
   "outputs": [],
   "source": [
    "model_is_male = CatBoostClassifier(iterations=20000, loss_function='Logloss',eval_metric='AUC',task_type = 'GPU')\n",
    "grid = {\n",
    "    'learning_rate': [0.01,0.02, 0.05],\n",
    "    'depth': [4,5,6,7, 8],\n",
    "    'l2_leaf_reg': [1,2,3,4,5,6,7,8, 9],\n",
    "    'grow_policy': ['SymmetricTree']\n",
    "}\n",
    "model_is_male_result = model_is_male.randomized_search(grid, X=pool_train_is_male, stratified=True, verbose=False)"
   ]
  },
  {
   "cell_type": "code",
   "execution_count": null,
   "id": "2e881bf5",
   "metadata": {},
   "outputs": [],
   "source": [
    "print(f'GINI по полу {2 * m.roc_auc_score(y_val_is_male, model_is_male_result.predict_proba(pool_val_is_male)[:,1]) - 1:2.4f}')"
   ]
  },
  {
   "cell_type": "code",
   "execution_count": null,
   "id": "2af39407",
   "metadata": {},
   "outputs": [],
   "source": []
  },
  {
   "cell_type": "markdown",
   "id": "307c6df6",
   "metadata": {},
   "source": [
    "#### submit"
   ]
  },
  {
   "cell_type": "code",
   "execution_count": 53,
   "id": "7c64d4e2",
   "metadata": {},
   "outputs": [],
   "source": [
    "#model_is_male.fit(data_text_2_domains_targets.drop(columns=['age','is_male','user_id','age_target']), data_text_2_domains_targets['is_male'], verbose = False)\n",
    "id_to_submit['is_male'] = model_is_male.predict_proba(pool_is_male_submit)[:,1]"
   ]
  },
  {
   "cell_type": "code",
   "execution_count": 54,
   "id": "29d0ac43",
   "metadata": {},
   "outputs": [],
   "source": [
    "id_to_submit.to_parquet(f'id_to_submit_is_male.pqt')"
   ]
  },
  {
   "cell_type": "markdown",
   "id": "9e168628",
   "metadata": {},
   "source": [
    "### age"
   ]
  },
  {
   "cell_type": "markdown",
   "id": "e272ff33",
   "metadata": {},
   "source": [
    "#### CV"
   ]
  },
  {
   "cell_type": "code",
   "execution_count": 294,
   "id": "dbfc183c",
   "metadata": {},
   "outputs": [],
   "source": [
    "params_age={}\n",
    "params_age['loss_function'] = 'MultiClass'\n",
    "params_age['iterations'] = 2000\n",
    "params_age['eval_metric'] = 'TotalF1'\n",
    "params_age['random_seed'] = SPLIT_SEED\n",
    "params_age['learning_rate'] = 0.1\n",
    "params_age['l2_leaf_reg'] = 2\n",
    "params_age['depth'] = 3\n",
    "params_age['used_ram_limit']='32gb'\n",
    "params_age['task_type'] = 'CPU'\n",
    "#params_age['gpu_ram_part']=0.6\n",
    "params_age['train_dir'] = \"catboost_cv_age\"\n"
   ]
  },
  {
   "cell_type": "code",
   "execution_count": null,
   "id": "536a490b",
   "metadata": {},
   "outputs": [],
   "source": [
    "cv_age = cv(\n",
    "    params=params_age,\n",
    "    pool=pool_age,\n",
    "    fold_count=5,\n",
    "    shuffle=True,\n",
    "    partition_random_seed=SPLIT_SEED,\n",
    "    plot=True,\n",
    "    stratified=True,\n",
    "    verbose=100\n",
    ")"
   ]
  },
  {
   "cell_type": "markdown",
   "id": "a6f8aa52",
   "metadata": {},
   "source": [
    "#### model"
   ]
  },
  {
   "cell_type": "code",
   "execution_count": null,
   "id": "07a210cc",
   "metadata": {},
   "outputs": [],
   "source": [
    "model_age = CatBoostClassifier(\n",
    "    iterations=40000,\n",
    "    learning_rate=0.01,\n",
    "    depth = 7,\n",
    "    l2_leaf_reg=5,\n",
    "    loss_function='MultiClass',\n",
    "    eval_metric='TotalF1',\n",
    "    grow_policy='SymmetricTree',\n",
    "    task_type = 'GPU',\n",
    "    #gpu_ram_part=0.6,\n",
    "    used_ram_limit='32gb',\n",
    "    random_state=SPLIT_SEED,\n",
    "    train_dir = \"catboost_model_age\",\n",
    "    #use_best_model = True,\n",
    "    )\n",
    "model_age.fit(\n",
    "    pool_train_age,\n",
    "    eval_set=(pool_val_age),\n",
    "    verbose=100,\n",
    "    plot=True,\n",
    "    )"
   ]
  },
  {
   "cell_type": "raw",
   "id": "027a02d9",
   "metadata": {},
   "source": [
    "    iterations=15000,\n",
    "    learning_rate=0.02,\n",
    "    0.4627221 (10429)\n",
    "    \n",
    "    =================\n",
    "    \n",
    "    iterations=15000,\n",
    "    learning_rate=0.02,\n",
    "    depth = 7,\n",
    "    l2_leaf_reg=5,\n",
    "    0.4634612 (11138)\n",
    "    \n",
    "    =================\n",
    "    \n",
    "    iterations=15000,\n",
    "    learning_rate=0.02,\n",
    "    depth = 7,\n",
    "    l2_leaf_reg=4,\n",
    "    0.4633497 (13632)\n",
    "    \n",
    "    ==========\n",
    "    \n",
    "    iterations=15000,\n",
    "    learning_rate=0.02,\n",
    "    depth = 6,\n",
    "    l2_leaf_reg=5,\n",
    "    0.4627376 (13047)"
   ]
  },
  {
   "cell_type": "code",
   "execution_count": 100,
   "id": "ef6ad7b1",
   "metadata": {},
   "outputs": [
    {
     "data": {
      "text/plain": [
       "34682"
      ]
     },
     "execution_count": 100,
     "metadata": {},
     "output_type": "execute_result"
    }
   ],
   "source": [
    "model_age.tree_count_"
   ]
  },
  {
   "cell_type": "raw",
   "id": "079d06da",
   "metadata": {
    "scrolled": true
   },
   "source": [
    "w = catboost.MetricVisualizer('/catboost_model_age/')\n",
    "w.start()"
   ]
  },
  {
   "cell_type": "code",
   "execution_count": 123,
   "id": "a56dc018",
   "metadata": {},
   "outputs": [
    {
     "name": "stdout",
     "output_type": "stream",
     "text": [
      "F1 weighted avg:  0.4650983302319715\n"
     ]
    }
   ],
   "source": [
    "report = m.classification_report(y_val_age, model_age.predict(pool_val_age), output_dict=True)\n",
    "f1__weighted_avg = report['weighted avg']['f1-score']\n",
    "print('F1 weighted avg: ', f1__weighted_avg)"
   ]
  },
  {
   "cell_type": "raw",
   "id": "d5682d85",
   "metadata": {},
   "source": [
    "46587"
   ]
  },
  {
   "cell_type": "code",
   "execution_count": 102,
   "id": "a16dc8dc",
   "metadata": {
    "scrolled": true
   },
   "outputs": [
    {
     "name": "stdout",
     "output_type": "stream",
     "text": [
      "              precision    recall  f1-score   support\n",
      "\n",
      "       18-25       0.56      0.42      0.48     10627\n",
      "       25-34       0.53      0.63      0.57     28308\n",
      "       35-44       0.43      0.54      0.48     25029\n",
      "       45-54       0.41      0.26      0.31     13798\n",
      "       55-65       0.41      0.31      0.35      7606\n",
      "         65+       0.44      0.04      0.08      1826\n",
      "\n",
      "    accuracy                           0.48     87194\n",
      "   macro avg       0.46      0.36      0.38     87194\n",
      "weighted avg       0.47      0.48      0.46     87194\n",
      "\n"
     ]
    }
   ],
   "source": [
    "print(m.classification_report(y_val_age, model_age.predict(pool_val_age), \\\n",
    "                            target_names = ['18-25','25-34', '35-44', '45-54', '55-65', '65+']))"
   ]
  },
  {
   "cell_type": "code",
   "execution_count": null,
   "id": "d4bf1f43",
   "metadata": {},
   "outputs": [],
   "source": [
    "best_score_age = 0\n",
    "best_model_age =None\n",
    "for grow_policy in ['SymmetricTree']:\n",
    "    for learning_rate in [0.01]:\n",
    "        for depth in [9]:\n",
    "            for l2_leaf_reg in [3,4,5]:\n",
    "                model_age = CatBoostClassifier(\n",
    "                    iterations=30000,\n",
    "                    depth = depth,\n",
    "                    l2_leaf_reg=l2_leaf_reg,\n",
    "                    learning_rate=learning_rate,\n",
    "                    loss_function='MultiClass',\n",
    "                    eval_metric='TotalF1',\n",
    "                    grow_policy=grow_policy,\n",
    "                    task_type = 'GPU',\n",
    "                    #gpu_ram_part=0.6,\n",
    "                    used_ram_limit='32gb',\n",
    "                    random_state=SPLIT_SEED,\n",
    "                    train_dir = \"catboost_model_age\",\n",
    "                    #use_best_model = True,\n",
    "                    )\n",
    "                model_age.fit(\n",
    "                    pool_train_age,\n",
    "                    eval_set=(pool_val_age),\n",
    "                    verbose=5000,\n",
    "                    plot=False,\n",
    "                    )\n",
    "                report = m.classification_report(y_val_age, model_age.predict(pool_val_age), output_dict=True)\n",
    "                f1__weighted_avg = report['weighted avg']['f1-score']\n",
    "                print(f'f1__weighted_avg {f1__weighted_avg}, best_score_age {best_score_age}')\n",
    "                print(f'depth {depth}, l2_leaf_reg {l2_leaf_reg}, grow_policy {grow_policy}, learning_rate {learning_rate}')\n",
    "                if f1__weighted_avg > best_score:\n",
    "                    best_score_age = f1__weighted_avg\n",
    "                    best_model_age = model_age\n",
    "                    id_to_submit['age'] = model_age.predict(pool_is_male_submit)\n",
    "                    id_to_submit.to_parquet(f'id_to_submit_age.pqt')\n",
    "                print('--------------------------------')"
   ]
  },
  {
   "cell_type": "raw",
   "id": "8b862bf2",
   "metadata": {},
   "source": [
    "===============================\n",
    "4 domains рулит над 3 domains\n",
    "\n",
    "feature_url_only_XX_2_domains_without_dot_text\n",
    "feature_region_text\n",
    "feature_manufacturer_model\n",
    "feature_part_of_day\n",
    "feature_day_of_week\n",
    "feature_price\n",
    "feature_cpe_os\n",
    "F1 weighted avg:  0.45962  lr=0.01\n",
    "\n",
    "feature_url_request_cnt_XX_2_domains_without_dot_text\n",
    "feature_region_text\n",
    "feature_manufacturer_model\n",
    "feature_part_of_day\n",
    "feature_day_of_week\n",
    "feature_price\n",
    "feature_cpe_os\n",
    "F1 weighted avg:  0.45968  lr=0.01\n",
    "\n",
    "feature_url_only_XX_2_domains_without_dot_text\n",
    "feature_url_only_text_workday_weekend_daypart\n",
    "feature_region_text\n",
    "feature_manufacturer_model\n",
    "feature_part_of_day\n",
    "feature_day_of_week\n",
    "feature_price\n",
    "feature_cpe_os\n",
    "F1 weighted avg:  0.46238  lr=0.01\n",
    "\n",
    "feature_url_only_XX_2_domains_without_dot_text\n",
    "feature_url_only_text_morning\n",
    "feature_region_text\n",
    "feature_manufacturer_model\n",
    "feature_part_of_day\n",
    "feature_day_of_week\n",
    "feature_price\n",
    "feature_cpe_os\n",
    "F1 weighted avg:  0.462629  lr=0.01\n",
    "\n",
    "feature_url_only_XX_2_domains_without_dot_text\n",
    "feature_url_only_text_day_0\n",
    "feature_region_text\n",
    "feature_manufacturer_model\n",
    "feature_part_of_day\n",
    "feature_day_of_week\n",
    "feature_price\n",
    "feature_cpe_os\n",
    "F1 weighted avg:  0.46054  lr=0.01\n",
    "\n",
    "feature_url_only_XX_2_domains_without_dot_text    !!!\n",
    "feature_url_only_text_morning\n",
    "feature_url_only_text_day_0\n",
    "feature_region_text\n",
    "feature_manufacturer_model\n",
    "feature_part_of_day\n",
    "feature_day_of_week\n",
    "feature_price\n",
    "feature_cpe_os\n",
    "F1 weighted avg:  0.46272  lr=0.01\n",
    "\n",
    "feature_url_only_XX_2_domains_without_dot_text\n",
    "feature_url_only_text_workday_weekend_daypart\n",
    "feature_url_only_text_morning\n",
    "feature_region_text\n",
    "feature_manufacturer_model\n",
    "feature_part_of_day\n",
    "feature_day_of_week\n",
    "feature_price\n",
    "feature_cpe_os\n",
    "F1 weighted avg:  0.4622  lr=0.01\n",
    "\n",
    "feature_url_only_XX_2_domains_without_dot_text\n",
    "feature_url_only_text_workday_weekend_daypart\n",
    "feature_url_only_text_day_0\n",
    "feature_region_text\n",
    "feature_manufacturer_model\n",
    "feature_part_of_day\n",
    "feature_day_of_week\n",
    "feature_price\n",
    "feature_cpe_os\n",
    "F1 weighted avg:  0.4614  lr=0.01\n",
    "\n",
    "feature_url_only_XX_2_domains_without_dot_text\n",
    "feature_url_only_text_workday_weekend_daypart\n",
    "feature_url_only_text_morning\n",
    "feature_url_only_text_day_0\n",
    "feature_region_text\n",
    "feature_manufacturer_model\n",
    "feature_part_of_day\n",
    "feature_day_of_week\n",
    "feature_price\n",
    "feature_cpe_os\n",
    "F1 weighted avg:  0.461459  lr=0.01\n",
    "\n",
    "feature_url_only_text_workday_weekend_daypart\n",
    "feature_url_only_text_morning\n",
    "feature_url_only_text_day_0\n",
    "feature_region_text\n",
    "feature_manufacturer_model\n",
    "feature_part_of_day\n",
    "feature_day_of_week\n",
    "feature_price\n",
    "feature_cpe_os\n",
    "F1 weighted avg:  0.4554  lr=0.01\n",
    "\n",
    "\n",
    "\n",
    "feature_url_only_XX_2_domains_without_dot_text\n",
    "feature_url_only_text_morning\n",
    "feature_url_only_text_day_0\n",
    "feature_region_text\n",
    "feature_manufacturer_model\n",
    "feature_part_of_day\n",
    "feature_day_of_week\n",
    "feature_price\n",
    "feature_cpe_os\n",
    "feature_request_cnt_workday_part_of_day\n",
    "F1 weighted avg:  0.46242  lr=0.01\n",
    "\n",
    "feature_url_only_XX_2_domains_without_dot_text\n",
    "feature_url_only_text_morning\n",
    "feature_url_only_text_day_0\n",
    "feature_region_text\n",
    "feature_manufacturer_model\n",
    "feature_part_of_day\n",
    "feature_day_of_week\n",
    "feature_price\n",
    "feature_cpe_os\n",
    "feature_request_cnt_weekend_part_of_day\n",
    "F1 weighted avg:  0.462  lr=0.01\n",
    "\n",
    "feature_url_only_XX_2_domains_without_dot_text\n",
    "feature_url_only_text_morning\n",
    "feature_url_only_text_day_0\n",
    "feature_region_text\n",
    "feature_manufacturer_model\n",
    "feature_part_of_day\n",
    "feature_day_of_week\n",
    "feature_price\n",
    "feature_cpe_os\n",
    "feature_request_cnt_workday_part_of_day\n",
    "feature_request_cnt_weekend_part_of_day\n",
    "F1 weighted avg:  0.46215  lr=0.01\n",
    "\n",
    "feature_url_only_XX_2_domains_without_dot_text\n",
    "feature_url_only_text_morning\n",
    "feature_url_only_text_day_0\n",
    "feature_region_text\n",
    "feature_manufacturer_model\n",
    "feature_part_of_day\n",
    "feature_day_of_week\n",
    "feature_price\n",
    "feature_cpe_os\n",
    "feature_request_cnt_part_of_day\n",
    "F1 weighted avg:  0.46222  lr=0.01\n",
    "\n",
    "feature_url_only_XX_2_domains_without_dot_text\n",
    "feature_url_only_text_morning\n",
    "feature_url_only_text_day_0\n",
    "feature_region_text\n",
    "feature_manufacturer_model\n",
    "feature_part_of_day\n",
    "feature_day_of_week\n",
    "feature_price\n",
    "feature_cpe_os\n",
    "feature_request_cnt_day_of_week\n",
    "F1 weighted avg:  0.46222  lr=0.01 Не дало чего то значимого\n",
    "\n",
    "feature_url_only_XX_2_domains_without_dot_text\n",
    "feature_url_only_text_morning\n",
    "feature_url_only_text_day_0\n",
    "feature_region_text\n",
    "feature_manufacturer_model\n",
    "feature_part_of_day\n",
    "feature_day_of_week\n",
    "feature_price\n",
    "feature_cpe_os\n",
    "feature_request_cnt_part_of_day\n",
    "feature_request_cnt_day_of_week\n",
    "F1 weighted avg:  0.4619125  lr=0.01\n",
    "\n",
    "feature_url_only_XX_2_domains_without_dot_text\n",
    "feature_url_only_text_morning\n",
    "feature_url_only_text_day_0\n",
    "feature_region_text\n",
    "feature_manufacturer_model\n",
    "feature_part_of_day\n",
    "feature_day_of_week\n",
    "feature_price\n",
    "feature_cpe_os\n",
    "feature_request_cnt_day_of_week_part_of_day\n",
    "feature_request_cnt_workday_part_of_day\n",
    "feature_request_cnt_weekend_part_of_day\n",
    "feature_request_cnt_part_of_day\n",
    "feature_request_cnt_day_of_week\n",
    "F1 weighted avg:  0.46216  lr=0.01\n",
    "\n",
    "\n",
    "feature_url_only_XX_2_domains_without_dot_text\n",
    "feature_url_only_text_morning\n",
    "feature_url_only_text_day_0\n",
    "feature_region_text\n",
    "feature_manufacturer_model\n",
    "feature_part_of_day\n",
    "feature_day_of_week\n",
    "feature_price\n",
    "feature_cpe_os\n",
    "feature_request_cnt_day_of_week_part_of_day\n",
    "F1 weighted avg:  0.46260  lr=0.01\n",
    "\n",
    "feature_url_only_XX_2_domains_without_dot_text\n",
    "feature_url_only_text_morning\n",
    "feature_url_only_text_day_0\n",
    "feature_region_text\n",
    "feature_manufacturer_model\n",
    "feature_part_of_day\n",
    "feature_price\n",
    "feature_cpe_os\n",
    "feature_request_cnt_day_of_week_part_of_day\n",
    "F1 weighted avg:  0.46272  lr=0.01\n",
    "\n",
    "feature_url_only_XX_2_domains_without_dot_text\n",
    "feature_url_only_text_morning\n",
    "feature_url_only_text_day_0\n",
    "feature_region_text\n",
    "feature_manufacturer_model\n",
    "feature_part_of_day\n",
    "feature_price\n",
    "feature_request_cnt_day_of_week_part_of_day\n",
    "F1 weighted avg:  0.462688  lr=0.01\n",
    "\n",
    "===================================\n",
    "age граница класса 1 - 1\n",
    "\n",
    "feature_url_only_XX_2_domains_without_dot_text\n",
    "feature_url_only_text_morning\n",
    "feature_url_only_text_day_0\n",
    "feature_region_text\n",
    "feature_manufacturer_model\n",
    "feature_part_of_day\n",
    "feature_price\n",
    "feature_request_cnt_day_of_week_part_of_day\n",
    "F1 weighted avg:  0.465  lr=0.01"
   ]
  },
  {
   "cell_type": "markdown",
   "id": "986a3eb2",
   "metadata": {},
   "source": [
    "#### submit"
   ]
  },
  {
   "cell_type": "code",
   "execution_count": 124,
   "id": "057eed20",
   "metadata": {},
   "outputs": [
    {
     "name": "stdout",
     "output_type": "stream",
     "text": [
      "CPU times: total: 2min 59s\n",
      "Wall time: 15.5 s\n"
     ]
    }
   ],
   "source": [
    "%%time\n",
    "#model_age.fit(pool_age, verbose = False)\n",
    "id_to_submit['age'] = model_age.predict(pool_is_male_submit)"
   ]
  },
  {
   "cell_type": "code",
   "execution_count": 125,
   "id": "2d7468b2",
   "metadata": {},
   "outputs": [],
   "source": [
    "id_to_submit.to_parquet(f'id_to_submit_age.pqt')"
   ]
  },
  {
   "cell_type": "markdown",
   "id": "7996b2f3",
   "metadata": {},
   "source": [
    "## Submit"
   ]
  },
  {
   "cell_type": "code",
   "execution_count": 144,
   "id": "5cdeda59",
   "metadata": {},
   "outputs": [],
   "source": [
    "id_to_submit_is_male = pd.read_parquet(f'id_to_submit_is_male.pqt')\n",
    "id_to_submit_age = pd.read_parquet(f'id_to_submit_age.pqt')"
   ]
  },
  {
   "cell_type": "code",
   "execution_count": 131,
   "id": "9f89dfbf",
   "metadata": {
    "scrolled": true
   },
   "outputs": [],
   "source": [
    "id_to_submit=id_to_submit_is_male\n",
    "id_to_submit['age'] = id_to_submit_age['age']"
   ]
  },
  {
   "cell_type": "code",
   "execution_count": 132,
   "id": "ff5599fb",
   "metadata": {},
   "outputs": [
    {
     "data": {
      "text/html": [
       "<div>\n",
       "<style scoped>\n",
       "    .dataframe tbody tr th:only-of-type {\n",
       "        vertical-align: middle;\n",
       "    }\n",
       "\n",
       "    .dataframe tbody tr th {\n",
       "        vertical-align: top;\n",
       "    }\n",
       "\n",
       "    .dataframe thead th {\n",
       "        text-align: right;\n",
       "    }\n",
       "</style>\n",
       "<table border=\"1\" class=\"dataframe\">\n",
       "  <thead>\n",
       "    <tr style=\"text-align: right;\">\n",
       "      <th></th>\n",
       "      <th>user_id</th>\n",
       "      <th>is_male</th>\n",
       "      <th>age</th>\n",
       "    </tr>\n",
       "  </thead>\n",
       "  <tbody>\n",
       "    <tr>\n",
       "      <th>221301</th>\n",
       "      <td>221301</td>\n",
       "      <td>0.854883</td>\n",
       "      <td>2</td>\n",
       "    </tr>\n",
       "    <tr>\n",
       "      <th>31271</th>\n",
       "      <td>31271</td>\n",
       "      <td>0.452042</td>\n",
       "      <td>3</td>\n",
       "    </tr>\n",
       "    <tr>\n",
       "      <th>211594</th>\n",
       "      <td>211594</td>\n",
       "      <td>0.502376</td>\n",
       "      <td>2</td>\n",
       "    </tr>\n",
       "    <tr>\n",
       "      <th>253119</th>\n",
       "      <td>253119</td>\n",
       "      <td>0.464539</td>\n",
       "      <td>2</td>\n",
       "    </tr>\n",
       "    <tr>\n",
       "      <th>192578</th>\n",
       "      <td>192578</td>\n",
       "      <td>0.883080</td>\n",
       "      <td>3</td>\n",
       "    </tr>\n",
       "    <tr>\n",
       "      <th>...</th>\n",
       "      <td>...</td>\n",
       "      <td>...</td>\n",
       "      <td>...</td>\n",
       "    </tr>\n",
       "    <tr>\n",
       "      <th>145307</th>\n",
       "      <td>415284</td>\n",
       "      <td>0.528131</td>\n",
       "      <td>2</td>\n",
       "    </tr>\n",
       "    <tr>\n",
       "      <th>145308</th>\n",
       "      <td>415285</td>\n",
       "      <td>0.607336</td>\n",
       "      <td>3</td>\n",
       "    </tr>\n",
       "    <tr>\n",
       "      <th>145309</th>\n",
       "      <td>415286</td>\n",
       "      <td>0.453190</td>\n",
       "      <td>3</td>\n",
       "    </tr>\n",
       "    <tr>\n",
       "      <th>145312</th>\n",
       "      <td>415306</td>\n",
       "      <td>0.654481</td>\n",
       "      <td>2</td>\n",
       "    </tr>\n",
       "    <tr>\n",
       "      <th>145315</th>\n",
       "      <td>415315</td>\n",
       "      <td>0.424097</td>\n",
       "      <td>3</td>\n",
       "    </tr>\n",
       "  </tbody>\n",
       "</table>\n",
       "<p>144724 rows × 3 columns</p>\n",
       "</div>"
      ],
      "text/plain": [
       "        user_id   is_male  age\n",
       "221301   221301  0.854883    2\n",
       "31271     31271  0.452042    3\n",
       "211594   211594  0.502376    2\n",
       "253119   253119  0.464539    2\n",
       "192578   192578  0.883080    3\n",
       "...         ...       ...  ...\n",
       "145307   415284  0.528131    2\n",
       "145308   415285  0.607336    3\n",
       "145309   415286  0.453190    3\n",
       "145312   415306  0.654481    2\n",
       "145315   415315  0.424097    3\n",
       "\n",
       "[144724 rows x 3 columns]"
      ]
     },
     "execution_count": 132,
     "metadata": {},
     "output_type": "execute_result"
    }
   ],
   "source": [
    "id_to_submit"
   ]
  },
  {
   "cell_type": "code",
   "execution_count": 133,
   "id": "621df769",
   "metadata": {},
   "outputs": [],
   "source": [
    "id_to_submit.to_csv(f'{LOCAL_DATA_PATH}/submission.csv', index = False)"
   ]
  },
  {
   "cell_type": "code",
   "execution_count": null,
   "id": "4399bdf8",
   "metadata": {},
   "outputs": [],
   "source": []
  }
 ],
 "metadata": {
  "kernelspec": {
   "display_name": "Python 3 (ipykernel)",
   "language": "python",
   "name": "python3"
  },
  "language_info": {
   "codemirror_mode": {
    "name": "ipython",
    "version": 3
   },
   "file_extension": ".py",
   "mimetype": "text/x-python",
   "name": "python",
   "nbconvert_exporter": "python",
   "pygments_lexer": "ipython3",
   "version": "3.10.4"
  },
  "toc": {
   "base_numbering": 1,
   "nav_menu": {},
   "number_sections": true,
   "sideBar": true,
   "skip_h1_title": true,
   "title_cell": "Table of Contents",
   "title_sidebar": "Contents",
   "toc_cell": false,
   "toc_position": {
    "height": "calc(100% - 180px)",
    "left": "10px",
    "top": "150px",
    "width": "384px"
   },
   "toc_section_display": true,
   "toc_window_display": true
  }
 },
 "nbformat": 4,
 "nbformat_minor": 5
}
